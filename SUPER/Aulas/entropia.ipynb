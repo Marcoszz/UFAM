{
 "cells": [
  {
   "cell_type": "markdown",
   "metadata": {},
   "source": [
    "# Funções para calcular entropia"
   ]
  },
  {
   "cell_type": "code",
   "execution_count": 1,
   "metadata": {},
   "outputs": [],
   "source": [
    "import numpy as np\n",
    "import pandas as pd\n",
    "\n",
    "\n",
    "def info(freq):\n",
    "    freq = [x for x in freq if x != 0] # remove zeros\n",
    "    if len(freq) == 0:                 # [0], [0,0], [0,0,0] etc têm informação 0\n",
    "        return 0\n",
    "    \n",
    "    freq = np.array(freq, dtype=np.float)\n",
    "    total = freq.sum()\n",
    "    \n",
    "    fracoes = freq/total\n",
    "    logs = np.log2(fracoes)\n",
    "    \n",
    "    somatorio = (fracoes * logs).sum()\n",
    "    \n",
    "    return -somatorio\n",
    "\n",
    "\n",
    "def infomedia(bins):\n",
    "    contagem = 0\n",
    "    for b in bins:\n",
    "        contagem += sum(b)\n",
    "        \n",
    "    info_media = 0\n",
    "    for b in bins:\n",
    "        info_media += sum(b)/contagem * info(b)\n",
    "    \n",
    "    return info_media\n",
    "\n",
    "def  ganho(ini, part):\n",
    "    return info(ini) - infomedia(part)\n",
    "\n",
    "def gr(ini, part):\n",
    "    x = []\n",
    "    for p in part:\n",
    "        x.append(sum(p))\n",
    "\n",
    "    print(f\"info({ini}) = {info(ini)}\")\n",
    "    print(f\"ganho: info({ini}) - info({part}) = {ganho(ini,part)}\")\n",
    "    print(f\"split info: info({x}) = {info(x)}\")\n",
    "    print(f\"gr = {ganho(ini,part)/info(x)}\")\n",
    "    return ganho(ini, part) / info(x)"
   ]
  },
  {
   "cell_type": "markdown",
   "metadata": {},
   "source": [
    "A função `info([f1, f2, f3, ...])` calcula a quantidade de informação (entropia) de uma variável aleatória cujas frequências absolutas podem ser descritas em proporções de $f_1$, $f_2$, $f_3$, ...\n",
    "\n",
    "Entropia de uma moeda honesta:"
   ]
  },
  {
   "cell_type": "code",
   "execution_count": 13,
   "metadata": {},
   "outputs": [
    {
     "data": {
      "text/plain": [
       "1.3787834934861753"
      ]
     },
     "execution_count": 13,
     "metadata": {},
     "output_type": "execute_result"
    }
   ],
   "source": [
    "info([1,4,2])"
   ]
  },
  {
   "cell_type": "code",
   "execution_count": 20,
   "metadata": {},
   "outputs": [
    {
     "data": {
      "text/plain": [
       "0.9182958340544896"
      ]
     },
     "execution_count": 20,
     "metadata": {},
     "output_type": "execute_result"
    }
   ],
   "source": [
    "info([0,2,1])"
   ]
  },
  {
   "cell_type": "markdown",
   "metadata": {},
   "source": [
    "Entropia de um dado honesto de 6 lados:"
   ]
  },
  {
   "cell_type": "code",
   "execution_count": 4,
   "metadata": {},
   "outputs": [
    {
     "data": {
      "text/plain": [
       "2.584962500721156"
      ]
     },
     "execution_count": 4,
     "metadata": {},
     "output_type": "execute_result"
    }
   ],
   "source": [
    "info([1,1,1,1,1,1])"
   ]
  },
  {
   "cell_type": "markdown",
   "metadata": {},
   "source": [
    "Entropia de um espaço de decisão que possui 9 exemplos de uma classe $c_1$ e 6 exemplos de uma classe $c_2$:"
   ]
  },
  {
   "cell_type": "code",
   "execution_count": 5,
   "metadata": {},
   "outputs": [
    {
     "data": {
      "text/plain": [
       "0.9709505944546686"
      ]
     },
     "execution_count": 5,
     "metadata": {},
     "output_type": "execute_result"
    }
   ],
   "source": [
    "info([9,6])"
   ]
  },
  {
   "cell_type": "markdown",
   "metadata": {},
   "source": [
    "A função `infomedia([bin1, bin2, bin3, ..., binN])` pode ser usada para calcular a informação de uma divisão que produz $N$ sub-espaços.\n",
    "\n",
    "Exemplo. Informação média dos sub-espaço gerados pelo atributo `temperatura` na raiz do conjunto de dados `tennis`:\n",
    "\n",
    "                    temperatura\n",
    "                        |\n",
    "        quente          |moderado          frio\n",
    "       .-------------------------------------.               \n",
    "       |                |                    |\n",
    "    [2, 2]           [4, 2]              [3, 1]\n",
    "\n",
    "$\\text{info}([3,1], [2,3])$:"
   ]
  },
  {
   "cell_type": "code",
   "execution_count": 6,
   "metadata": {},
   "outputs": [
    {
     "data": {
      "text/plain": [
       "0.9110633930116763"
      ]
     },
     "execution_count": 6,
     "metadata": {},
     "output_type": "execute_result"
    }
   ],
   "source": [
    "infomedia([[2,2], [4,2], [3,1]])"
   ]
  },
  {
   "cell_type": "markdown",
   "metadata": {},
   "source": [
    "A função `ganho(original, [bin1,bin2,...])` é um atalho para `info(original) - infomedia([bin1,bin2,...])`.\n",
    "\n",
    "Ganho do atributo `temperatura` na raiz do conjunto de dados `tennis`.\n",
    "\n",
    "                    temperatura\n",
    "                        |\n",
    "        quente          |moderado          frio\n",
    "       .-------------------------------------.               \n",
    "       |                |                    |\n",
    "    [2, 2]           [4, 2]              [3, 1]"
   ]
  },
  {
   "cell_type": "code",
   "execution_count": 7,
   "metadata": {},
   "outputs": [
    {
     "data": {
      "text/plain": [
       "0.02922256565895487"
      ]
     },
     "execution_count": 7,
     "metadata": {},
     "output_type": "execute_result"
    }
   ],
   "source": [
    "ganho([2+4+3, 2+2+1], [[2,2], [4,2], [3,1]])"
   ]
  },
  {
   "cell_type": "markdown",
   "metadata": {},
   "source": [
    "Ganho do atributo `aparência` na raiz do conjunto de dados `tennis`.\n",
    "\n",
    "                        aparência\n",
    "                            |\n",
    "        ensolarado          |nublado        chuvoso\n",
    "       .-----------------------------------------.               \n",
    "       |                    |                    |\n",
    "    [2, 3]               [4, 0]                [3, 2]"
   ]
  },
  {
   "cell_type": "markdown",
   "metadata": {},
   "source": [
    "## Testes"
   ]
  },
  {
   "cell_type": "code",
   "execution_count": 10,
   "metadata": {},
   "outputs": [
    {
     "data": {
      "text/plain": [
       "0.9709505944546686"
      ]
     },
     "execution_count": 10,
     "metadata": {},
     "output_type": "execute_result"
    }
   ],
   "source": [
    "info([2, 3])"
   ]
  },
  {
   "cell_type": "code",
   "execution_count": 4,
   "metadata": {},
   "outputs": [
    {
     "data": {
      "text/plain": [
       "2.0"
      ]
     },
     "execution_count": 4,
     "metadata": {},
     "output_type": "execute_result"
    }
   ],
   "source": [
    "info([1,1,1,1])"
   ]
  },
  {
   "cell_type": "code",
   "execution_count": 5,
   "metadata": {},
   "outputs": [
    {
     "data": {
      "text/plain": [
       "1.5"
      ]
     },
     "execution_count": 5,
     "metadata": {},
     "output_type": "execute_result"
    }
   ],
   "source": [
    "info([2,1,1,0])"
   ]
  }
 ],
 "metadata": {
  "kernelspec": {
   "display_name": "Python 3",
   "language": "python",
   "name": "python3"
  },
  "language_info": {
   "codemirror_mode": {
    "name": "ipython",
    "version": 3
   },
   "file_extension": ".py",
   "mimetype": "text/x-python",
   "name": "python",
   "nbconvert_exporter": "python",
   "pygments_lexer": "ipython3",
   "version": "3.8.2"
  }
 },
 "nbformat": 4,
 "nbformat_minor": 2
}
