{
  "nbformat": 4,
  "nbformat_minor": 0,
  "metadata": {
    "colab": {
      "name": "kNN_empty",
      "provenance": [],
      "collapsed_sections": []
    },
    "kernelspec": {
      "name": "python3",
      "display_name": "Python 3"
    }
  },
  "cells": [
    {
      "cell_type": "markdown",
      "metadata": {
        "id": "ZqA1ule2LaAZ",
        "colab_type": "text"
      },
      "source": [
        "**kNN**\n",
        "\n",
        "![alt text](http://res.cloudinary.com/dyd911kmh/image/upload/f_auto,q_auto:best/v1531424125/KNN_final1_ibdm8a.png)"
      ]
    },
    {
      "cell_type": "markdown",
      "metadata": {
        "id": "aSJfmDAXGPaP",
        "colab_type": "text"
      },
      "source": [
        "Distâncias:\n",
        "\n",
        "Euclidian: $d(x,y) = \\sqrt{(x_1 - y_1)^2+(x_2 - y_2)^2+...+(x_n - y_n)^2}$\n",
        "\n",
        "City block: $d(x,y) = |x_1 - y_1|+|x_2 - y_2|+...+|x_n - y_n|$\n",
        "\n",
        "Cosine: $d(x,y) = \\frac{\\sum_i x_i y_i}{\\sqrt{\\sum_i x_i^2}\\sqrt{\\sum_i y_i^2}}$\n",
        "\n",
        "e muitas outras..."
      ]
    },
    {
      "cell_type": "code",
      "metadata": {
        "id": "qnM2cdks9F3N",
        "colab_type": "code",
        "colab": {}
      },
      "source": [
        "# upload files, ou primeiro carregar o arquivo no menu lateral\n"
      ],
      "execution_count": 1,
      "outputs": []
    },
    {
      "cell_type": "code",
      "metadata": {
        "id": "yIXVwLUgLhrk",
        "colab_type": "code",
        "colab": {}
      },
      "source": [
        "# verificar\n"
      ],
      "execution_count": 2,
      "outputs": []
    },
    {
      "cell_type": "code",
      "metadata": {
        "id": "i0LIQ0NaLcvr",
        "colab_type": "code",
        "colab": {}
      },
      "source": [
        "# dataframe\n"
      ],
      "execution_count": 3,
      "outputs": []
    },
    {
      "cell_type": "code",
      "metadata": {
        "id": "_tceHKw_L1Sd",
        "colab_type": "code",
        "colab": {}
      },
      "source": [
        "# filling NaN (missing values)\n"
      ],
      "execution_count": 4,
      "outputs": []
    },
    {
      "cell_type": "code",
      "metadata": {
        "id": "YqRas3li9fi1",
        "colab_type": "code",
        "colab": {}
      },
      "source": [
        "# explorando os dados com histogramas"
      ],
      "execution_count": 5,
      "outputs": []
    },
    {
      "cell_type": "code",
      "metadata": {
        "id": "2PBOpcKxCdCs",
        "colab_type": "code",
        "colab": {}
      },
      "source": [
        "# explorando correlação entre as variáveis\n"
      ],
      "execution_count": 6,
      "outputs": []
    },
    {
      "cell_type": "code",
      "metadata": {
        "id": "JCRqUHnNOvS_",
        "colab_type": "code",
        "colab": {}
      },
      "source": [
        "# Remove the target variable from the training set\n"
      ],
      "execution_count": 7,
      "outputs": []
    },
    {
      "cell_type": "code",
      "metadata": {
        "id": "KqjpjjrQPPVD",
        "colab_type": "code",
        "colab": {}
      },
      "source": [
        "# feature encoders\n"
      ],
      "execution_count": 8,
      "outputs": []
    },
    {
      "cell_type": "code",
      "metadata": {
        "id": "g2EAxvTsCLB3",
        "colab_type": "code",
        "colab": {}
      },
      "source": [
        "# Novos histogramas\n"
      ],
      "execution_count": 9,
      "outputs": []
    },
    {
      "cell_type": "code",
      "metadata": {
        "id": "aewb8ckTS9Yr",
        "colab_type": "code",
        "colab": {}
      },
      "source": [
        "# treino e teste\n"
      ],
      "execution_count": 10,
      "outputs": []
    },
    {
      "cell_type": "code",
      "metadata": {
        "id": "H9m7KVBgNqmG",
        "colab_type": "code",
        "colab": {}
      },
      "source": [
        "# classificação e matriz de confusão\n"
      ],
      "execution_count": 11,
      "outputs": []
    },
    {
      "cell_type": "code",
      "metadata": {
        "id": "O8qKZdPO-Xo6",
        "colab_type": "code",
        "colab": {}
      },
      "source": [
        "# comparando com um classificador de classe maioritáária\n"
      ],
      "execution_count": 12,
      "outputs": []
    },
    {
      "cell_type": "markdown",
      "metadata": {
        "id": "3JO0uQK6FCNK",
        "colab_type": "text"
      },
      "source": [
        "**Efeito do parametro k**\n",
        "\n",
        "![alt text](http://res.cloudinary.com/dyd911kmh/image/upload/f_auto,q_auto:best/v1531424125/KNN_final_a1mrv9.png)"
      ]
    },
    {
      "cell_type": "code",
      "metadata": {
        "id": "a2T8CLh8AWfd",
        "colab_type": "code",
        "colab": {}
      },
      "source": [
        "# parameter search\n"
      ],
      "execution_count": 13,
      "outputs": []
    },
    {
      "cell_type": "markdown",
      "metadata": {
        "id": "nTBfptwJIRmR",
        "colab_type": "text"
      },
      "source": [
        "Perguntas finais\n",
        "\n",
        "Porque devemos evitar k=1?\n",
        "\n",
        "Como podemos diminuir computacional da classificação?"
      ]
    }
  ]
}