{
 "cells": [
  {
   "cell_type": "markdown",
   "metadata": {
    "colab_type": "text",
    "id": "5Q936NDXKXYD"
   },
   "source": [
    "## <h3 align=\"center\"> **Atividade Prática**</h3> \n",
    "\n",
    "\n",
    "\n",
    "\n",
    "<h3 align=\"center\"> Data: 21-07-2020 </h3> "
   ]
  },
  {
   "cell_type": "markdown",
   "metadata": {
    "colab_type": "text",
    "id": "5XBdCvyUTLmg"
   },
   "source": [
    "# Vamos iniciar trabalhando com os diferentes métodos de geração de conjuntos de classificadores. \n"
   ]
  },
  {
   "cell_type": "code",
   "execution_count": null,
   "metadata": {
    "colab": {},
    "colab_type": "code",
    "id": "B_pypY8nZ2v3"
   },
   "outputs": [],
   "source": [
    "# Importando bibliotecas necessárias\n",
    "import matplotlib\n",
    "import matplotlib.pyplot as plt\n",
    "import numpy as np\n",
    "import sklearn"
   ]
  },
  {
   "cell_type": "markdown",
   "metadata": {
    "colab_type": "text",
    "id": "aiVGWEYQA_QZ"
   },
   "source": [
    "Vamos utilizar a base **Iris**"
   ]
  },
  {
   "cell_type": "code",
   "execution_count": null,
   "metadata": {
    "colab": {},
    "colab_type": "code",
    "id": "mw58wRPx5D7V"
   },
   "outputs": [],
   "source": [
    "from sklearn.datasets import load_iris\n",
    "iris_dataset = load_iris()"
   ]
  },
  {
   "cell_type": "markdown",
   "metadata": {
    "colab_type": "text",
    "id": "mMNTVd9q5Cxj"
   },
   "source": [
    "Relembrando a base Iris\n",
    "\n",
    "\n",
    "---\n",
    "\n",
    "\n",
    "![texto alternativo](https://drive.google.com/uc?export=view&id=1y60Qw8n06cfSgDXL_sqHFaTYQl-tTpmE) "
   ]
  },
  {
   "cell_type": "code",
   "execution_count": null,
   "metadata": {
    "colab": {},
    "colab_type": "code",
    "id": "MkHEgR0f5gwR"
   },
   "outputs": [],
   "source": [
    "print(iris_dataset['DESCR'][:193] + \"\\n...\")"
   ]
  },
  {
   "cell_type": "code",
   "execution_count": null,
   "metadata": {
    "colab": {},
    "colab_type": "code",
    "id": "hdDKxV51mTEZ"
   },
   "outputs": [],
   "source": [
    "iris_dataset"
   ]
  },
  {
   "cell_type": "code",
   "execution_count": null,
   "metadata": {
    "colab": {},
    "colab_type": "code",
    "id": "BsHbaPDa4uvC"
   },
   "outputs": [],
   "source": [
    "# Particionando a base em treino e teste\n",
    "from sklearn.model_selection import train_test_split\n",
    "X_train, X_test, y_train, y_test = train_test_split(\n",
    "    iris_dataset['data'], iris_dataset['target'], random_state=0)"
   ]
  },
  {
   "cell_type": "code",
   "execution_count": null,
   "metadata": {
    "colab": {},
    "colab_type": "code",
    "id": "xbwTfC0h-zVB"
   },
   "outputs": [],
   "source": [
    "#Como as estão distribuídas entre as partições\n",
    "print(\"Particao de Treino\", X_train.shape)\n",
    "print(\"Particao de Teste\", X_test.shape)"
   ]
  },
  {
   "cell_type": "markdown",
   "metadata": {
    "colab_type": "text",
    "id": "gLO79FJLaw5j"
   },
   "source": [
    "## **Será que um comitê é sempre melhor do que um preditor individual?**\n",
    " Aqui, nós vamos comparar Bagging, Boosting e Random Forest, todos utilizados com o Árvore de Decisão como algoritmo de base. \n",
    " Nós vamos comparar o resultado obtido por cada método de geração de conjunto com o resultado de uma árvore de decisão."
   ]
  },
  {
   "cell_type": "code",
   "execution_count": null,
   "metadata": {
    "colab": {},
    "colab_type": "code",
    "id": "xbXLa_eU_E0S"
   },
   "outputs": [],
   "source": [
    "# Chamando os métodos que serão utilizados\n",
    "from sklearn.tree import DecisionTreeClassifier\n",
    "from sklearn.ensemble import BaggingClassifier\n",
    "from sklearn.ensemble import RandomForestClassifier\n",
    "from sklearn.ensemble import AdaBoostClassifier\n",
    "from sklearn.ensemble import GradientBoostingClassifier\n",
    "\n",
    "# Para avaliação\n",
    "from sklearn.metrics import accuracy_score\n"
   ]
  },
  {
   "cell_type": "markdown",
   "metadata": {
    "colab_type": "text",
    "id": "A-YZPlBRvkxC"
   },
   "source": [
    "Agora,vamos testar os métodos de geração de conjuntos básicos todos utilizando Árvores de Decisão como Classificadores de base"
   ]
  },
  {
   "cell_type": "code",
   "execution_count": null,
   "metadata": {
    "colab": {
     "base_uri": "https://localhost:8080/",
     "height": 35
    },
    "colab_type": "code",
    "executionInfo": {
     "elapsed": 1066,
     "status": "ok",
     "timestamp": 1595538647006,
     "user": {
      "displayName": "Eulanda Santos",
      "photoUrl": "https://lh3.googleusercontent.com/a-/AOh14GhIc9qaWFbSfv3JRROSvfTk1-C5Br3NxZYnY38BQV8I9pr4mIxvM9VgJnwWWWE1QtwjabG2ZN9eTMcEqaA5Yzwnz5jxvkr7GyL5b_Oi7k9hlf3IrAtv6UnFxB7IKXT47K5XLfa9CS_M3b1krKwOyQP5VDsPwCj8DEESIO1MlYAVBRiFa8ibtBCKDNHIw5SYRkcKQ7MEJHvpM03LfN3JbNxJ4qj8Rm7kymvO-6Zrc-cd5jX0eXtEjm_gounS9gtoZhuKitHRO1LC4ILV14UdGsWHbZpxDu6pK1zapB36ZGo_mjc2AhyPNFCV0tg2wdbI6UT_JEFeChb-FGlDmui084A7gKtqw5wVkWKBGymarvEndXaC_Wjlg_V-HjXXwaF-9xC7coVGz5CuNWsmEcrdrcc1IsfDWypW3bPGZRFFb6G9jLUFMm7m5nQkLwN4Je-dDIwo0n_N3Cn3ZWFsHS-Zh2zD8XbjuT34U2rHZ7xxEsaapYxvyIIbvud70CnigkKV7v9NPBu933fip-imBajECGap9uBS2tfQPOGMWYpy25MiM_1kf9pMSEcV3A49dh4V1iTtjqId7A5sRZXJgSWM5Zl8RSJY121mOs5aZXTHqPB6huiu514TYf8aq7GB9MoTINIj7EddpWrt59Lt4bvcFVIOMYVA2R4cbIJ6drNNfJfo0y441_yij2021WxVhLj6Hl5ZAhW1oZXvTQBms7cR7zdCJidlcXAuDtInTwSqEhjnp1vPv5aGl7EC_EWi6IljwNh4IA=s64",
      "userId": "04288734832196105327"
     },
     "user_tz": 240
    },
    "id": "8qxgOYvPc9T7",
    "outputId": "eb5002ac-dcbf-4ace-a690-c53eb90a7131"
   },
   "outputs": [
    {
     "name": "stdout",
     "output_type": "stream",
     "text": [
      "0.9736842105263158\n"
     ]
    }
   ],
   "source": [
    "#Bagging : gerando o modelo\n",
    "\n",
    "bag_clf = BaggingClassifier(DecisionTreeClassifier(), n_estimators=15)\n",
    "\n",
    "# Treinando, testando e avaliando\n",
    "bag_clf.fit(X_train, y_train)\n",
    "y_pred_bag = bag_clf.predict(X_test)\n",
    "print(accuracy_score(y_test, y_pred_bag))"
   ]
  },
  {
   "cell_type": "code",
   "execution_count": null,
   "metadata": {
    "colab": {},
    "colab_type": "code",
    "id": "nTl6-Ui5iMNL"
   },
   "outputs": [],
   "source": [
    "#Random Forest"
   ]
  },
  {
   "cell_type": "code",
   "execution_count": null,
   "metadata": {
    "colab": {},
    "colab_type": "code",
    "id": "YxTKnvVPiPiQ"
   },
   "outputs": [],
   "source": [
    "#AdaBoost"
   ]
  },
  {
   "cell_type": "code",
   "execution_count": null,
   "metadata": {
    "colab": {},
    "colab_type": "code",
    "id": "tKA_E30DiSkb"
   },
   "outputs": [],
   "source": [
    "#GradientBoost"
   ]
  },
  {
   "cell_type": "markdown",
   "metadata": {
    "colab_type": "text",
    "id": "pvERSh51iYu6"
   },
   "source": [
    "E somente uma árvore de decisão? Qual será o resultado?"
   ]
  },
  {
   "cell_type": "code",
   "execution_count": null,
   "metadata": {
    "colab": {
     "base_uri": "https://localhost:8080/",
     "height": 35
    },
    "colab_type": "code",
    "executionInfo": {
     "elapsed": 902,
     "status": "ok",
     "timestamp": 1595538651677,
     "user": {
      "displayName": "Eulanda Santos",
      "photoUrl": "https://lh3.googleusercontent.com/a-/AOh14GhIc9qaWFbSfv3JRROSvfTk1-C5Br3NxZYnY38BQV8I9pr4mIxvM9VgJnwWWWE1QtwjabG2ZN9eTMcEqaA5Yzwnz5jxvkr7GyL5b_Oi7k9hlf3IrAtv6UnFxB7IKXT47K5XLfa9CS_M3b1krKwOyQP5VDsPwCj8DEESIO1MlYAVBRiFa8ibtBCKDNHIw5SYRkcKQ7MEJHvpM03LfN3JbNxJ4qj8Rm7kymvO-6Zrc-cd5jX0eXtEjm_gounS9gtoZhuKitHRO1LC4ILV14UdGsWHbZpxDu6pK1zapB36ZGo_mjc2AhyPNFCV0tg2wdbI6UT_JEFeChb-FGlDmui084A7gKtqw5wVkWKBGymarvEndXaC_Wjlg_V-HjXXwaF-9xC7coVGz5CuNWsmEcrdrcc1IsfDWypW3bPGZRFFb6G9jLUFMm7m5nQkLwN4Je-dDIwo0n_N3Cn3ZWFsHS-Zh2zD8XbjuT34U2rHZ7xxEsaapYxvyIIbvud70CnigkKV7v9NPBu933fip-imBajECGap9uBS2tfQPOGMWYpy25MiM_1kf9pMSEcV3A49dh4V1iTtjqId7A5sRZXJgSWM5Zl8RSJY121mOs5aZXTHqPB6huiu514TYf8aq7GB9MoTINIj7EddpWrt59Lt4bvcFVIOMYVA2R4cbIJ6drNNfJfo0y441_yij2021WxVhLj6Hl5ZAhW1oZXvTQBms7cR7zdCJidlcXAuDtInTwSqEhjnp1vPv5aGl7EC_EWi6IljwNh4IA=s64",
      "userId": "04288734832196105327"
     },
     "user_tz": 240
    },
    "id": "xlZQIBTTFZJN",
    "outputId": "07195657-a901-4c74-b56e-181f88fcb06c"
   },
   "outputs": [
    {
     "name": "stdout",
     "output_type": "stream",
     "text": [
      "0.9736842105263158\n"
     ]
    }
   ],
   "source": [
    "# Árvore de Decisão\n",
    "DT_clf = DecisionTreeClassifier()\n",
    "DT_clf.fit(X_train, y_train)\n",
    "y_pred_DT = DT_clf.predict(X_test)\n",
    "\n",
    "# Avaliação\n",
    "print(accuracy_score(y_test, y_pred_DT))"
   ]
  },
  {
   "cell_type": "markdown",
   "metadata": {
    "colab_type": "text",
    "id": "1HJsXasHI0ip"
   },
   "source": [
    "**Modificando a base de Dados**\n",
    "\n",
    "Nós vamos fazer o mesmo teste, só que utilizando a base de dados Brest Cancer."
   ]
  },
  {
   "cell_type": "markdown",
   "metadata": {
    "colab_type": "text",
    "id": "neX2378I_3H5"
   },
   "source": [
    "**Relembrando a base Brest Cancer**\n",
    "\n",
    "Neste exemplo, nós utilizaremos a base **Breast Cancer** disponível no sklearn, mas originário do repositório da UCI (https://archive.ics.uci.edu/ml/datasets/breast+cancer). Trata-se de uma base de dados que foi obtida a partir de imagens digitalizadas de massas mamárias e que descrevem **dois** tipos de classe: maligno (harmful) e benigno (not harmful). Os atributos descrevem características dos núcleos celulares presentes nas imagens.\n",
    "\n",
    "No total, são **30 atributos** ordenados: raio médio, textura média, perímetro médio, área média, suavidade média, compacidade média, concavidade média, pontos côncavos médios, simetria média, dimensão fractal média, erro de raio, erro de textura, erro de perímetro, erro de área, erro de suavidade, erro de compactação, erro de concavidade, erro de pontos côncavos, erro de simetria, erro de dimensão fractal, pior raio, pior textura, pior perímetro, pior área, pior suavidade, pior compacidade, pior concavidade, piores pontos côncavos, pior simetria e pior dimensão fractal) e um alvo (tipo de câncer).\n",
    "\n"
   ]
  },
  {
   "cell_type": "code",
   "execution_count": null,
   "metadata": {
    "colab": {},
    "colab_type": "code",
    "id": "SuFa2BZOvO6R"
   },
   "outputs": [],
   "source": [
    "#Carregando a base de dados\n",
    "cancer = datasets.load_breast_cancer()"
   ]
  },
  {
   "cell_type": "code",
   "execution_count": null,
   "metadata": {
    "colab": {},
    "colab_type": "code",
    "id": "wWbOLR4kvO6U"
   },
   "outputs": [],
   "source": [
    "#Verificando quantidade de instâncias e de atributos\n",
    "# Vamos também acessar os dados\n",
    "\n",
    "print(cancer.data.shape)\n",
    "cancer.data"
   ]
  },
  {
   "cell_type": "code",
   "execution_count": null,
   "metadata": {
    "colab": {},
    "colab_type": "code",
    "id": "JzA-pRwkvO6W"
   },
   "outputs": [],
   "source": [
    "# E  as classes\n",
    "cancer.target"
   ]
  },
  {
   "cell_type": "markdown",
   "metadata": {
    "colab_type": "text",
    "id": "x-0xTdY2wuig"
   },
   "source": [
    "Como nós faremos ajustes dos parâmetros dos métodos de geração de conjuntos, nós vamos dividir a base em três partições: treino, validação e teste. A base de treino terá 60% das instâncias, enquanto as bases de teste e de validação terão 20% cada."
   ]
  },
  {
   "cell_type": "code",
   "execution_count": null,
   "metadata": {
    "colab": {
     "base_uri": "https://localhost:8080/",
     "height": 54
    },
    "colab_type": "code",
    "executionInfo": {
     "elapsed": 876,
     "status": "ok",
     "timestamp": 1595538704984,
     "user": {
      "displayName": "Eulanda Santos",
      "photoUrl": "https://lh3.googleusercontent.com/a-/AOh14GhIc9qaWFbSfv3JRROSvfTk1-C5Br3NxZYnY38BQV8I9pr4mIxvM9VgJnwWWWE1QtwjabG2ZN9eTMcEqaA5Yzwnz5jxvkr7GyL5b_Oi7k9hlf3IrAtv6UnFxB7IKXT47K5XLfa9CS_M3b1krKwOyQP5VDsPwCj8DEESIO1MlYAVBRiFa8ibtBCKDNHIw5SYRkcKQ7MEJHvpM03LfN3JbNxJ4qj8Rm7kymvO-6Zrc-cd5jX0eXtEjm_gounS9gtoZhuKitHRO1LC4ILV14UdGsWHbZpxDu6pK1zapB36ZGo_mjc2AhyPNFCV0tg2wdbI6UT_JEFeChb-FGlDmui084A7gKtqw5wVkWKBGymarvEndXaC_Wjlg_V-HjXXwaF-9xC7coVGz5CuNWsmEcrdrcc1IsfDWypW3bPGZRFFb6G9jLUFMm7m5nQkLwN4Je-dDIwo0n_N3Cn3ZWFsHS-Zh2zD8XbjuT34U2rHZ7xxEsaapYxvyIIbvud70CnigkKV7v9NPBu933fip-imBajECGap9uBS2tfQPOGMWYpy25MiM_1kf9pMSEcV3A49dh4V1iTtjqId7A5sRZXJgSWM5Zl8RSJY121mOs5aZXTHqPB6huiu514TYf8aq7GB9MoTINIj7EddpWrt59Lt4bvcFVIOMYVA2R4cbIJ6drNNfJfo0y441_yij2021WxVhLj6Hl5ZAhW1oZXvTQBms7cR7zdCJidlcXAuDtInTwSqEhjnp1vPv5aGl7EC_EWi6IljwNh4IA=s64",
      "userId": "04288734832196105327"
     },
     "user_tz": 240
    },
    "id": "NBeQv4W2vO6a",
    "outputId": "0cde5a45-edf3-40a5-c186-a6c18520a8dd"
   },
   "outputs": [
    {
     "name": "stdout",
     "output_type": "stream",
     "text": [
      "(455, 30) (455,)\n",
      "(114, 30) (114,)\n"
     ]
    }
   ],
   "source": [
    "#Vamos, inicialmente, dividir a base em duas partições: treino e teste. A base de treino terá 80% das instâncias, enquanto a de teste terá 20%\n",
    "\n",
    "from sklearn.model_selection import train_test_split\n",
    "\n",
    "#Dividindo a base (com seleção de instâncias aleatória)\n",
    "X_train, X_test, y_train, y_test = train_test_split(cancer.data, cancer.target, test_size=0.2, random_state = 42)\n",
    "\n",
    "#Checando a divisão das instâncias entre as duas bases\n",
    "print(X_train.shape, y_train.shape)\n",
    "print(X_test.shape, y_test.shape)"
   ]
  },
  {
   "cell_type": "markdown",
   "metadata": {
    "colab_type": "text",
    "id": "FR-sOSkFvQgg"
   },
   "source": [
    "Agora vamos dividir a base de treino em duas bases: treino e validação. Ao final, a base de treino terá 60% das instâncias originais, enquanto a base de validação terá 20%, assim como a base de teste já criada."
   ]
  },
  {
   "cell_type": "code",
   "execution_count": null,
   "metadata": {
    "colab": {},
    "colab_type": "code",
    "id": "GbEtPmC7vO6c"
   },
   "outputs": [],
   "source": [
    "#Dividindo a base de treino (com seleção de instâncias aleatória)\n",
    "X_train, X_val, y_train, y_val = train_test_split(X_train, y_train, test_size=0.25, random_state = 42)\n",
    "\n",
    "#Checando a divisão das instâncias entre as duas bases\n",
    "print(X_train.shape, y_train.shape)\n",
    "print(X_val.shape, y_val.shape)"
   ]
  },
  {
   "cell_type": "markdown",
   "metadata": {
    "colab_type": "text",
    "id": "4jrHJ2HXnEO6"
   },
   "source": [
    "Agora nós vamos comparar o desempenho dos métodos de **Conjuntos de Classificadores** novamente utilizando **Árvore de Decisão** como algoritmo de base. \n",
    "\n",
    "Antes de utilizarmos os métodos de conjuntos, vamos testar o desempenho de uma única árvore.\n",
    "\n",
    "É importante lembrar que, como haverá **ajuste de parâmetros**, a base de teste somente poderá ser usada ao final, após os parâmetros serem todos ajustados. Portanto, para o ajuste de parâmetros, nós utilizaremos a **base de validação**. Além disso, para facilitar a observação de ocorrência de **overfitting**, nós sempre compararemos a acurária no treino e na validação.\n"
   ]
  },
  {
   "cell_type": "code",
   "execution_count": null,
   "metadata": {
    "colab": {},
    "colab_type": "code",
    "id": "3hInUoC5YE8p"
   },
   "outputs": [],
   "source": [
    "# Cálculo da acurácia em validação de uma única árvore de decisão.\n",
    "\n",
    "# Árvore de Decisão\n",
    "DT_clf = DecisionTreeClassifier()\n",
    "DT_clf.fit(X_train, y_train)\n",
    "y_pred_DT = DT_clf.predict(X_val)\n",
    "train_pred_DT = DT_clf.predict(X_train)\n",
    "\n",
    "# Avaliação\n",
    "print(\"Acurácia no treino\", accuracy_score(y_train, train_pred_DT))\n",
    "print(\"Acurácia na validação\", accuracy_score(y_val, y_pred_DT))"
   ]
  },
  {
   "cell_type": "code",
   "execution_count": null,
   "metadata": {
    "colab": {},
    "colab_type": "code",
    "id": "_cG4bjkGZ7Rr"
   },
   "outputs": [],
   "source": [
    "#Vamos fazer as predições com os métodos de geração de conjuntos\n",
    "\n",
    "# Bagging"
   ]
  },
  {
   "cell_type": "code",
   "execution_count": null,
   "metadata": {
    "colab": {},
    "colab_type": "code",
    "id": "DYmA16YVhyLC"
   },
   "outputs": [],
   "source": [
    "#Random Forest"
   ]
  },
  {
   "cell_type": "code",
   "execution_count": null,
   "metadata": {
    "colab": {},
    "colab_type": "code",
    "id": "ubONgDCOh4Iy"
   },
   "outputs": [],
   "source": [
    "#AdaBoost"
   ]
  },
  {
   "cell_type": "code",
   "execution_count": null,
   "metadata": {
    "colab": {},
    "colab_type": "code",
    "id": "NFCE4Wkah8kC"
   },
   "outputs": [],
   "source": [
    "#GradientBoost"
   ]
  },
  {
   "cell_type": "markdown",
   "metadata": {
    "colab_type": "text",
    "id": "4sSUBR9iWp7U"
   },
   "source": [
    "**Atividade**\n",
    "\n",
    "1. Primeiramente, você deverá estudar com detalhes os parâmetros de cada método de geração de conjunto.\n",
    "2. Utilize a base de validação para ajustar os parâmetros de cada método de geração de conjunto a fim de definir a melhor combinação de parâmetros de cada método.\n",
    "3. Utilize a base de teste para comparar os resultados obtidos pela melhor versão de cada método de geração de conjuntos (definida na base de validação). Qual dos algoritmos de Aprendizagem de Máquina para geração de conjuntos de preditores testados apresentou melhor resultado? Apesente os resultados de comparação.\n"
   ]
  },
  {
   "cell_type": "code",
   "execution_count": null,
   "metadata": {
    "colab": {},
    "colab_type": "code",
    "id": "qugBxW0jZRT9"
   },
   "outputs": [],
   "source": []
  }
 ],
 "metadata": {
  "colab": {
   "authorship_tag": "ABX9TyPIPFIqwrhWvWBXUiz3+W7G",
   "collapsed_sections": [],
   "name": "Aula_Prática_Conjuntos_21_07_20.ipynb",
   "provenance": []
  },
  "kernelspec": {
   "display_name": "Python 3",
   "language": "python",
   "name": "python3"
  },
  "language_info": {
   "codemirror_mode": {
    "name": "ipython",
    "version": 3
   },
   "file_extension": ".py",
   "mimetype": "text/x-python",
   "name": "python",
   "nbconvert_exporter": "python",
   "pygments_lexer": "ipython3",
   "version": "3.8.2"
  }
 },
 "nbformat": 4,
 "nbformat_minor": 1
}
