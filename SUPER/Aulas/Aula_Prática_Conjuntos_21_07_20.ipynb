{
  "nbformat": 4,
  "nbformat_minor": 0,
  "metadata": {
    "colab": {
      "name": "Aula_Prática_Conjuntos_21_07_20.ipynb",
      "provenance": [],
      "collapsed_sections": []
    },
    "kernelspec": {
      "name": "python3",
      "display_name": "Python 3"
    }
  },
  "cells": [
    {
      "cell_type": "markdown",
      "metadata": {
        "id": "5Q936NDXKXYD",
        "colab_type": "text"
      },
      "source": [
        "## <h3 align=\"center\"> **Atividade Prática**</h3> \n",
        "\n",
        "\n",
        "\n",
        "\n",
        "<h3 align=\"center\"> Data: 21-07-2020 </h3> "
      ]
    },
    {
      "cell_type": "markdown",
      "metadata": {
        "id": "5XBdCvyUTLmg",
        "colab_type": "text"
      },
      "source": [
        "# Vamos iniciar trabalhando com os diferentes métodos de geração de conjuntos de classificadores. \n"
      ]
    },
    {
      "cell_type": "code",
      "metadata": {
        "id": "B_pypY8nZ2v3",
        "colab_type": "code",
        "colab": {}
      },
      "source": [
        "# Importando bibliotecas necessárias\n",
        "import matplotlib\n",
        "import matplotlib.pyplot as plt\n",
        "import numpy as np\n",
        "import sklearn"
      ],
      "execution_count": null,
      "outputs": []
    },
    {
      "cell_type": "markdown",
      "metadata": {
        "id": "aiVGWEYQA_QZ",
        "colab_type": "text"
      },
      "source": [
        "Vamos utilizar a base **Iris**"
      ]
    },
    {
      "cell_type": "code",
      "metadata": {
        "id": "mw58wRPx5D7V",
        "colab_type": "code",
        "colab": {}
      },
      "source": [
        "from sklearn.datasets import load_iris\n",
        "iris_dataset = load_iris()"
      ],
      "execution_count": null,
      "outputs": []
    },
    {
      "cell_type": "markdown",
      "metadata": {
        "id": "mMNTVd9q5Cxj",
        "colab_type": "text"
      },
      "source": [
        "Relembrando a base Iris\n",
        "\n",
        "\n",
        "---\n",
        "\n",
        "\n",
        "![texto alternativo](https://drive.google.com/uc?export=view&id=1y60Qw8n06cfSgDXL_sqHFaTYQl-tTpmE) "
      ]
    },
    {
      "cell_type": "code",
      "metadata": {
        "id": "MkHEgR0f5gwR",
        "colab_type": "code",
        "colab": {
          "base_uri": "https://localhost:8080/",
          "height": 191
        },
        "outputId": "8151a5db-43b1-4a92-b447-3a8a8c28bf55"
      },
      "source": [
        "print(iris_dataset['DESCR'][:193] + \"\\n...\")"
      ],
      "execution_count": null,
      "outputs": [
        {
          "output_type": "stream",
          "text": [
            ".. _iris_dataset:\n",
            "\n",
            "Iris plants dataset\n",
            "--------------------\n",
            "\n",
            "**Data Set Characteristics:**\n",
            "\n",
            "    :Number of Instances: 150 (50 in each of three classes)\n",
            "    :Number of Attributes: 4 numeric, pre\n",
            "...\n"
          ],
          "name": "stdout"
        }
      ]
    },
    {
      "cell_type": "code",
      "metadata": {
        "id": "hdDKxV51mTEZ",
        "colab_type": "code",
        "colab": {
          "base_uri": "https://localhost:8080/",
          "height": 1000
        },
        "outputId": "9c50ecbd-5db3-4bab-84a1-d1a6e06c8763"
      },
      "source": [
        "iris_dataset"
      ],
      "execution_count": null,
      "outputs": [
        {
          "output_type": "execute_result",
          "data": {
            "text/plain": [
              "{'DESCR': '.. _iris_dataset:\\n\\nIris plants dataset\\n--------------------\\n\\n**Data Set Characteristics:**\\n\\n    :Number of Instances: 150 (50 in each of three classes)\\n    :Number of Attributes: 4 numeric, predictive attributes and the class\\n    :Attribute Information:\\n        - sepal length in cm\\n        - sepal width in cm\\n        - petal length in cm\\n        - petal width in cm\\n        - class:\\n                - Iris-Setosa\\n                - Iris-Versicolour\\n                - Iris-Virginica\\n                \\n    :Summary Statistics:\\n\\n    ============== ==== ==== ======= ===== ====================\\n                    Min  Max   Mean    SD   Class Correlation\\n    ============== ==== ==== ======= ===== ====================\\n    sepal length:   4.3  7.9   5.84   0.83    0.7826\\n    sepal width:    2.0  4.4   3.05   0.43   -0.4194\\n    petal length:   1.0  6.9   3.76   1.76    0.9490  (high!)\\n    petal width:    0.1  2.5   1.20   0.76    0.9565  (high!)\\n    ============== ==== ==== ======= ===== ====================\\n\\n    :Missing Attribute Values: None\\n    :Class Distribution: 33.3% for each of 3 classes.\\n    :Creator: R.A. Fisher\\n    :Donor: Michael Marshall (MARSHALL%PLU@io.arc.nasa.gov)\\n    :Date: July, 1988\\n\\nThe famous Iris database, first used by Sir R.A. Fisher. The dataset is taken\\nfrom Fisher\\'s paper. Note that it\\'s the same as in R, but not as in the UCI\\nMachine Learning Repository, which has two wrong data points.\\n\\nThis is perhaps the best known database to be found in the\\npattern recognition literature.  Fisher\\'s paper is a classic in the field and\\nis referenced frequently to this day.  (See Duda & Hart, for example.)  The\\ndata set contains 3 classes of 50 instances each, where each class refers to a\\ntype of iris plant.  One class is linearly separable from the other 2; the\\nlatter are NOT linearly separable from each other.\\n\\n.. topic:: References\\n\\n   - Fisher, R.A. \"The use of multiple measurements in taxonomic problems\"\\n     Annual Eugenics, 7, Part II, 179-188 (1936); also in \"Contributions to\\n     Mathematical Statistics\" (John Wiley, NY, 1950).\\n   - Duda, R.O., & Hart, P.E. (1973) Pattern Classification and Scene Analysis.\\n     (Q327.D83) John Wiley & Sons.  ISBN 0-471-22361-1.  See page 218.\\n   - Dasarathy, B.V. (1980) \"Nosing Around the Neighborhood: A New System\\n     Structure and Classification Rule for Recognition in Partially Exposed\\n     Environments\".  IEEE Transactions on Pattern Analysis and Machine\\n     Intelligence, Vol. PAMI-2, No. 1, 67-71.\\n   - Gates, G.W. (1972) \"The Reduced Nearest Neighbor Rule\".  IEEE Transactions\\n     on Information Theory, May 1972, 431-433.\\n   - See also: 1988 MLC Proceedings, 54-64.  Cheeseman et al\"s AUTOCLASS II\\n     conceptual clustering system finds 3 classes in the data.\\n   - Many, many more ...',\n",
              " 'data': array([[5.1, 3.5, 1.4, 0.2],\n",
              "        [4.9, 3. , 1.4, 0.2],\n",
              "        [4.7, 3.2, 1.3, 0.2],\n",
              "        [4.6, 3.1, 1.5, 0.2],\n",
              "        [5. , 3.6, 1.4, 0.2],\n",
              "        [5.4, 3.9, 1.7, 0.4],\n",
              "        [4.6, 3.4, 1.4, 0.3],\n",
              "        [5. , 3.4, 1.5, 0.2],\n",
              "        [4.4, 2.9, 1.4, 0.2],\n",
              "        [4.9, 3.1, 1.5, 0.1],\n",
              "        [5.4, 3.7, 1.5, 0.2],\n",
              "        [4.8, 3.4, 1.6, 0.2],\n",
              "        [4.8, 3. , 1.4, 0.1],\n",
              "        [4.3, 3. , 1.1, 0.1],\n",
              "        [5.8, 4. , 1.2, 0.2],\n",
              "        [5.7, 4.4, 1.5, 0.4],\n",
              "        [5.4, 3.9, 1.3, 0.4],\n",
              "        [5.1, 3.5, 1.4, 0.3],\n",
              "        [5.7, 3.8, 1.7, 0.3],\n",
              "        [5.1, 3.8, 1.5, 0.3],\n",
              "        [5.4, 3.4, 1.7, 0.2],\n",
              "        [5.1, 3.7, 1.5, 0.4],\n",
              "        [4.6, 3.6, 1. , 0.2],\n",
              "        [5.1, 3.3, 1.7, 0.5],\n",
              "        [4.8, 3.4, 1.9, 0.2],\n",
              "        [5. , 3. , 1.6, 0.2],\n",
              "        [5. , 3.4, 1.6, 0.4],\n",
              "        [5.2, 3.5, 1.5, 0.2],\n",
              "        [5.2, 3.4, 1.4, 0.2],\n",
              "        [4.7, 3.2, 1.6, 0.2],\n",
              "        [4.8, 3.1, 1.6, 0.2],\n",
              "        [5.4, 3.4, 1.5, 0.4],\n",
              "        [5.2, 4.1, 1.5, 0.1],\n",
              "        [5.5, 4.2, 1.4, 0.2],\n",
              "        [4.9, 3.1, 1.5, 0.2],\n",
              "        [5. , 3.2, 1.2, 0.2],\n",
              "        [5.5, 3.5, 1.3, 0.2],\n",
              "        [4.9, 3.6, 1.4, 0.1],\n",
              "        [4.4, 3. , 1.3, 0.2],\n",
              "        [5.1, 3.4, 1.5, 0.2],\n",
              "        [5. , 3.5, 1.3, 0.3],\n",
              "        [4.5, 2.3, 1.3, 0.3],\n",
              "        [4.4, 3.2, 1.3, 0.2],\n",
              "        [5. , 3.5, 1.6, 0.6],\n",
              "        [5.1, 3.8, 1.9, 0.4],\n",
              "        [4.8, 3. , 1.4, 0.3],\n",
              "        [5.1, 3.8, 1.6, 0.2],\n",
              "        [4.6, 3.2, 1.4, 0.2],\n",
              "        [5.3, 3.7, 1.5, 0.2],\n",
              "        [5. , 3.3, 1.4, 0.2],\n",
              "        [7. , 3.2, 4.7, 1.4],\n",
              "        [6.4, 3.2, 4.5, 1.5],\n",
              "        [6.9, 3.1, 4.9, 1.5],\n",
              "        [5.5, 2.3, 4. , 1.3],\n",
              "        [6.5, 2.8, 4.6, 1.5],\n",
              "        [5.7, 2.8, 4.5, 1.3],\n",
              "        [6.3, 3.3, 4.7, 1.6],\n",
              "        [4.9, 2.4, 3.3, 1. ],\n",
              "        [6.6, 2.9, 4.6, 1.3],\n",
              "        [5.2, 2.7, 3.9, 1.4],\n",
              "        [5. , 2. , 3.5, 1. ],\n",
              "        [5.9, 3. , 4.2, 1.5],\n",
              "        [6. , 2.2, 4. , 1. ],\n",
              "        [6.1, 2.9, 4.7, 1.4],\n",
              "        [5.6, 2.9, 3.6, 1.3],\n",
              "        [6.7, 3.1, 4.4, 1.4],\n",
              "        [5.6, 3. , 4.5, 1.5],\n",
              "        [5.8, 2.7, 4.1, 1. ],\n",
              "        [6.2, 2.2, 4.5, 1.5],\n",
              "        [5.6, 2.5, 3.9, 1.1],\n",
              "        [5.9, 3.2, 4.8, 1.8],\n",
              "        [6.1, 2.8, 4. , 1.3],\n",
              "        [6.3, 2.5, 4.9, 1.5],\n",
              "        [6.1, 2.8, 4.7, 1.2],\n",
              "        [6.4, 2.9, 4.3, 1.3],\n",
              "        [6.6, 3. , 4.4, 1.4],\n",
              "        [6.8, 2.8, 4.8, 1.4],\n",
              "        [6.7, 3. , 5. , 1.7],\n",
              "        [6. , 2.9, 4.5, 1.5],\n",
              "        [5.7, 2.6, 3.5, 1. ],\n",
              "        [5.5, 2.4, 3.8, 1.1],\n",
              "        [5.5, 2.4, 3.7, 1. ],\n",
              "        [5.8, 2.7, 3.9, 1.2],\n",
              "        [6. , 2.7, 5.1, 1.6],\n",
              "        [5.4, 3. , 4.5, 1.5],\n",
              "        [6. , 3.4, 4.5, 1.6],\n",
              "        [6.7, 3.1, 4.7, 1.5],\n",
              "        [6.3, 2.3, 4.4, 1.3],\n",
              "        [5.6, 3. , 4.1, 1.3],\n",
              "        [5.5, 2.5, 4. , 1.3],\n",
              "        [5.5, 2.6, 4.4, 1.2],\n",
              "        [6.1, 3. , 4.6, 1.4],\n",
              "        [5.8, 2.6, 4. , 1.2],\n",
              "        [5. , 2.3, 3.3, 1. ],\n",
              "        [5.6, 2.7, 4.2, 1.3],\n",
              "        [5.7, 3. , 4.2, 1.2],\n",
              "        [5.7, 2.9, 4.2, 1.3],\n",
              "        [6.2, 2.9, 4.3, 1.3],\n",
              "        [5.1, 2.5, 3. , 1.1],\n",
              "        [5.7, 2.8, 4.1, 1.3],\n",
              "        [6.3, 3.3, 6. , 2.5],\n",
              "        [5.8, 2.7, 5.1, 1.9],\n",
              "        [7.1, 3. , 5.9, 2.1],\n",
              "        [6.3, 2.9, 5.6, 1.8],\n",
              "        [6.5, 3. , 5.8, 2.2],\n",
              "        [7.6, 3. , 6.6, 2.1],\n",
              "        [4.9, 2.5, 4.5, 1.7],\n",
              "        [7.3, 2.9, 6.3, 1.8],\n",
              "        [6.7, 2.5, 5.8, 1.8],\n",
              "        [7.2, 3.6, 6.1, 2.5],\n",
              "        [6.5, 3.2, 5.1, 2. ],\n",
              "        [6.4, 2.7, 5.3, 1.9],\n",
              "        [6.8, 3. , 5.5, 2.1],\n",
              "        [5.7, 2.5, 5. , 2. ],\n",
              "        [5.8, 2.8, 5.1, 2.4],\n",
              "        [6.4, 3.2, 5.3, 2.3],\n",
              "        [6.5, 3. , 5.5, 1.8],\n",
              "        [7.7, 3.8, 6.7, 2.2],\n",
              "        [7.7, 2.6, 6.9, 2.3],\n",
              "        [6. , 2.2, 5. , 1.5],\n",
              "        [6.9, 3.2, 5.7, 2.3],\n",
              "        [5.6, 2.8, 4.9, 2. ],\n",
              "        [7.7, 2.8, 6.7, 2. ],\n",
              "        [6.3, 2.7, 4.9, 1.8],\n",
              "        [6.7, 3.3, 5.7, 2.1],\n",
              "        [7.2, 3.2, 6. , 1.8],\n",
              "        [6.2, 2.8, 4.8, 1.8],\n",
              "        [6.1, 3. , 4.9, 1.8],\n",
              "        [6.4, 2.8, 5.6, 2.1],\n",
              "        [7.2, 3. , 5.8, 1.6],\n",
              "        [7.4, 2.8, 6.1, 1.9],\n",
              "        [7.9, 3.8, 6.4, 2. ],\n",
              "        [6.4, 2.8, 5.6, 2.2],\n",
              "        [6.3, 2.8, 5.1, 1.5],\n",
              "        [6.1, 2.6, 5.6, 1.4],\n",
              "        [7.7, 3. , 6.1, 2.3],\n",
              "        [6.3, 3.4, 5.6, 2.4],\n",
              "        [6.4, 3.1, 5.5, 1.8],\n",
              "        [6. , 3. , 4.8, 1.8],\n",
              "        [6.9, 3.1, 5.4, 2.1],\n",
              "        [6.7, 3.1, 5.6, 2.4],\n",
              "        [6.9, 3.1, 5.1, 2.3],\n",
              "        [5.8, 2.7, 5.1, 1.9],\n",
              "        [6.8, 3.2, 5.9, 2.3],\n",
              "        [6.7, 3.3, 5.7, 2.5],\n",
              "        [6.7, 3. , 5.2, 2.3],\n",
              "        [6.3, 2.5, 5. , 1.9],\n",
              "        [6.5, 3. , 5.2, 2. ],\n",
              "        [6.2, 3.4, 5.4, 2.3],\n",
              "        [5.9, 3. , 5.1, 1.8]]),\n",
              " 'feature_names': ['sepal length (cm)',\n",
              "  'sepal width (cm)',\n",
              "  'petal length (cm)',\n",
              "  'petal width (cm)'],\n",
              " 'filename': '/usr/local/lib/python3.6/dist-packages/sklearn/datasets/data/iris.csv',\n",
              " 'target': array([0, 0, 0, 0, 0, 0, 0, 0, 0, 0, 0, 0, 0, 0, 0, 0, 0, 0, 0, 0, 0, 0,\n",
              "        0, 0, 0, 0, 0, 0, 0, 0, 0, 0, 0, 0, 0, 0, 0, 0, 0, 0, 0, 0, 0, 0,\n",
              "        0, 0, 0, 0, 0, 0, 1, 1, 1, 1, 1, 1, 1, 1, 1, 1, 1, 1, 1, 1, 1, 1,\n",
              "        1, 1, 1, 1, 1, 1, 1, 1, 1, 1, 1, 1, 1, 1, 1, 1, 1, 1, 1, 1, 1, 1,\n",
              "        1, 1, 1, 1, 1, 1, 1, 1, 1, 1, 1, 1, 2, 2, 2, 2, 2, 2, 2, 2, 2, 2,\n",
              "        2, 2, 2, 2, 2, 2, 2, 2, 2, 2, 2, 2, 2, 2, 2, 2, 2, 2, 2, 2, 2, 2,\n",
              "        2, 2, 2, 2, 2, 2, 2, 2, 2, 2, 2, 2, 2, 2, 2, 2, 2, 2]),\n",
              " 'target_names': array(['setosa', 'versicolor', 'virginica'], dtype='<U10')}"
            ]
          },
          "metadata": {
            "tags": []
          },
          "execution_count": 4
        }
      ]
    },
    {
      "cell_type": "code",
      "metadata": {
        "id": "BsHbaPDa4uvC",
        "colab_type": "code",
        "colab": {}
      },
      "source": [
        "# Particionando a base em treino e teste\n",
        "from sklearn.model_selection import train_test_split\n",
        "X_train, X_test, y_train, y_test = train_test_split(\n",
        "    iris_dataset['data'], iris_dataset['target'], random_state=0)"
      ],
      "execution_count": null,
      "outputs": []
    },
    {
      "cell_type": "code",
      "metadata": {
        "id": "xbwTfC0h-zVB",
        "colab_type": "code",
        "colab": {
          "base_uri": "https://localhost:8080/",
          "height": 52
        },
        "outputId": "9af413ba-d8ea-4b3c-8eae-0d941e9d3c8b"
      },
      "source": [
        "#Como as estão distribuídas entre as partições\n",
        "print(\"Particao de Treino\", X_train.shape)\n",
        "print(\"Particao de Teste\", X_test.shape)"
      ],
      "execution_count": null,
      "outputs": [
        {
          "output_type": "stream",
          "text": [
            "Particao de Treino (112, 4)\n",
            "Particao de Teste (38, 4)\n"
          ],
          "name": "stdout"
        }
      ]
    },
    {
      "cell_type": "markdown",
      "metadata": {
        "id": "gLO79FJLaw5j",
        "colab_type": "text"
      },
      "source": [
        "## **Será que um comitê é sempre melhor do que um preditor individual?**\n",
        " Aqui, nós vamos comparar Bagging, Boosting e Random Forest, todos utilizados com o Árvore de Decisão como algoritmo de base. \n",
        " Nós vamos comparar o resultado obtido por cada método de geração de conjunto com o resultado de uma árvore de decisão."
      ]
    },
    {
      "cell_type": "code",
      "metadata": {
        "id": "xbXLa_eU_E0S",
        "colab_type": "code",
        "colab": {}
      },
      "source": [
        "# Chamando os métodos que serão utilizados\n",
        "from sklearn.tree import DecisionTreeClassifier\n",
        "from sklearn.ensemble import BaggingClassifier\n",
        "from sklearn.ensemble import RandomForestClassifier\n",
        "from sklearn.ensemble import AdaBoostClassifier\n",
        "from sklearn.ensemble import GradientBoostingClassifier\n",
        "\n",
        "# Para avaliação\n",
        "from sklearn.metrics import accuracy_score\n"
      ],
      "execution_count": null,
      "outputs": []
    },
    {
      "cell_type": "markdown",
      "metadata": {
        "id": "A-YZPlBRvkxC",
        "colab_type": "text"
      },
      "source": [
        "Agora,vamos testar os métodos de geração de conjuntos básicos todos utilizando Árvores de Decisão como Classificadores de base"
      ]
    },
    {
      "cell_type": "code",
      "metadata": {
        "id": "8qxgOYvPc9T7",
        "colab_type": "code",
        "colab": {
          "base_uri": "https://localhost:8080/",
          "height": 34
        },
        "outputId": "e025dfa4-914d-4b79-c7a7-63776cf42a07"
      },
      "source": [
        "#Bagging : gerando o modelo\n",
        "\n",
        "bag_clf = BaggingClassifier(DecisionTreeClassifier(), n_estimators=15)\n",
        "\n",
        "# Treinando, testando e avaliando\n",
        "bag_clf.fit(X_train, y_train)\n",
        "y_pred_bag = bag_clf.predict(X_test)\n",
        "print(accuracy_score(y_test, y_pred_bag))"
      ],
      "execution_count": null,
      "outputs": [
        {
          "output_type": "stream",
          "text": [
            "0.9736842105263158\n"
          ],
          "name": "stdout"
        }
      ]
    },
    {
      "cell_type": "code",
      "metadata": {
        "id": "nTl6-Ui5iMNL",
        "colab_type": "code",
        "colab": {
          "base_uri": "https://localhost:8080/",
          "height": 34
        },
        "outputId": "887a481d-e541-489a-b2b6-db535a352fe4"
      },
      "source": [
        "#Random Forest\n",
        "\n",
        "rf_clf = RandomForestClassifier(n_estimators=15)\n",
        "rf_clf.fit(X_train, y_train)\n",
        "y_pred_rf = rf_clf.predict(X_test)\n",
        "\n",
        "print(accuracy_score(y_test,y_pred_rf))"
      ],
      "execution_count": null,
      "outputs": [
        {
          "output_type": "stream",
          "text": [
            "0.9736842105263158\n"
          ],
          "name": "stdout"
        }
      ]
    },
    {
      "cell_type": "code",
      "metadata": {
        "id": "YxTKnvVPiPiQ",
        "colab_type": "code",
        "colab": {
          "base_uri": "https://localhost:8080/",
          "height": 34
        },
        "outputId": "ffe339ca-75d6-4006-9198-7edf0cd1315a"
      },
      "source": [
        "#AdaBoost\n",
        "\n",
        "ada_clf = AdaBoostClassifier(DecisionTreeClassifier(), n_estimators=15)\n",
        "ada_clf.fit(X_train, y_train)\n",
        "y_pred_ada = ada_clf.predict(X_test)\n",
        "\n",
        "print(accuracy_score(y_test,y_pred_ada))"
      ],
      "execution_count": null,
      "outputs": [
        {
          "output_type": "stream",
          "text": [
            "0.9736842105263158\n"
          ],
          "name": "stdout"
        }
      ]
    },
    {
      "cell_type": "code",
      "metadata": {
        "id": "tKA_E30DiSkb",
        "colab_type": "code",
        "colab": {
          "base_uri": "https://localhost:8080/",
          "height": 34
        },
        "outputId": "4ed6345c-a262-491e-cda6-4624f17aa656"
      },
      "source": [
        "#GradientBoost\n",
        "\n",
        "gb_clf = GradientBoostingClassifier(n_estimators=15)\n",
        "gb_clf.fit(X_train,y_train)\n",
        "y_pred_gb = gb_clf.predict(X_test)\n",
        "\n",
        "print(accuracy_score(y_test,y_pred_gb))"
      ],
      "execution_count": null,
      "outputs": [
        {
          "output_type": "stream",
          "text": [
            "0.9736842105263158\n"
          ],
          "name": "stdout"
        }
      ]
    },
    {
      "cell_type": "markdown",
      "metadata": {
        "id": "pvERSh51iYu6",
        "colab_type": "text"
      },
      "source": [
        "E somente uma árvore de decisão? Qual será o resultado?"
      ]
    },
    {
      "cell_type": "code",
      "metadata": {
        "id": "xlZQIBTTFZJN",
        "colab_type": "code",
        "colab": {
          "base_uri": "https://localhost:8080/",
          "height": 34
        },
        "outputId": "73db1cab-27ae-46bf-db6b-8df4132ec59d"
      },
      "source": [
        "# Árvore de Decisão\n",
        "DT_clf = DecisionTreeClassifier()\n",
        "DT_clf.fit(X_train, y_train)\n",
        "y_pred_DT = DT_clf.predict(X_test)\n",
        "\n",
        "# Avaliação\n",
        "print(accuracy_score(y_test, y_pred_DT))"
      ],
      "execution_count": null,
      "outputs": [
        {
          "output_type": "stream",
          "text": [
            "0.9736842105263158\n"
          ],
          "name": "stdout"
        }
      ]
    },
    {
      "cell_type": "markdown",
      "metadata": {
        "id": "1HJsXasHI0ip",
        "colab_type": "text"
      },
      "source": [
        "**Modificando a base de Dados**\n",
        "\n",
        "Nós vamos fazer o mesmo teste, só que utilizando a base de dados Brest Cancer."
      ]
    },
    {
      "cell_type": "markdown",
      "metadata": {
        "id": "neX2378I_3H5",
        "colab_type": "text"
      },
      "source": [
        "**Relembrando a base Brest Cancer**\n",
        "\n",
        "Neste exemplo, nós utilizaremos a base **Breast Cancer** disponível no sklearn, mas originário do repositório da UCI (https://archive.ics.uci.edu/ml/datasets/breast+cancer). Trata-se de uma base de dados que foi obtida a partir de imagens digitalizadas de massas mamárias e que descrevem **dois** tipos de classe: maligno (harmful) e benigno (not harmful). Os atributos descrevem características dos núcleos celulares presentes nas imagens.\n",
        "\n",
        "No total, são **30 atributos** ordenados: raio médio, textura média, perímetro médio, área média, suavidade média, compacidade média, concavidade média, pontos côncavos médios, simetria média, dimensão fractal média, erro de raio, erro de textura, erro de perímetro, erro de área, erro de suavidade, erro de compactação, erro de concavidade, erro de pontos côncavos, erro de simetria, erro de dimensão fractal, pior raio, pior textura, pior perímetro, pior área, pior suavidade, pior compacidade, pior concavidade, piores pontos côncavos, pior simetria e pior dimensão fractal) e um alvo (tipo de câncer).\n",
        "\n"
      ]
    },
    {
      "cell_type": "code",
      "metadata": {
        "colab_type": "code",
        "id": "SuFa2BZOvO6R",
        "colab": {}
      },
      "source": [
        "#Carregando a base de dados\n",
        "cancer = sklearn.datasets.load_breast_cancer()"
      ],
      "execution_count": null,
      "outputs": []
    },
    {
      "cell_type": "code",
      "metadata": {
        "colab_type": "code",
        "id": "wWbOLR4kvO6U",
        "colab": {
          "base_uri": "https://localhost:8080/",
          "height": 260
        },
        "outputId": "fd6790f7-a7c3-40dd-cc14-03db7798e6e5"
      },
      "source": [
        "#Verificando quantidade de instâncias e de atributos\n",
        "# Vamos também acessar os dados\n",
        "\n",
        "print(cancer.data.shape)\n",
        "cancer.data"
      ],
      "execution_count": null,
      "outputs": [
        {
          "output_type": "stream",
          "text": [
            "(569, 30)\n"
          ],
          "name": "stdout"
        },
        {
          "output_type": "execute_result",
          "data": {
            "text/plain": [
              "array([[1.799e+01, 1.038e+01, 1.228e+02, ..., 2.654e-01, 4.601e-01,\n",
              "        1.189e-01],\n",
              "       [2.057e+01, 1.777e+01, 1.329e+02, ..., 1.860e-01, 2.750e-01,\n",
              "        8.902e-02],\n",
              "       [1.969e+01, 2.125e+01, 1.300e+02, ..., 2.430e-01, 3.613e-01,\n",
              "        8.758e-02],\n",
              "       ...,\n",
              "       [1.660e+01, 2.808e+01, 1.083e+02, ..., 1.418e-01, 2.218e-01,\n",
              "        7.820e-02],\n",
              "       [2.060e+01, 2.933e+01, 1.401e+02, ..., 2.650e-01, 4.087e-01,\n",
              "        1.240e-01],\n",
              "       [7.760e+00, 2.454e+01, 4.792e+01, ..., 0.000e+00, 2.871e-01,\n",
              "        7.039e-02]])"
            ]
          },
          "metadata": {
            "tags": []
          },
          "execution_count": 14
        }
      ]
    },
    {
      "cell_type": "code",
      "metadata": {
        "colab_type": "code",
        "id": "JzA-pRwkvO6W",
        "colab": {
          "base_uri": "https://localhost:8080/",
          "height": 469
        },
        "outputId": "a62025d8-e4c8-41fe-be27-a92d31874770"
      },
      "source": [
        "# E  as classes\n",
        "cancer.target"
      ],
      "execution_count": null,
      "outputs": [
        {
          "output_type": "execute_result",
          "data": {
            "text/plain": [
              "array([0, 0, 0, 0, 0, 0, 0, 0, 0, 0, 0, 0, 0, 0, 0, 0, 0, 0, 0, 1, 1, 1,\n",
              "       0, 0, 0, 0, 0, 0, 0, 0, 0, 0, 0, 0, 0, 0, 0, 1, 0, 0, 0, 0, 0, 0,\n",
              "       0, 0, 1, 0, 1, 1, 1, 1, 1, 0, 0, 1, 0, 0, 1, 1, 1, 1, 0, 1, 0, 0,\n",
              "       1, 1, 1, 1, 0, 1, 0, 0, 1, 0, 1, 0, 0, 1, 1, 1, 0, 0, 1, 0, 0, 0,\n",
              "       1, 1, 1, 0, 1, 1, 0, 0, 1, 1, 1, 0, 0, 1, 1, 1, 1, 0, 1, 1, 0, 1,\n",
              "       1, 1, 1, 1, 1, 1, 1, 0, 0, 0, 1, 0, 0, 1, 1, 1, 0, 0, 1, 0, 1, 0,\n",
              "       0, 1, 0, 0, 1, 1, 0, 1, 1, 0, 1, 1, 1, 1, 0, 1, 1, 1, 1, 1, 1, 1,\n",
              "       1, 1, 0, 1, 1, 1, 1, 0, 0, 1, 0, 1, 1, 0, 0, 1, 1, 0, 0, 1, 1, 1,\n",
              "       1, 0, 1, 1, 0, 0, 0, 1, 0, 1, 0, 1, 1, 1, 0, 1, 1, 0, 0, 1, 0, 0,\n",
              "       0, 0, 1, 0, 0, 0, 1, 0, 1, 0, 1, 1, 0, 1, 0, 0, 0, 0, 1, 1, 0, 0,\n",
              "       1, 1, 1, 0, 1, 1, 1, 1, 1, 0, 0, 1, 1, 0, 1, 1, 0, 0, 1, 0, 1, 1,\n",
              "       1, 1, 0, 1, 1, 1, 1, 1, 0, 1, 0, 0, 0, 0, 0, 0, 0, 0, 0, 0, 0, 0,\n",
              "       0, 0, 1, 1, 1, 1, 1, 1, 0, 1, 0, 1, 1, 0, 1, 1, 0, 1, 0, 0, 1, 1,\n",
              "       1, 1, 1, 1, 1, 1, 1, 1, 1, 1, 1, 0, 1, 1, 0, 1, 0, 1, 1, 1, 1, 1,\n",
              "       1, 1, 1, 1, 1, 1, 1, 1, 1, 0, 1, 1, 1, 0, 1, 0, 1, 1, 1, 1, 0, 0,\n",
              "       0, 1, 1, 1, 1, 0, 1, 0, 1, 0, 1, 1, 1, 0, 1, 1, 1, 1, 1, 1, 1, 0,\n",
              "       0, 0, 1, 1, 1, 1, 1, 1, 1, 1, 1, 1, 1, 0, 0, 1, 0, 0, 0, 1, 0, 0,\n",
              "       1, 1, 1, 1, 1, 0, 1, 1, 1, 1, 1, 0, 1, 1, 1, 0, 1, 1, 0, 0, 1, 1,\n",
              "       1, 1, 1, 1, 0, 1, 1, 1, 1, 1, 1, 1, 0, 1, 1, 1, 1, 1, 0, 1, 1, 0,\n",
              "       1, 1, 1, 1, 1, 1, 1, 1, 1, 1, 1, 1, 0, 1, 0, 0, 1, 0, 1, 1, 1, 1,\n",
              "       1, 0, 1, 1, 0, 1, 0, 1, 1, 0, 1, 0, 1, 1, 1, 1, 1, 1, 1, 1, 0, 0,\n",
              "       1, 1, 1, 1, 1, 1, 0, 1, 1, 1, 1, 1, 1, 1, 1, 1, 1, 0, 1, 1, 1, 1,\n",
              "       1, 1, 1, 0, 1, 0, 1, 1, 0, 1, 1, 1, 1, 1, 0, 0, 1, 0, 1, 0, 1, 1,\n",
              "       1, 1, 1, 0, 1, 1, 0, 1, 0, 1, 0, 0, 1, 1, 1, 0, 1, 1, 1, 1, 1, 1,\n",
              "       1, 1, 1, 1, 1, 0, 1, 0, 0, 1, 1, 1, 1, 1, 1, 1, 1, 1, 1, 1, 1, 1,\n",
              "       1, 1, 1, 1, 1, 1, 1, 1, 1, 1, 1, 1, 0, 0, 0, 0, 0, 0, 1])"
            ]
          },
          "metadata": {
            "tags": []
          },
          "execution_count": 15
        }
      ]
    },
    {
      "cell_type": "markdown",
      "metadata": {
        "id": "x-0xTdY2wuig",
        "colab_type": "text"
      },
      "source": [
        "Como nós faremos ajustes dos parâmetros dos métodos de geração de conjuntos, nós vamos dividir a base em três partições: treino, validação e teste. A base de treino terá 60% das instâncias, enquanto as bases de teste e de validação terão 20% cada."
      ]
    },
    {
      "cell_type": "code",
      "metadata": {
        "colab_type": "code",
        "id": "NBeQv4W2vO6a",
        "colab": {
          "base_uri": "https://localhost:8080/",
          "height": 52
        },
        "outputId": "7b354038-a193-4169-96de-7c07dd76f38b"
      },
      "source": [
        "#Vamos, inicialmente, dividir a base em duas partições: treino e teste. A base de treino terá 80% das instâncias, enquanto a de teste terá 20%\n",
        "\n",
        "from sklearn.model_selection import train_test_split\n",
        "\n",
        "#Dividindo a base (com seleção de instâncias aleatória)\n",
        "X_train, X_test, y_train, y_test = train_test_split(cancer.data, cancer.target, test_size=0.2, random_state = 42)\n",
        "\n",
        "#Checando a divisão das instâncias entre as duas bases\n",
        "print(X_train.shape, y_train.shape)\n",
        "print(X_test.shape, y_test.shape)"
      ],
      "execution_count": null,
      "outputs": [
        {
          "output_type": "stream",
          "text": [
            "(455, 30) (455,)\n",
            "(114, 30) (114,)\n"
          ],
          "name": "stdout"
        }
      ]
    },
    {
      "cell_type": "markdown",
      "metadata": {
        "id": "FR-sOSkFvQgg",
        "colab_type": "text"
      },
      "source": [
        "Agora vamos dividir a base de treino em duas bases: treino e validação. Ao final, a base de treino terá 60% das instâncias originais, enquanto a base de validação terá 20%, assim como a base de teste já criada."
      ]
    },
    {
      "cell_type": "code",
      "metadata": {
        "colab_type": "code",
        "id": "GbEtPmC7vO6c",
        "colab": {
          "base_uri": "https://localhost:8080/",
          "height": 52
        },
        "outputId": "9fb521c6-a46d-425f-dd0e-873298241bba"
      },
      "source": [
        "\n",
        "#Dividindo a base de treino (com seleção de instâncias aleatória)\n",
        "X_train, X_val, y_train, y_val = train_test_split(X_train, y_train, test_size=0.25, random_state = 42)\n",
        "\n",
        "#Checando a divisão das instâncias entre as duas bases\n",
        "print(X_train.shape, y_train.shape)\n",
        "print(X_val.shape, y_val.shape)"
      ],
      "execution_count": null,
      "outputs": [
        {
          "output_type": "stream",
          "text": [
            "(341, 30) (341,)\n",
            "(114, 30) (114,)\n"
          ],
          "name": "stdout"
        }
      ]
    },
    {
      "cell_type": "markdown",
      "metadata": {
        "id": "4jrHJ2HXnEO6",
        "colab_type": "text"
      },
      "source": [
        "Agora nós vamos comparar o desempenho dos métodos de **Conjuntos de Classificadores** novamente utilizando **Árvore de Decisão** como algoritmo de base. \n",
        "\n",
        "Antes de utilizarmos os métodos de conjuntos, vamos testar o desempenho de uma única árvore.\n",
        "\n",
        "É importante lembrar que, como haverá **ajuste de parâmetros**, a base de teste somente poderá ser usada ao final, após os parâmetros serem todos ajustados. Portanto, para o ajuste de parâmetros, nós utilizaremos a **base de validação**. Além disso, para facilitar a observação de ocorrência de **overfitting**, nós sempre compararemos a acurária no treino e na validação.\n"
      ]
    },
    {
      "cell_type": "code",
      "metadata": {
        "id": "3hInUoC5YE8p",
        "colab_type": "code",
        "colab": {
          "base_uri": "https://localhost:8080/",
          "height": 52
        },
        "outputId": "1c6a9080-9495-4815-8c1a-0aa858003085"
      },
      "source": [
        "# Cálculo da acurácia em validação de uma única árvore de decisão.\n",
        "\n",
        "# Árvore de Decisão\n",
        "DT_clf = DecisionTreeClassifier()\n",
        "DT_clf.fit(X_train, y_train)\n",
        "y_pred_DT = DT_clf.predict(X_val)\n",
        "train_pred_DT = DT_clf.predict(X_train)\n",
        "\n",
        "# Avaliação\n",
        "print(\"Acurácia no treino\", accuracy_score(y_train, train_pred_DT))\n",
        "print(\"Acurácia na validação\", accuracy_score(y_val, y_pred_DT))"
      ],
      "execution_count": null,
      "outputs": [
        {
          "output_type": "stream",
          "text": [
            "Acurácia no treino 1.0\n",
            "Acurácia na validação 0.9298245614035088\n"
          ],
          "name": "stdout"
        }
      ]
    },
    {
      "cell_type": "code",
      "metadata": {
        "id": "_cG4bjkGZ7Rr",
        "colab_type": "code",
        "colab": {
          "base_uri": "https://localhost:8080/",
          "height": 52
        },
        "outputId": "5545ac17-66c4-42f1-dd2d-4d62f5e09a8e"
      },
      "source": [
        "#Vamos fazer as predições com os métodos de geração de conjuntos\n",
        "\n",
        "# Bagging\n",
        "bag_clf = BaggingClassifier(DecisionTreeClassifier(),n_estimators=15)\n",
        "bag_clf.fit(X_train, y_train)\n",
        "y_pred_bag = bag_clf.predict(X_val)\n",
        "train_pred_bag = bag_clf.predict(X_train)\n",
        "\n",
        "# Avaliação\n",
        "print(\"Acurácia no treino\", accuracy_score(y_train, train_pred_bag))\n",
        "print(\"Acurácia na validação\", accuracy_score(y_val, y_pred_bag))"
      ],
      "execution_count": null,
      "outputs": [
        {
          "output_type": "stream",
          "text": [
            "Acurácia no treino 0.9970674486803519\n",
            "Acurácia na validação 0.9385964912280702\n"
          ],
          "name": "stdout"
        }
      ]
    },
    {
      "cell_type": "code",
      "metadata": {
        "id": "DYmA16YVhyLC",
        "colab_type": "code",
        "colab": {
          "base_uri": "https://localhost:8080/",
          "height": 52
        },
        "outputId": "6234796d-bb04-41fe-c4ee-e3773bbc303b"
      },
      "source": [
        "#Random Forest\n",
        "rf_clf = RandomForestClassifier(n_estimators=15)\n",
        "rf_clf.fit(X_train, y_train)\n",
        "y_pred_rf = rf_clf.predict(X_val)\n",
        "train_pred_rf = rf_clf.predict(X_train)\n",
        "\n",
        "# Avaliação\n",
        "print(\"Acurácia no treino\", accuracy_score(y_train, train_pred_rf))\n",
        "print(\"Acurácia na validação\", accuracy_score(y_val, y_pred_rf))"
      ],
      "execution_count": null,
      "outputs": [
        {
          "output_type": "stream",
          "text": [
            "Acurácia no treino 1.0\n",
            "Acurácia na validação 0.956140350877193\n"
          ],
          "name": "stdout"
        }
      ]
    },
    {
      "cell_type": "code",
      "metadata": {
        "id": "ubONgDCOh4Iy",
        "colab_type": "code",
        "colab": {
          "base_uri": "https://localhost:8080/",
          "height": 52
        },
        "outputId": "6cc43da2-ff21-41d8-a3a7-bfc6925bf25d"
      },
      "source": [
        "#AdaBoost\n",
        "ada_clf = AdaBoostClassifier(DecisionTreeClassifier(),n_estimators=15)\n",
        "ada_clf.fit(X_train, y_train)\n",
        "y_pred_ada = ada_clf.predict(X_val)\n",
        "train_pred_ada = ada_clf.predict(X_train)\n",
        "\n",
        "# Avaliação\n",
        "print(\"Acurácia no treino\", accuracy_score(y_train, train_pred_ada))\n",
        "print(\"Acurácia na validação\", accuracy_score(y_val, y_pred_ada))"
      ],
      "execution_count": null,
      "outputs": [
        {
          "output_type": "stream",
          "text": [
            "Acurácia no treino 1.0\n",
            "Acurácia na validação 0.9385964912280702\n"
          ],
          "name": "stdout"
        }
      ]
    },
    {
      "cell_type": "code",
      "metadata": {
        "id": "NFCE4Wkah8kC",
        "colab_type": "code",
        "colab": {
          "base_uri": "https://localhost:8080/",
          "height": 52
        },
        "outputId": "fd41853e-f950-4eed-98a0-20939f2ac8fb"
      },
      "source": [
        "#GradientBoost\n",
        "gb_clf = GradientBoostingClassifier(n_estimators=15)\n",
        "gb_clf.fit(X_train, y_train)\n",
        "y_pred_gb = gb_clf.predict(X_val)\n",
        "train_pred_gb = gb_clf.predict(X_train)\n",
        "\n",
        "# Avaliação\n",
        "print(\"Acurácia no treino\", accuracy_score(y_train, train_pred_gb))\n",
        "print(\"Acurácia na validação\", accuracy_score(y_val, y_pred_gb))"
      ],
      "execution_count": null,
      "outputs": [
        {
          "output_type": "stream",
          "text": [
            "Acurácia no treino 0.9941348973607038\n",
            "Acurácia na validação 0.9473684210526315\n"
          ],
          "name": "stdout"
        }
      ]
    },
    {
      "cell_type": "markdown",
      "metadata": {
        "id": "4sSUBR9iWp7U",
        "colab_type": "text"
      },
      "source": [
        "**Atividade**\n",
        "\n",
        "1. Primeiramente, você deverá estudar com detalhes os parâmetros de cada método de geração de conjunto.\n",
        "\n",
        "* Os parâmetros mais discutidos (de acordo com a minha pesquisa hihi) que afetam diretamente o resultado do modelo em um conjunto de preditores são os números de estimadores disponiveis, e no caso daqueles que envolvem arvores temos o tamanho dela. Como o trabalho tem o objetivo de realizar uma comparação equivalente, optou-se por variar apenas o parâmetro n_estimators, comum em todos os geradores de conjunto.\n",
        "\n",
        "2. Utilize a base de validação para ajustar os parâmetros de cada método de geração de conjunto a fim de definir a melhor combinação de parâmetros de cada método.\n",
        "\n",
        "* Os melhores resultados para cada metodo estão dispostos a seguir:\n",
        "\n",
        "  * **Bagging** - 30 - 90 | 0.93859649\n",
        "  * **RandomForest** - 20 - 30 - 60 - 90 - 110 - 120 - 130 - 140 - 150 | 0.95614035\n",
        "  * **AdaBoost** - 10 - 30 - 60 - 70 - 80 - 90 - 120 - 130 - 140 | 0.94736842\n",
        "  * **GradientBoost** - 40 - 50 - 60 - 70 - 80 - 90 - 100 - 110 - 120 - 130 - 140 - 150 | 0.95614035\n",
        "* Como todos apresentaram um melhor número de estimadores em comum (90), ele será utilizado para verificar a acurácia na base de treino.\n",
        "\n",
        "3. Utilize a base de teste para comparar os resultados obtidos pela melhor versão de cada método de geração de conjuntos (definida na base de validação). Qual dos algoritmos de Aprendizagem de Máquina para geração de conjuntos de preditores testados apresentou melhor resultado? Apesente os resultados de comparação.\n",
        "\n",
        "* O algoritmo que apresentou melhor resultado overall foi o RandomForest. Os resultados após a validação dos parâmetros a seguir:\n",
        "\n",
        "  * **Bagging** |Acurácia no treino apos validação:  0.956140350877193 \n",
        "\n",
        "  * **Random Forest** | Acurácia no treino apos validação:  0.9649122807017544 \n",
        "\n",
        "  * **AdaBoost** | Acurácia no treino apos validação:  0.9473684210526315 \n",
        "\n",
        "  * **GradientBoost** | Acurácia no treino apos validação:  0.956140350877193\n",
        "* Como pode-se perceber, RandomForest e Bagging tiveram um leve aumento na sua acurácia entre treino x validação, mas todos apresentaram melhoras em comparação ao n_est usado na aula, além do treino ser bem parecido com a validação em todos os casos, o que indica a diminuição do overfitting e mostrando a necessidade da adequação dos hiper parâmetros."
      ]
    },
    {
      "cell_type": "code",
      "metadata": {
        "id": "qugBxW0jZRT9",
        "colab_type": "code",
        "colab": {}
      },
      "source": [
        "#Vamos fazer as predições com os métodos de geração de conjuntos\n",
        "\n",
        "n_est = np.linspace(10,150,15,dtype=int)\n",
        "bagging = []\n",
        "random = []\n",
        "adaboost = []\n",
        "gradient = []\n",
        "\n",
        "for i in n_est:\n",
        "  # Bagging\n",
        "  bag_clf = BaggingClassifier(DecisionTreeClassifier(),n_estimators=i)\n",
        "  bag_clf.fit(X_train, y_train)\n",
        "  y_pred_bag = bag_clf.predict(X_val)\n",
        "  atual = accuracy_score(y_val,y_pred_bag)\n",
        "  bagging.append(atual)\n",
        "\n",
        "  #Random Forest\n",
        "  rf_clf = RandomForestClassifier(n_estimators=i)\n",
        "  rf_clf.fit(X_train, y_train)\n",
        "  y_pred_rf = rf_clf.predict(X_val)\n",
        "  atual = accuracy_score(y_val,y_pred_rf)\n",
        "  random.append(atual)\n",
        "  \n",
        "  #GradientBoost\n",
        "  gb_clf = GradientBoostingClassifier(n_estimators=i)\n",
        "  gb_clf.fit(X_train, y_train)\n",
        "  y_pred_gb = gb_clf.predict(X_val)\n",
        "  atual = accuracy_score(y_val,y_pred_gb)\n",
        "  gradient.append(atual)\n",
        "\n",
        "  #AdaBoost\n",
        "  ada_clf = AdaBoostClassifier(DecisionTreeClassifier(),n_estimators=i)\n",
        "  ada_clf.fit(X_train, y_train)\n",
        "  y_pred_ada = ada_clf.predict(X_val)\n",
        "  atual = accuracy_score(y_val,y_pred_ada)\n",
        "  adaboost.append(atual)\n"
      ],
      "execution_count": null,
      "outputs": []
    },
    {
      "cell_type": "code",
      "metadata": {
        "id": "3TYt0I8_sF1c",
        "colab_type": "code",
        "colab": {
          "base_uri": "https://localhost:8080/",
          "height": 939
        },
        "outputId": "163c2fd8-1141-4be0-df6c-9195a9c729b7"
      },
      "source": [
        "bagging = np.array(bagging)\n",
        "random = np.array(random)\n",
        "adaboost = np.array(adaboost)\n",
        "gradient = np.array(gradient)\n",
        "\n",
        "plt.figure(figsize=(20,9))\n",
        "plt.subplot(2,2,1)\n",
        "plt.tight_layout()\n",
        "plt.title('Resultados Bagging')\n",
        "plt.plot(n_est,bagging,\"*--\",color = 'b')\n",
        "plt.xlabel(\"Número de Estimadores\")\n",
        "plt.ylabel(\"Acurácia\")\n",
        "plt.subplot(2,2,2)\n",
        "plt.tight_layout()\n",
        "plt.title('Resultados Random Forest')\n",
        "plt.plot(n_est,random,\"*--\",color = 'g')\n",
        "plt.xlabel(\"Número de Estimadores\")\n",
        "plt.ylabel(\"Acurácia\")\n",
        "plt.subplot(2,2,3)\n",
        "plt.tight_layout()\n",
        "plt.title('Resultados Adaboost')\n",
        "plt.plot(n_est,adaboost,\"*--\",color = 'k')\n",
        "plt.xlabel(\"Número de Estimadores\")\n",
        "plt.ylabel(\"Acurácia\")\n",
        "plt.subplot(2,2,4)\n",
        "plt.tight_layout()\n",
        "plt.title('Resultados GradientBoost')\n",
        "plt.plot(n_est,gradient,\"*--\",color = 'c')\n",
        "plt.xlabel(\"Número de Estimadores\")\n",
        "plt.ylabel(\"Acurácia\")\n",
        "plt.show()\n",
        "\n",
        "print('\\n','bag',bagging,\"\\n\")\n",
        "print('random',random,'\\n')\n",
        "print('ada',adaboost,'\\n')\n",
        "print('grad',gradient,'\\n')\n",
        "\n",
        "\n",
        "\n",
        "# b: blue\n",
        "# g: green\n",
        "# r: red\n",
        "# c: cyan\n",
        "# m: magenta\n",
        "# y: yellow\n",
        "# k: black\n",
        "# w: white\n",
        "\n"
      ],
      "execution_count": null,
      "outputs": [
        {
          "output_type": "display_data",
          "data": {
            "image/png": "[encoded data removed]",
            "text/plain": [
              "<Figure size 1440x648 with 4 Axes>"
            ]
          },
          "metadata": {
            "tags": [],
            "needs_background": "light"
          }
        },
        {
          "output_type": "stream",
          "text": [
            "\n",
            " bag [0.92982456 0.92105263 0.93859649 0.9122807  0.9122807  0.92105263\n",
            " 0.9122807  0.92105263 0.93859649 0.9122807  0.92982456 0.92982456\n",
            " 0.92982456 0.9122807  0.92982456] \n",
            "\n",
            "random [0.92982456 0.95614035 0.95614035 0.93859649 0.94736842 0.95614035\n",
            " 0.93859649 0.94736842 0.95614035 0.92105263 0.95614035 0.95614035\n",
            " 0.95614035 0.95614035 0.95614035] \n",
            "\n",
            "ada [0.94736842 0.93859649 0.94736842 0.93859649 0.93859649 0.94736842\n",
            " 0.94736842 0.94736842 0.94736842 0.93859649 0.93859649 0.94736842\n",
            " 0.94736842 0.94736842 0.93859649] \n",
            "\n",
            "grad [0.94736842 0.94736842 0.94736842 0.95614035 0.95614035 0.95614035\n",
            " 0.95614035 0.95614035 0.95614035 0.95614035 0.95614035 0.95614035\n",
            " 0.95614035 0.95614035 0.95614035] \n",
            "\n"
          ],
          "name": "stdout"
        }
      ]
    },
    {
      "cell_type": "code",
      "metadata": {
        "id": "RKd6X1nsEj07",
        "colab_type": "code",
        "colab": {
          "base_uri": "https://localhost:8080/",
          "height": 156
        },
        "outputId": "c47488a8-b428-4620-b097-8e5f119606fa"
      },
      "source": [
        "# Bagging\n",
        "bag_clf = BaggingClassifier(DecisionTreeClassifier(),n_estimators=90)\n",
        "bag_clf.fit(X_train, y_train)\n",
        "y_pred_bag = bag_clf.predict(X_test)\n",
        "atual = accuracy_score(y_test,y_pred_bag)\n",
        "print(\"Bagging |Acurácia no treino apos validação: \",atual,'\\n')\n",
        "\n",
        "#Random Forest\n",
        "rf_clf = RandomForestClassifier(n_estimators=90)\n",
        "rf_clf.fit(X_train, y_train)\n",
        "y_pred_rf = rf_clf.predict(X_test)\n",
        "atual = accuracy_score(y_test,y_pred_rf)\n",
        "print(\"Random Forest | Acurácia no treino apos validação: \",atual,'\\n')\n",
        "\n",
        "#GradientBoost\n",
        "gb_clf = GradientBoostingClassifier(n_estimators=90)\n",
        "gb_clf.fit(X_train, y_train)\n",
        "y_pred_gb = gb_clf.predict(X_test)\n",
        "atual = accuracy_score(y_test,y_pred_gb)\n",
        "print(\"GradientBoost | Acurácia no treino apos validação: \",atual,'\\n')\n",
        "\n",
        "#AdaBoost\n",
        "ada_clf = AdaBoostClassifier(DecisionTreeClassifier(),n_estimators=90)\n",
        "ada_clf.fit(X_train, y_train)\n",
        "y_pred_ada = ada_clf.predict(X_test)\n",
        "atual = accuracy_score(y_test,y_pred_ada)\n",
        "print(\"Adaboost | Acurácia no treino apos validação: \",atual,'\\n')\n"
      ],
      "execution_count": null,
      "outputs": [
        {
          "output_type": "stream",
          "text": [
            "Bagging |Acurácia no treino apos validação:  0.956140350877193 \n",
            "\n",
            "Random Forest | Acurácia no treino apos validação:  0.9649122807017544 \n",
            "\n",
            "GradientBoost | Acurácia no treino apos validação:  0.956140350877193 \n",
            "\n",
            "Adaboost | Acurácia no treino apos validação:  0.9473684210526315 \n",
            "\n"
          ],
          "name": "stdout"
        }
      ]
    }
  ]
}