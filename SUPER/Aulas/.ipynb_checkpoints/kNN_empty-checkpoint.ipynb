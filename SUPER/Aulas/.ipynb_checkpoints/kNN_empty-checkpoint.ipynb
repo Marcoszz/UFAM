{
 "cells": [
  {
   "cell_type": "markdown",
   "metadata": {
    "colab_type": "text",
    "id": "ZqA1ule2LaAZ"
   },
   "source": [
    "**kNN**\n",
    "\n",
    "![alt text](http://res.cloudinary.com/dyd911kmh/image/upload/f_auto,q_auto:best/v1531424125/KNN_final1_ibdm8a.png)"
   ]
  },
  {
   "cell_type": "markdown",
   "metadata": {
    "colab_type": "text",
    "id": "aSJfmDAXGPaP"
   },
   "source": [
    "Distâncias:\n",
    "\n",
    "Euclidian: $d(x,y) = \\sqrt{(x_1 - y_1)^2+(x_2 - y_2)^2+...+(x_n - y_n)^2}$\n",
    "\n",
    "City block: $d(x,y) = |x_1 - y_1|+|x_2 - y_2|+...+|x_n - y_n|$\n",
    "\n",
    "Cosine: $d(x,y) = \\frac{\\sum_i x_i y_i}{\\sqrt{\\sum_i x_i^2}\\sqrt{\\sum_i y_i^2}}$\n",
    "\n",
    "e muitas outras..."
   ]
  },
  {
   "cell_type": "code",
   "execution_count": 1,
   "metadata": {
    "colab": {},
    "colab_type": "code",
    "id": "qnM2cdks9F3N"
   },
   "outputs": [],
   "source": [
    "# upload files, ou primeiro carregar o arquivo no menu lateral\n"
   ]
  },
  {
   "cell_type": "code",
   "execution_count": 2,
   "metadata": {
    "colab": {},
    "colab_type": "code",
    "id": "yIXVwLUgLhrk"
   },
   "outputs": [],
   "source": [
    "# verificar\n"
   ]
  },
  {
   "cell_type": "code",
   "execution_count": 3,
   "metadata": {
    "colab": {},
    "colab_type": "code",
    "id": "i0LIQ0NaLcvr"
   },
   "outputs": [],
   "source": [
    "# dataframe\n"
   ]
  },
  {
   "cell_type": "code",
   "execution_count": 4,
   "metadata": {
    "colab": {},
    "colab_type": "code",
    "id": "_tceHKw_L1Sd"
   },
   "outputs": [],
   "source": [
    "# filling NaN (missing values)\n"
   ]
  },
  {
   "cell_type": "code",
   "execution_count": 5,
   "metadata": {
    "colab": {},
    "colab_type": "code",
    "id": "YqRas3li9fi1"
   },
   "outputs": [],
   "source": [
    "# explorando os dados com histogramas"
   ]
  },
  {
   "cell_type": "code",
   "execution_count": 6,
   "metadata": {
    "colab": {},
    "colab_type": "code",
    "id": "2PBOpcKxCdCs"
   },
   "outputs": [],
   "source": [
    "# explorando correlação entre as variáveis\n"
   ]
  },
  {
   "cell_type": "code",
   "execution_count": 7,
   "metadata": {
    "colab": {},
    "colab_type": "code",
    "id": "JCRqUHnNOvS_"
   },
   "outputs": [],
   "source": [
    "# Remove the target variable from the training set\n"
   ]
  },
  {
   "cell_type": "code",
   "execution_count": 8,
   "metadata": {
    "colab": {},
    "colab_type": "code",
    "id": "KqjpjjrQPPVD"
   },
   "outputs": [],
   "source": [
    "# feature encoders\n"
   ]
  },
  {
   "cell_type": "code",
   "execution_count": 9,
   "metadata": {
    "colab": {},
    "colab_type": "code",
    "id": "g2EAxvTsCLB3"
   },
   "outputs": [],
   "source": [
    "# Novos histogramas\n"
   ]
  },
  {
   "cell_type": "code",
   "execution_count": 10,
   "metadata": {
    "colab": {},
    "colab_type": "code",
    "id": "aewb8ckTS9Yr"
   },
   "outputs": [],
   "source": [
    "# treino e teste\n"
   ]
  },
  {
   "cell_type": "code",
   "execution_count": 11,
   "metadata": {
    "colab": {},
    "colab_type": "code",
    "id": "H9m7KVBgNqmG"
   },
   "outputs": [],
   "source": [
    "# classificação e matriz de confusão\n"
   ]
  },
  {
   "cell_type": "code",
   "execution_count": 12,
   "metadata": {
    "colab": {},
    "colab_type": "code",
    "id": "O8qKZdPO-Xo6"
   },
   "outputs": [],
   "source": [
    "# comparando com um classificador de classe maioritáária\n"
   ]
  },
  {
   "cell_type": "markdown",
   "metadata": {
    "colab_type": "text",
    "id": "3JO0uQK6FCNK"
   },
   "source": [
    "**Efeito do parametro k**\n",
    "\n",
    "![alt text](http://res.cloudinary.com/dyd911kmh/image/upload/f_auto,q_auto:best/v1531424125/KNN_final_a1mrv9.png)"
   ]
  },
  {
   "cell_type": "code",
   "execution_count": 13,
   "metadata": {
    "colab": {},
    "colab_type": "code",
    "id": "a2T8CLh8AWfd"
   },
   "outputs": [],
   "source": [
    "# parameter search\n"
   ]
  },
  {
   "cell_type": "markdown",
   "metadata": {
    "colab_type": "text",
    "id": "nTBfptwJIRmR"
   },
   "source": [
    "Perguntas finais\n",
    "\n",
    "Porque devemos evitar k=1?\n",
    "\n",
    "Como podemos diminuir computacional da classificação?"
   ]
  }
 ],
 "metadata": {
  "colab": {
   "collapsed_sections": [],
   "name": "kNN_empty",
   "provenance": []
  },
  "kernelspec": {
   "display_name": "Python 3",
   "language": "python",
   "name": "python3"
  },
  "language_info": {
   "codemirror_mode": {
    "name": "ipython",
    "version": 3
   },
   "file_extension": ".py",
   "mimetype": "text/x-python",
   "name": "python",
   "nbconvert_exporter": "python",
   "pygments_lexer": "ipython3",
   "version": "3.8.2"
  }
 },
 "nbformat": 4,
 "nbformat_minor": 1
}
