{
 "cells": [
  {
   "cell_type": "markdown",
   "metadata": {
    "id": "giq5o9bHzBqP"
   },
   "source": [
    "Experimento Super\n"
   ]
  },
  {
   "cell_type": "code",
   "execution_count": null,
   "metadata": {
    "id": "O3E8BSYTpXal"
   },
   "outputs": [],
   "source": [
    "import pandas as pd\n",
    "import numpy as np\n",
    "import seaborn as sns\n",
    "from scipy import signal\n",
    "import sklearn\n",
    "import matplotlib.pyplot as plt\n",
    "from sklearn.decomposition import PCA\n",
    "from sklearn.preprocessing import StandardScaler, MinMaxScaler\n",
    "from sklearn.model_selection import train_test_split\n",
    "from sklearn import svm\n",
    "from sklearn.metrics import confusion_matrix, accuracy_score, classification_report\n",
    "from sklearn.naive_bayes import GaussianNB\n",
    "from sklearn.discriminant_analysis import LinearDiscriminantAnalysis\n",
    "from sklearn.tree import DecisionTreeClassifier\n",
    "from sklearn.ensemble import RandomForestClassifier\n",
    "from sklearn.neighbors import KNeighborsClassifier\n",
    "from sklearn.pipeline import Pipeline\n",
    "from sklearn.model_selection import cross_val_score\n",
    "from sklearn import svm\n",
    "from sklearn.model_selection import KFold\n",
    "from sklearn.model_selection import GridSearchCV\n",
    "from sklearn.manifold import TSNE\n",
    "%matplotlib inline\n",
    "palette = sns.color_palette(\"bright\", 10)"
   ]
  },
  {
   "cell_type": "code",
   "execution_count": null,
   "metadata": {
    "colab": {
     "base_uri": "https://localhost:8080/",
     "height": 456
    },
    "id": "j0atOAXbFVA4",
    "outputId": "97141a93-791a-41a7-92ef-7007c37d24f8"
   },
   "outputs": [
    {
     "data": {
      "text/html": [
       "<div>\n",
       "<style scoped>\n",
       "    .dataframe tbody tr th:only-of-type {\n",
       "        vertical-align: middle;\n",
       "    }\n",
       "\n",
       "    .dataframe tbody tr th {\n",
       "        vertical-align: top;\n",
       "    }\n",
       "\n",
       "    .dataframe thead th {\n",
       "        text-align: right;\n",
       "    }\n",
       "</style>\n",
       "<table border=\"1\" class=\"dataframe\">\n",
       "  <thead>\n",
       "    <tr style=\"text-align: right;\">\n",
       "      <th></th>\n",
       "      <th>Unnamed: 0</th>\n",
       "      <th>bpm</th>\n",
       "      <th>ibi</th>\n",
       "      <th>sdnn</th>\n",
       "      <th>sdsd</th>\n",
       "      <th>rmssd</th>\n",
       "      <th>pnn20</th>\n",
       "      <th>pnn50</th>\n",
       "      <th>hr_mad</th>\n",
       "      <th>sd1</th>\n",
       "      <th>sd2</th>\n",
       "      <th>s</th>\n",
       "      <th>sd1/sd2</th>\n",
       "      <th>breathingrate</th>\n",
       "      <th>segment_indices</th>\n",
       "      <th>time</th>\n",
       "      <th>ECG</th>\n",
       "      <th>GSR1</th>\n",
       "      <th>HR</th>\n",
       "      <th>marker</th>\n",
       "      <th>RESP</th>\n",
       "      <th>stress</th>\n",
       "      <th>EMG</th>\n",
       "      <th>GSR2</th>\n",
       "      <th>marker</th>\n",
       "      <th>RESP</th>\n",
       "    </tr>\n",
       "  </thead>\n",
       "  <tbody>\n",
       "    <tr>\n",
       "      <th>0</th>\n",
       "      <td>0</td>\n",
       "      <td>100.204225</td>\n",
       "      <td>598.777145</td>\n",
       "      <td>158.450721</td>\n",
       "      <td>123.06782636487213</td>\n",
       "      <td>231.500413</td>\n",
       "      <td>0.803030</td>\n",
       "      <td>0.803030</td>\n",
       "      <td>196.078431</td>\n",
       "      <td>163.479697</td>\n",
       "      <td>142.602496</td>\n",
       "      <td>73238.732937</td>\n",
       "      <td>1.146401</td>\n",
       "      <td>0.395229</td>\n",
       "      <td>(0, 612)</td>\n",
       "      <td>19.645164</td>\n",
       "      <td>-0.061711</td>\n",
       "      <td>1.646072</td>\n",
       "      <td>71.991274</td>\n",
       "      <td>0.000000</td>\n",
       "      <td>12.344410</td>\n",
       "      <td>0</td>\n",
       "      <td>NaN</td>\n",
       "      <td>NaN</td>\n",
       "      <td>NaN</td>\n",
       "      <td>NaN</td>\n",
       "    </tr>\n",
       "    <tr>\n",
       "      <th>1</th>\n",
       "      <td>1</td>\n",
       "      <td>76.500000</td>\n",
       "      <td>784.313725</td>\n",
       "      <td>175.377881</td>\n",
       "      <td>0.0</td>\n",
       "      <td>196.078431</td>\n",
       "      <td>1.000000</td>\n",
       "      <td>1.000000</td>\n",
       "      <td>196.078431</td>\n",
       "      <td>0.000000</td>\n",
       "      <td>0.000000</td>\n",
       "      <td>0.000000</td>\n",
       "      <td>NaN</td>\n",
       "      <td>0.255102</td>\n",
       "      <td>(612, 1224)</td>\n",
       "      <td>59.000000</td>\n",
       "      <td>-0.655916</td>\n",
       "      <td>1.552779</td>\n",
       "      <td>64.534682</td>\n",
       "      <td>2.249066</td>\n",
       "      <td>12.572282</td>\n",
       "      <td>0</td>\n",
       "      <td>NaN</td>\n",
       "      <td>NaN</td>\n",
       "      <td>NaN</td>\n",
       "      <td>NaN</td>\n",
       "    </tr>\n",
       "    <tr>\n",
       "      <th>2</th>\n",
       "      <td>2</td>\n",
       "      <td>NaN</td>\n",
       "      <td>NaN</td>\n",
       "      <td>NaN</td>\n",
       "      <td>--</td>\n",
       "      <td>NaN</td>\n",
       "      <td>NaN</td>\n",
       "      <td>NaN</td>\n",
       "      <td>NaN</td>\n",
       "      <td>NaN</td>\n",
       "      <td>NaN</td>\n",
       "      <td>NaN</td>\n",
       "      <td>NaN</td>\n",
       "      <td>NaN</td>\n",
       "      <td>(1224, 1836)</td>\n",
       "      <td>98.354836</td>\n",
       "      <td>-0.271397</td>\n",
       "      <td>1.539436</td>\n",
       "      <td>73.220705</td>\n",
       "      <td>14.553066</td>\n",
       "      <td>12.372616</td>\n",
       "      <td>0</td>\n",
       "      <td>NaN</td>\n",
       "      <td>NaN</td>\n",
       "      <td>NaN</td>\n",
       "      <td>NaN</td>\n",
       "    </tr>\n",
       "    <tr>\n",
       "      <th>3</th>\n",
       "      <td>3</td>\n",
       "      <td>108.547297</td>\n",
       "      <td>552.754435</td>\n",
       "      <td>164.120056</td>\n",
       "      <td>151.89921691491884</td>\n",
       "      <td>225.076095</td>\n",
       "      <td>0.611765</td>\n",
       "      <td>0.611765</td>\n",
       "      <td>196.078431</td>\n",
       "      <td>159.119394</td>\n",
       "      <td>169.640381</td>\n",
       "      <td>84801.245203</td>\n",
       "      <td>0.937981</td>\n",
       "      <td>0.517099</td>\n",
       "      <td>(1836, 2448)</td>\n",
       "      <td>137.709680</td>\n",
       "      <td>-0.004925</td>\n",
       "      <td>1.438843</td>\n",
       "      <td>70.006134</td>\n",
       "      <td>14.613492</td>\n",
       "      <td>12.213843</td>\n",
       "      <td>0</td>\n",
       "      <td>NaN</td>\n",
       "      <td>NaN</td>\n",
       "      <td>NaN</td>\n",
       "      <td>NaN</td>\n",
       "    </tr>\n",
       "    <tr>\n",
       "      <th>4</th>\n",
       "      <td>4</td>\n",
       "      <td>102.822581</td>\n",
       "      <td>583.529412</td>\n",
       "      <td>163.513894</td>\n",
       "      <td>142.4606483171773</td>\n",
       "      <td>248.628931</td>\n",
       "      <td>0.754902</td>\n",
       "      <td>0.754902</td>\n",
       "      <td>196.078431</td>\n",
       "      <td>175.723105</td>\n",
       "      <td>143.107671</td>\n",
       "      <td>79002.648945</td>\n",
       "      <td>1.227908</td>\n",
       "      <td>0.342879</td>\n",
       "      <td>(2448, 3060)</td>\n",
       "      <td>177.032258</td>\n",
       "      <td>0.000163</td>\n",
       "      <td>1.497253</td>\n",
       "      <td>69.899471</td>\n",
       "      <td>19.723284</td>\n",
       "      <td>12.163507</td>\n",
       "      <td>0</td>\n",
       "      <td>NaN</td>\n",
       "      <td>NaN</td>\n",
       "      <td>NaN</td>\n",
       "      <td>NaN</td>\n",
       "    </tr>\n",
       "    <tr>\n",
       "      <th>...</th>\n",
       "      <td>...</td>\n",
       "      <td>...</td>\n",
       "      <td>...</td>\n",
       "      <td>...</td>\n",
       "      <td>...</td>\n",
       "      <td>...</td>\n",
       "      <td>...</td>\n",
       "      <td>...</td>\n",
       "      <td>...</td>\n",
       "      <td>...</td>\n",
       "      <td>...</td>\n",
       "      <td>...</td>\n",
       "      <td>...</td>\n",
       "      <td>...</td>\n",
       "      <td>...</td>\n",
       "      <td>...</td>\n",
       "      <td>...</td>\n",
       "      <td>...</td>\n",
       "      <td>...</td>\n",
       "      <td>...</td>\n",
       "      <td>...</td>\n",
       "      <td>...</td>\n",
       "      <td>...</td>\n",
       "      <td>...</td>\n",
       "      <td>...</td>\n",
       "      <td>...</td>\n",
       "    </tr>\n",
       "    <tr>\n",
       "      <th>2440</th>\n",
       "      <td>154</td>\n",
       "      <td>87.466667</td>\n",
       "      <td>685.975610</td>\n",
       "      <td>203.188506</td>\n",
       "      <td>190.52839077380514</td>\n",
       "      <td>307.008709</td>\n",
       "      <td>0.688312</td>\n",
       "      <td>0.688312</td>\n",
       "      <td>243.902439</td>\n",
       "      <td>213.311399</td>\n",
       "      <td>171.429321</td>\n",
       "      <td>114881.220387</td>\n",
       "      <td>1.244311</td>\n",
       "      <td>0.471239</td>\n",
       "      <td>(75767, 76259)</td>\n",
       "      <td>4882.193546</td>\n",
       "      <td>0.000912</td>\n",
       "      <td>1.257591</td>\n",
       "      <td>70.645405</td>\n",
       "      <td>13.779836</td>\n",
       "      <td>11.676920</td>\n",
       "      <td>0</td>\n",
       "      <td>NaN</td>\n",
       "      <td>NaN</td>\n",
       "      <td>NaN</td>\n",
       "      <td>NaN</td>\n",
       "    </tr>\n",
       "    <tr>\n",
       "      <th>2441</th>\n",
       "      <td>155</td>\n",
       "      <td>82.298182</td>\n",
       "      <td>729.056204</td>\n",
       "      <td>201.815741</td>\n",
       "      <td>180.2971942964523</td>\n",
       "      <td>327.975708</td>\n",
       "      <td>0.780822</td>\n",
       "      <td>0.780822</td>\n",
       "      <td>243.902439</td>\n",
       "      <td>231.480228</td>\n",
       "      <td>163.203137</td>\n",
       "      <td>118684.028004</td>\n",
       "      <td>1.418356</td>\n",
       "      <td>0.388013</td>\n",
       "      <td>(76259, 76751)</td>\n",
       "      <td>4913.806454</td>\n",
       "      <td>0.004528</td>\n",
       "      <td>1.241389</td>\n",
       "      <td>72.914992</td>\n",
       "      <td>13.638896</td>\n",
       "      <td>11.769873</td>\n",
       "      <td>0</td>\n",
       "      <td>NaN</td>\n",
       "      <td>NaN</td>\n",
       "      <td>NaN</td>\n",
       "      <td>NaN</td>\n",
       "    </tr>\n",
       "    <tr>\n",
       "      <th>2442</th>\n",
       "      <td>156</td>\n",
       "      <td>71.750000</td>\n",
       "      <td>836.236934</td>\n",
       "      <td>120.700405</td>\n",
       "      <td>116.86766432925735</td>\n",
       "      <td>195.557006</td>\n",
       "      <td>0.642857</td>\n",
       "      <td>0.642857</td>\n",
       "      <td>0.000000</td>\n",
       "      <td>133.249639</td>\n",
       "      <td>102.328747</td>\n",
       "      <td>42836.459495</td>\n",
       "      <td>1.302172</td>\n",
       "      <td>0.213712</td>\n",
       "      <td>(76751, 77243)</td>\n",
       "      <td>4945.387098</td>\n",
       "      <td>0.002516</td>\n",
       "      <td>1.225859</td>\n",
       "      <td>69.274739</td>\n",
       "      <td>13.516184</td>\n",
       "      <td>11.780359</td>\n",
       "      <td>0</td>\n",
       "      <td>NaN</td>\n",
       "      <td>NaN</td>\n",
       "      <td>NaN</td>\n",
       "      <td>NaN</td>\n",
       "    </tr>\n",
       "    <tr>\n",
       "      <th>2443</th>\n",
       "      <td>157</td>\n",
       "      <td>73.135135</td>\n",
       "      <td>820.399113</td>\n",
       "      <td>117.328218</td>\n",
       "      <td>114.97671238805654</td>\n",
       "      <td>199.145508</td>\n",
       "      <td>0.666667</td>\n",
       "      <td>0.666667</td>\n",
       "      <td>0.000000</td>\n",
       "      <td>81.300813</td>\n",
       "      <td>81.300813</td>\n",
       "      <td>20765.368852</td>\n",
       "      <td>1.000000</td>\n",
       "      <td>0.499057</td>\n",
       "      <td>(77243, 77735)</td>\n",
       "      <td>4977.000000</td>\n",
       "      <td>0.003227</td>\n",
       "      <td>1.210892</td>\n",
       "      <td>65.720053</td>\n",
       "      <td>13.440510</td>\n",
       "      <td>11.771947</td>\n",
       "      <td>0</td>\n",
       "      <td>NaN</td>\n",
       "      <td>NaN</td>\n",
       "      <td>NaN</td>\n",
       "      <td>NaN</td>\n",
       "    </tr>\n",
       "    <tr>\n",
       "      <th>2444</th>\n",
       "      <td>158</td>\n",
       "      <td>85.346939</td>\n",
       "      <td>703.012912</td>\n",
       "      <td>207.166845</td>\n",
       "      <td>177.0488734752007</td>\n",
       "      <td>258.445338</td>\n",
       "      <td>0.596491</td>\n",
       "      <td>0.596491</td>\n",
       "      <td>243.902439</td>\n",
       "      <td>181.844496</td>\n",
       "      <td>226.503727</td>\n",
       "      <td>129397.351224</td>\n",
       "      <td>0.802832</td>\n",
       "      <td>0.251277</td>\n",
       "      <td>(77735, 78056)</td>\n",
       "      <td>5008.612902</td>\n",
       "      <td>0.001035</td>\n",
       "      <td>1.196451</td>\n",
       "      <td>72.790759</td>\n",
       "      <td>13.425755</td>\n",
       "      <td>11.860510</td>\n",
       "      <td>0</td>\n",
       "      <td>NaN</td>\n",
       "      <td>NaN</td>\n",
       "      <td>NaN</td>\n",
       "      <td>NaN</td>\n",
       "    </tr>\n",
       "  </tbody>\n",
       "</table>\n",
       "<p>2445 rows × 26 columns</p>\n",
       "</div>"
      ],
      "text/plain": [
       "      Unnamed: 0         bpm         ibi        sdnn  ... EMG  GSR2  marker   RESP\n",
       "0              0  100.204225  598.777145  158.450721  ... NaN   NaN     NaN    NaN\n",
       "1              1   76.500000  784.313725  175.377881  ... NaN   NaN     NaN    NaN\n",
       "2              2         NaN         NaN         NaN  ... NaN   NaN     NaN    NaN\n",
       "3              3  108.547297  552.754435  164.120056  ... NaN   NaN     NaN    NaN\n",
       "4              4  102.822581  583.529412  163.513894  ... NaN   NaN     NaN    NaN\n",
       "...          ...         ...         ...         ...  ...  ..   ...     ...    ...\n",
       "2440         154   87.466667  685.975610  203.188506  ... NaN   NaN     NaN    NaN\n",
       "2441         155   82.298182  729.056204  201.815741  ... NaN   NaN     NaN    NaN\n",
       "2442         156   71.750000  836.236934  120.700405  ... NaN   NaN     NaN    NaN\n",
       "2443         157   73.135135  820.399113  117.328218  ... NaN   NaN     NaN    NaN\n",
       "2444         158   85.346939  703.012912  207.166845  ... NaN   NaN     NaN    NaN\n",
       "\n",
       "[2445 rows x 26 columns]"
      ]
     },
     "execution_count": 87,
     "metadata": {
      "tags": []
     },
     "output_type": "execute_result"
    }
   ],
   "source": [
    "df=pd.read_csv(\"dataframe.csv\")\n",
    "df"
   ]
  },
  {
   "cell_type": "code",
   "execution_count": null,
   "metadata": {
    "colab": {
     "base_uri": "https://localhost:8080/",
     "height": 221
    },
    "id": "yCdVYvfnJh9y",
    "outputId": "40ab28b6-67b7-4432-a359-c63e9ad975ce"
   },
   "outputs": [
    {
     "data": {
      "text/plain": [
       "0      -0.061711\n",
       "1      -0.655916\n",
       "2      -0.271397\n",
       "3      -0.004925\n",
       "4       0.000163\n",
       "          ...   \n",
       "2440    0.000912\n",
       "2441    0.004528\n",
       "2442    0.002516\n",
       "2443    0.003227\n",
       "2444    0.001035\n",
       "Name: ECG, Length: 2445, dtype: float64"
      ]
     },
     "execution_count": 88,
     "metadata": {
      "tags": []
     },
     "output_type": "execute_result"
    }
   ],
   "source": [
    "df['ECG']\n"
   ]
  },
  {
   "cell_type": "code",
   "execution_count": null,
   "metadata": {
    "id": "vNC2c14D_vVh"
   },
   "outputs": [],
   "source": [
    "selected_x_columns = ['bpm','ibi','sdnn','sdsd', 'rmssd', 'pnn20','pnn50','hr_mad','sd1','sd2','s','sd1/sd2','breathingrate','ECG','HR',]"
   ]
  },
  {
   "cell_type": "code",
   "execution_count": null,
   "metadata": {
    "colab": {
     "base_uri": "https://localhost:8080/",
     "height": 289
    },
    "id": "s9E_t6KPGolr",
    "outputId": "b3b6861e-f654-4208-c728-e5a469e65a9e"
   },
   "outputs": [
    {
     "data": {
      "text/plain": [
       "bpm              7.846122e+01\n",
       "ibi              8.055528e+02\n",
       "sdnn             1.603791e+02\n",
       "rmssd            2.375325e+02\n",
       "pnn20            6.428547e-01\n",
       "pnn50            6.428547e-01\n",
       "hr_mad           1.258452e+02\n",
       "sd1              1.567205e+02\n",
       "sd2              1.422425e+02\n",
       "s                7.694332e+04\n",
       "sd1/sd2          6.574198e+11\n",
       "breathingrate    9.074360e-01\n",
       "ECG             -4.114936e-02\n",
       "HR               7.820151e+01\n",
       "stress           6.817996e-01\n",
       "dtype: float64"
      ]
     },
     "execution_count": 90,
     "metadata": {
      "tags": []
     },
     "output_type": "execute_result"
    }
   ],
   "source": [
    "K = df[selected_x_columns +['stress']]\n",
    "a = K.replace([np.inf, -np.inf], np.nan)\n",
    "a.mean()"
   ]
  },
  {
   "cell_type": "code",
   "execution_count": null,
   "metadata": {
    "colab": {
     "base_uri": "https://localhost:8080/",
     "height": 289
    },
    "id": "ZEwYeuEfG_t6",
    "outputId": "170d29a1-ecea-427f-8be0-e5c60591274a"
   },
   "outputs": [
    {
     "data": {
      "text/plain": [
       "bpm              7.908760e+01\n",
       "ibi              7.927844e+02\n",
       "sdnn             1.696254e+02\n",
       "rmssd            2.493578e+02\n",
       "pnn20            6.563852e-01\n",
       "pnn50            6.563852e-01\n",
       "hr_mad           1.424506e+02\n",
       "sd1              1.707999e+02\n",
       "sd2              1.531774e+02\n",
       "s                8.480824e+04\n",
       "sd1/sd2          7.383167e+11\n",
       "breathingrate    3.112728e-01\n",
       "ECG             -5.325765e-02\n",
       "HR               7.879513e+01\n",
       "stress           7.544331e-01\n",
       "dtype: float64"
      ]
     },
     "execution_count": 91,
     "metadata": {
      "tags": []
     },
     "output_type": "execute_result"
    }
   ],
   "source": [
    "A = a.dropna()\n",
    "A.mean()"
   ]
  },
  {
   "cell_type": "code",
   "execution_count": null,
   "metadata": {
    "id": "hnKODzhh-AEw"
   },
   "outputs": [],
   "source": [
    "A.to_csv('db.csv',index=True)"
   ]
  },
  {
   "cell_type": "code",
   "execution_count": null,
   "metadata": {
    "colab": {
     "base_uri": "https://localhost:8080/",
     "height": 34
    },
    "id": "xxk4bIty-mpZ",
    "outputId": "5b0b0891-c67d-4fb0-b253-f7748bdd1670"
   },
   "outputs": [
    {
     "data": {
      "text/plain": [
       "1404"
      ]
     },
     "execution_count": 93,
     "metadata": {
      "tags": []
     },
     "output_type": "execute_result"
    }
   ],
   "source": [
    "z = pd.read_csv(\"db.csv\")\n",
    "z['stress'].sum()"
   ]
  },
  {
   "cell_type": "code",
   "execution_count": null,
   "metadata": {
    "colab": {
     "base_uri": "https://localhost:8080/",
     "height": 419
    },
    "id": "KJ1BATAt_Z4l",
    "outputId": "538c4d0e-1f69-4fdb-e683-0ad683f33b47"
   },
   "outputs": [
    {
     "data": {
      "text/html": [
       "<div>\n",
       "<style scoped>\n",
       "    .dataframe tbody tr th:only-of-type {\n",
       "        vertical-align: middle;\n",
       "    }\n",
       "\n",
       "    .dataframe tbody tr th {\n",
       "        vertical-align: top;\n",
       "    }\n",
       "\n",
       "    .dataframe thead th {\n",
       "        text-align: right;\n",
       "    }\n",
       "</style>\n",
       "<table border=\"1\" class=\"dataframe\">\n",
       "  <thead>\n",
       "    <tr style=\"text-align: right;\">\n",
       "      <th></th>\n",
       "      <th>bpm</th>\n",
       "      <th>ibi</th>\n",
       "      <th>sdnn</th>\n",
       "      <th>sdsd</th>\n",
       "      <th>rmssd</th>\n",
       "      <th>pnn20</th>\n",
       "      <th>pnn50</th>\n",
       "      <th>hr_mad</th>\n",
       "      <th>sd1</th>\n",
       "      <th>sd2</th>\n",
       "      <th>s</th>\n",
       "      <th>sd1/sd2</th>\n",
       "      <th>breathingrate</th>\n",
       "      <th>ECG</th>\n",
       "      <th>HR</th>\n",
       "    </tr>\n",
       "  </thead>\n",
       "  <tbody>\n",
       "    <tr>\n",
       "      <th>0</th>\n",
       "      <td>100.204225</td>\n",
       "      <td>598.777145</td>\n",
       "      <td>158.450721</td>\n",
       "      <td>123.067826</td>\n",
       "      <td>231.500413</td>\n",
       "      <td>0.803030</td>\n",
       "      <td>0.803030</td>\n",
       "      <td>196.078431</td>\n",
       "      <td>163.479697</td>\n",
       "      <td>142.602496</td>\n",
       "      <td>73238.732937</td>\n",
       "      <td>1.146401</td>\n",
       "      <td>0.395229</td>\n",
       "      <td>-0.061711</td>\n",
       "      <td>71.991274</td>\n",
       "    </tr>\n",
       "    <tr>\n",
       "      <th>1</th>\n",
       "      <td>108.547297</td>\n",
       "      <td>552.754435</td>\n",
       "      <td>164.120056</td>\n",
       "      <td>151.899217</td>\n",
       "      <td>225.076095</td>\n",
       "      <td>0.611765</td>\n",
       "      <td>0.611765</td>\n",
       "      <td>196.078431</td>\n",
       "      <td>159.119394</td>\n",
       "      <td>169.640381</td>\n",
       "      <td>84801.245203</td>\n",
       "      <td>0.937981</td>\n",
       "      <td>0.517099</td>\n",
       "      <td>-0.004925</td>\n",
       "      <td>70.006134</td>\n",
       "    </tr>\n",
       "    <tr>\n",
       "      <th>2</th>\n",
       "      <td>102.822581</td>\n",
       "      <td>583.529412</td>\n",
       "      <td>163.513894</td>\n",
       "      <td>142.460648</td>\n",
       "      <td>248.628931</td>\n",
       "      <td>0.754902</td>\n",
       "      <td>0.754902</td>\n",
       "      <td>196.078431</td>\n",
       "      <td>175.723105</td>\n",
       "      <td>143.107671</td>\n",
       "      <td>79002.648945</td>\n",
       "      <td>1.227908</td>\n",
       "      <td>0.342879</td>\n",
       "      <td>0.000163</td>\n",
       "      <td>69.899471</td>\n",
       "    </tr>\n",
       "    <tr>\n",
       "      <th>3</th>\n",
       "      <td>106.180328</td>\n",
       "      <td>565.076424</td>\n",
       "      <td>167.997165</td>\n",
       "      <td>149.942330</td>\n",
       "      <td>237.780025</td>\n",
       "      <td>0.676471</td>\n",
       "      <td>0.676471</td>\n",
       "      <td>196.078431</td>\n",
       "      <td>165.923457</td>\n",
       "      <td>153.642762</td>\n",
       "      <td>80088.427594</td>\n",
       "      <td>1.079930</td>\n",
       "      <td>0.390320</td>\n",
       "      <td>-0.005618</td>\n",
       "      <td>68.789952</td>\n",
       "    </tr>\n",
       "    <tr>\n",
       "      <th>4</th>\n",
       "      <td>83.785714</td>\n",
       "      <td>716.112532</td>\n",
       "      <td>136.934172</td>\n",
       "      <td>124.010889</td>\n",
       "      <td>232.003129</td>\n",
       "      <td>0.800000</td>\n",
       "      <td>0.800000</td>\n",
       "      <td>196.078431</td>\n",
       "      <td>148.683832</td>\n",
       "      <td>116.827209</td>\n",
       "      <td>54570.460591</td>\n",
       "      <td>1.272682</td>\n",
       "      <td>0.242954</td>\n",
       "      <td>0.004269</td>\n",
       "      <td>68.114567</td>\n",
       "    </tr>\n",
       "    <tr>\n",
       "      <th>...</th>\n",
       "      <td>...</td>\n",
       "      <td>...</td>\n",
       "      <td>...</td>\n",
       "      <td>...</td>\n",
       "      <td>...</td>\n",
       "      <td>...</td>\n",
       "      <td>...</td>\n",
       "      <td>...</td>\n",
       "      <td>...</td>\n",
       "      <td>...</td>\n",
       "      <td>...</td>\n",
       "      <td>...</td>\n",
       "      <td>...</td>\n",
       "      <td>...</td>\n",
       "      <td>...</td>\n",
       "    </tr>\n",
       "    <tr>\n",
       "      <th>1856</th>\n",
       "      <td>87.466667</td>\n",
       "      <td>685.975610</td>\n",
       "      <td>203.188506</td>\n",
       "      <td>190.528391</td>\n",
       "      <td>307.008709</td>\n",
       "      <td>0.688312</td>\n",
       "      <td>0.688312</td>\n",
       "      <td>243.902439</td>\n",
       "      <td>213.311399</td>\n",
       "      <td>171.429321</td>\n",
       "      <td>114881.220387</td>\n",
       "      <td>1.244311</td>\n",
       "      <td>0.471239</td>\n",
       "      <td>0.000912</td>\n",
       "      <td>70.645405</td>\n",
       "    </tr>\n",
       "    <tr>\n",
       "      <th>1857</th>\n",
       "      <td>82.298182</td>\n",
       "      <td>729.056204</td>\n",
       "      <td>201.815741</td>\n",
       "      <td>180.297194</td>\n",
       "      <td>327.975708</td>\n",
       "      <td>0.780822</td>\n",
       "      <td>0.780822</td>\n",
       "      <td>243.902439</td>\n",
       "      <td>231.480228</td>\n",
       "      <td>163.203137</td>\n",
       "      <td>118684.028004</td>\n",
       "      <td>1.418356</td>\n",
       "      <td>0.388013</td>\n",
       "      <td>0.004528</td>\n",
       "      <td>72.914992</td>\n",
       "    </tr>\n",
       "    <tr>\n",
       "      <th>1858</th>\n",
       "      <td>71.750000</td>\n",
       "      <td>836.236934</td>\n",
       "      <td>120.700405</td>\n",
       "      <td>116.867664</td>\n",
       "      <td>195.557006</td>\n",
       "      <td>0.642857</td>\n",
       "      <td>0.642857</td>\n",
       "      <td>0.000000</td>\n",
       "      <td>133.249639</td>\n",
       "      <td>102.328747</td>\n",
       "      <td>42836.459495</td>\n",
       "      <td>1.302172</td>\n",
       "      <td>0.213712</td>\n",
       "      <td>0.002516</td>\n",
       "      <td>69.274739</td>\n",
       "    </tr>\n",
       "    <tr>\n",
       "      <th>1859</th>\n",
       "      <td>73.135135</td>\n",
       "      <td>820.399113</td>\n",
       "      <td>117.328218</td>\n",
       "      <td>114.976712</td>\n",
       "      <td>199.145508</td>\n",
       "      <td>0.666667</td>\n",
       "      <td>0.666667</td>\n",
       "      <td>0.000000</td>\n",
       "      <td>81.300813</td>\n",
       "      <td>81.300813</td>\n",
       "      <td>20765.368852</td>\n",
       "      <td>1.000000</td>\n",
       "      <td>0.499057</td>\n",
       "      <td>0.003227</td>\n",
       "      <td>65.720053</td>\n",
       "    </tr>\n",
       "    <tr>\n",
       "      <th>1860</th>\n",
       "      <td>85.346939</td>\n",
       "      <td>703.012912</td>\n",
       "      <td>207.166845</td>\n",
       "      <td>177.048873</td>\n",
       "      <td>258.445338</td>\n",
       "      <td>0.596491</td>\n",
       "      <td>0.596491</td>\n",
       "      <td>243.902439</td>\n",
       "      <td>181.844496</td>\n",
       "      <td>226.503727</td>\n",
       "      <td>129397.351224</td>\n",
       "      <td>0.802832</td>\n",
       "      <td>0.251277</td>\n",
       "      <td>0.001035</td>\n",
       "      <td>72.790759</td>\n",
       "    </tr>\n",
       "  </tbody>\n",
       "</table>\n",
       "<p>1861 rows × 15 columns</p>\n",
       "</div>"
      ],
      "text/plain": [
       "             bpm         ibi        sdnn  ...  breathingrate       ECG         HR\n",
       "0     100.204225  598.777145  158.450721  ...       0.395229 -0.061711  71.991274\n",
       "1     108.547297  552.754435  164.120056  ...       0.517099 -0.004925  70.006134\n",
       "2     102.822581  583.529412  163.513894  ...       0.342879  0.000163  69.899471\n",
       "3     106.180328  565.076424  167.997165  ...       0.390320 -0.005618  68.789952\n",
       "4      83.785714  716.112532  136.934172  ...       0.242954  0.004269  68.114567\n",
       "...          ...         ...         ...  ...            ...       ...        ...\n",
       "1856   87.466667  685.975610  203.188506  ...       0.471239  0.000912  70.645405\n",
       "1857   82.298182  729.056204  201.815741  ...       0.388013  0.004528  72.914992\n",
       "1858   71.750000  836.236934  120.700405  ...       0.213712  0.002516  69.274739\n",
       "1859   73.135135  820.399113  117.328218  ...       0.499057  0.003227  65.720053\n",
       "1860   85.346939  703.012912  207.166845  ...       0.251277  0.001035  72.790759\n",
       "\n",
       "[1861 rows x 15 columns]"
      ]
     },
     "execution_count": 94,
     "metadata": {
      "tags": []
     },
     "output_type": "execute_result"
    }
   ],
   "source": [
    "X = z[selected_x_columns]\n",
    "Y = z['stress']\n",
    "X"
   ]
  },
  {
   "cell_type": "markdown",
   "metadata": {
    "id": "jhzIEvsZga-a"
   },
   "source": [
    "#Utilizando train test-split para fazer estudo sobre os melhores Hiper parametros.\n",
    "Modifiquei os valores de teste size para simular os folds, eu não fiz isso utilizando os folds normais pq as bases de treino e teste e validação ficavam desbalanceadas quanto testei."
   ]
  },
  {
   "cell_type": "code",
   "execution_count": null,
   "metadata": {
    "colab": {
     "base_uri": "https://localhost:8080/",
     "height": 68
    },
    "id": "XoEfVdJ4nvph",
    "outputId": "899ea828-27b4-4ea1-bcac-db25fbbeecfe"
   },
   "outputs": [
    {
     "name": "stdout",
     "output_type": "stream",
     "text": [
      "(1116, 15) (1116,)\n",
      "(372, 15) (372,)\n",
      "(373, 15) (373,)\n"
     ]
    }
   ],
   "source": [
    "X_train, X_vt, y_train, y_vt = train_test_split(X, Y, test_size=0.4,random_state=30)\n",
    "X_val, X_test, y_val, y_test = train_test_split(X_vt,y_vt, test_size = 0.5,random_state=30)\n",
    "\n",
    "print(X_train.shape, y_train.shape)\n",
    "print(X_val.shape, y_val.shape)\n",
    "print(X_test.shape, y_test.shape)"
   ]
  },
  {
   "cell_type": "markdown",
   "metadata": {
    "id": "A7aR2v003jrJ"
   },
   "source": [
    "Normalização\n"
   ]
  },
  {
   "cell_type": "code",
   "execution_count": null,
   "metadata": {
    "id": "2O80oHbF3jfF"
   },
   "outputs": [],
   "source": [
    "X_train_nor = X_train/255\n",
    "X_val_nor = X_val/255\n",
    "X_test_nor = X_test/255"
   ]
  },
  {
   "cell_type": "markdown",
   "metadata": {
    "id": "ZMfA0mQE3358"
   },
   "source": [
    "Standard \n"
   ]
  },
  {
   "cell_type": "code",
   "execution_count": null,
   "metadata": {
    "id": "xqp9efuv4IMQ"
   },
   "outputs": [],
   "source": [
    "std = StandardScaler()\n",
    "\n",
    "std.fit(X_train)\n",
    "X_train_std = std.transform(X_train)\n",
    "X_val_std = std.transform(X_val)\n",
    "x_test_std = std.transform(X_test) "
   ]
  },
  {
   "cell_type": "markdown",
   "metadata": {
    "id": "cw-fE0a48Wfx"
   },
   "source": [
    "PCA "
   ]
  },
  {
   "cell_type": "code",
   "execution_count": null,
   "metadata": {
    "colab": {
     "base_uri": "https://localhost:8080/",
     "height": 1000
    },
    "id": "qC6itW6cUzRa",
    "outputId": "b403cb99-9576-450c-af49-f7fbc6f81ea9"
   },
   "outputs": [
    {
     "name": "stdout",
     "output_type": "stream",
     "text": [
      "(10, 15)\n",
      "(10, 15)\n"
     ]
    },
    {
     "data": {
      "image/png": "[encoded data removed]",
      "text/plain": [
       "<Figure size 1440x216 with 1 Axes>"
      ]
     },
     "metadata": {
      "needs_background": "light",
      "tags": []
     },
     "output_type": "display_data"
    },
    {
     "data": {
      "image/png": "[encoded data removed]",
      "text/plain": [
       "<Figure size 1440x216 with 1 Axes>"
      ]
     },
     "metadata": {
      "needs_background": "light",
      "tags": []
     },
     "output_type": "display_data"
    },
    {
     "data": {
      "image/png": "[encoded data removed]",
      "text/plain": [
       "<Figure size 1440x216 with 1 Axes>"
      ]
     },
     "metadata": {
      "needs_background": "light",
      "tags": []
     },
     "output_type": "display_data"
    },
    {
     "data": {
      "image/png": "[encoded data removed]",
      "text/plain": [
       "<Figure size 1440x216 with 1 Axes>"
      ]
     },
     "metadata": {
      "needs_background": "light",
      "tags": []
     },
     "output_type": "display_data"
    },
    {
     "data": {
      "image/png": "[encoded data removed]",
      "text/plain": [
       "<Figure size 1440x216 with 1 Axes>"
      ]
     },
     "metadata": {
      "needs_background": "light",
      "tags": []
     },
     "output_type": "display_data"
    },
    {
     "data": {
      "image/png": "[encoded data removed]",
      "text/plain": [
       "<Figure size 1440x216 with 1 Axes>"
      ]
     },
     "metadata": {
      "needs_background": "light",
      "tags": []
     },
     "output_type": "display_data"
    },
    {
     "data": {
      "image/png": "[encoded data removed]",
      "text/plain": [
       "<Figure size 1440x216 with 1 Axes>"
      ]
     },
     "metadata": {
      "needs_background": "light",
      "tags": []
     },
     "output_type": "display_data"
    },
    {
     "data": {
      "image/png": "[encoded data removed]",
      "text/plain": [
       "<Figure size 1440x216 with 1 Axes>"
      ]
     },
     "metadata": {
      "needs_background": "light",
      "tags": []
     },
     "output_type": "display_data"
    },
    {
     "data": {
      "image/png": "[encoded data removed]",
      "text/plain": [
       "<Figure size 1440x216 with 1 Axes>"
      ]
     },
     "metadata": {
      "needs_background": "light",
      "tags": []
     },
     "output_type": "display_data"
    },
    {
     "data": {
      "image/png": "[encoded data removed]",
      "text/plain": [
       "<Figure size 1440x216 with 1 Axes>"
      ]
     },
     "metadata": {
      "needs_background": "light",
      "tags": []
     },
     "output_type": "display_data"
    }
   ],
   "source": [
    "n_components = 10\n",
    "pca = PCA(n_components = n_components)\n",
    "pca.fit(X_train)\n",
    "print(pca.components_.shape)\n",
    "print(pca.components_.shape)\n",
    "for i in range(0,10):\n",
    "  plt.figure(figsize=(20, 3))\n",
    "  plt.bar(range(15),pca.components_[i])\n",
    "  plt.show()"
   ]
  },
  {
   "cell_type": "code",
   "execution_count": null,
   "metadata": {
    "colab": {
     "base_uri": "https://localhost:8080/",
     "height": 34
    },
    "id": "KJbW-K_JyqBR",
    "outputId": "5c9b0c52-712a-40e1-8793-4c4774d11b30"
   },
   "outputs": [
    {
     "name": "stdout",
     "output_type": "stream",
     "text": [
      "(1116,) (372,)\n"
     ]
    }
   ],
   "source": [
    "y = y_train.ravel()\n",
    "y_v = y_val.ravel()\n",
    "y_t = y_test.ravel()\n",
    "print(y.shape,y_v.shape)"
   ]
  },
  {
   "cell_type": "code",
   "execution_count": null,
   "metadata": {
    "colab": {
     "base_uri": "https://localhost:8080/",
     "height": 336
    },
    "id": "vs49QOKnQAbj",
    "outputId": "41c13bc5-4fe6-4300-c9a7-1c178e5663a1"
   },
   "outputs": [
    {
     "data": {
      "image/png": "[encoded data removed]",
      "text/plain": [
       "<Figure size 1584x360 with 1 Axes>"
      ]
     },
     "metadata": {
      "needs_background": "light",
      "tags": []
     },
     "output_type": "display_data"
    }
   ],
   "source": [
    "acc=[]\n",
    "accstd=[]\n",
    "accnor=[]\n",
    "for i in range(1,16):\n",
    "  pca = PCA(n_components=i)\n",
    "  X_train_pca = pca.fit_transform(X_train)\n",
    "  X_val_pca = pca.transform(X_val)\n",
    "\n",
    "  clf = GaussianNB()\n",
    "  clf.fit(X_train_pca, y)\n",
    "  pred_test = clf.predict(X_val_pca)\n",
    "  acc.append(clf.score(X_val_pca, y_v))\n",
    "\n",
    "  X_train_pca_std = pca.fit_transform(X_train_std)\n",
    "  X_val_pca_std= pca.transform(X_val_std)\n",
    "  clf.fit(X_train_pca_std,y)\n",
    "  pred_test = clf.predict(X_val_pca_std)\n",
    "  accstd.append(clf.score(X_val_pca_std, y_v))\n",
    "\n",
    "  X_train_pca_nor = pca.fit_transform(X_train_nor)\n",
    "  X_val_pca_nor = pca.transform(X_val_nor)\n",
    "  clf.fit(X_train_pca_nor,y)\n",
    "  pred_test = clf.predict(X_val_pca_nor)\n",
    "  accnor.append(clf.score(X_val_pca_nor,y_v))\n",
    "plt.figure(figsize=(22,5))\n",
    "plt.subplot(1,2,1)\n",
    "plt.title(\"Acurácia dos métodos com Standard(laranja) e normalizado\")\n",
    "plt.plot(acc,'-o')\n",
    "plt.plot(accstd,'-o')\n",
    "plt.show()"
   ]
  },
  {
   "cell_type": "code",
   "execution_count": null,
   "metadata": {
    "colab": {
     "base_uri": "https://localhost:8080/",
     "height": 336
    },
    "id": "DxG3Ua2jX3jj",
    "outputId": "f7689eb4-4ac4-494d-a2e5-66760af4363a"
   },
   "outputs": [
    {
     "data": {
      "image/png": "[encoded data removed]",
      "text/plain": [
       "<Figure size 1584x360 with 1 Axes>"
      ]
     },
     "metadata": {
      "needs_background": "light",
      "tags": []
     },
     "output_type": "display_data"
    }
   ],
   "source": [
    "acc=[]\n",
    "accstd =[]\n",
    "accnor = []\n",
    "for i in range(1,16):\n",
    "  pca = PCA(n_components=i)\n",
    "  X_train_pca = pca.fit_transform(X_train)\n",
    "  X_val_pca = pca.transform(X_val)\n",
    "\n",
    "  clf = DecisionTreeClassifier()\n",
    "  clf.fit(X_train_pca, y)\n",
    "  pred_test = clf.predict(X_val_pca)\n",
    "  acc.append(clf.score(X_val_pca, y_v))\n",
    "\n",
    "  X_train_pca_std = pca.fit_transform(X_train_std)\n",
    "  X_val_pca_std= pca.transform(X_val_std)\n",
    "  clf.fit(X_train_pca_std,y)\n",
    "  pred_test = clf.predict(X_val_pca_std)\n",
    "  accstd.append(clf.score(X_val_pca_std, y_v))\n",
    "\n",
    "  X_train_pca_nor = pca.fit_transform(X_train_nor)\n",
    "  X_val_pca_nor = pca.transform(X_val_nor)\n",
    "  clf.fit(X_train_pca_nor,y)\n",
    "  pred_test = clf.predict(X_val_pca_nor)\n",
    "  accnor.append(clf.score(X_val_pca_nor,y_v))\n",
    "  \n",
    "plt.figure(figsize=(22,5))\n",
    "plt.subplot(1,2,1)\n",
    "plt.title(\"Acurácia dos métodos com Standard(laranja) e normalizado(azul) para Arvore de decisão\")\n",
    "plt.plot(acc,'-o')\n",
    "plt.plot(accstd,'-o')\n",
    "plt.show()"
   ]
  },
  {
   "cell_type": "code",
   "execution_count": null,
   "metadata": {
    "colab": {
     "base_uri": "https://localhost:8080/",
     "height": 879
    },
    "id": "jf5dwRKbVSof",
    "outputId": "d8d9b949-73cf-46c3-c5b1-e39873b770c0"
   },
   "outputs": [
    {
     "name": "stdout",
     "output_type": "stream",
     "text": [
      "[[ 49  55]\n",
      " [ 33 236]]\n",
      "              precision    recall  f1-score   support\n",
      "\n",
      "           0       0.60      0.47      0.53       104\n",
      "           1       0.81      0.88      0.84       269\n",
      "\n",
      "    accuracy                           0.76       373\n",
      "   macro avg       0.70      0.67      0.68       373\n",
      "weighted avg       0.75      0.76      0.75       373\n",
      "\n",
      "Acurácia: 0.7640750670241286\n",
      "Matriz de confusão, não normalizada\n",
      "[[ 51  53]\n",
      " [ 34 235]]\n",
      "Matriz normalizada\n",
      "[[0.49038462 0.50961538]\n",
      " [0.12639405 0.87360595]]\n"
     ]
    },
    {
     "data": {
      "image/png": "[encoded data removed]",
      "text/plain": [
       "<Figure size 432x288 with 2 Axes>"
      ]
     },
     "metadata": {
      "needs_background": "light",
      "tags": []
     },
     "output_type": "display_data"
    },
    {
     "data": {
      "image/png": "[encoded data removed]",
      "text/plain": [
       "<Figure size 432x288 with 2 Axes>"
      ]
     },
     "metadata": {
      "needs_background": "light",
      "tags": []
     },
     "output_type": "display_data"
    }
   ],
   "source": [
    "#teste\n",
    "from sklearn.metrics import plot_confusion_matrix\n",
    "from sklearn.metrics import confusion_matrix, plot_confusion_matrix\n",
    "\n",
    "pca = PCA(n_components=15)\n",
    "X_train_pca = pca.fit_transform(X_train)\n",
    "X_test_pca = pca.transform(X_test)\n",
    "\n",
    "clf = DecisionTreeClassifier()\n",
    "clf.fit(X_train_pca, y)\n",
    "pred_test = clf.predict(X_test_pca)\n",
    "print(confusion_matrix(y_test,pred_test))\n",
    "print(classification_report(y_test,pred_test))\n",
    "print(\"Acurácia:\", accuracy_score(y_test,pred_test))\n",
    "class_names = ['Estressado, não estressado']\n",
    "clf = DecisionTreeClassifier().fit(X_train_pca,y)\n",
    "titles_options = [(\"Matriz de confusão, não normalizada\", None),\n",
    "                  (\"Matriz normalizada\", 'true')]\n",
    "for title, normalize in titles_options:\n",
    "    disp = plot_confusion_matrix(clf, X_test_pca, y_test,\n",
    "                                 display_labels=class_names,\n",
    "                                 cmap=plt.cm.Blues,\n",
    "                                 normalize=normalize)\n",
    "    disp.ax_.set_title(title)\n",
    "\n",
    "    print(title)\n",
    "    print(disp.confusion_matrix)\n",
    "\n",
    "plt.show()"
   ]
  },
  {
   "cell_type": "code",
   "execution_count": null,
   "metadata": {
    "colab": {
     "base_uri": "https://localhost:8080/",
     "height": 933
    },
    "id": "84kpIs2bu8G7",
    "outputId": "5fe637c1-62c4-445c-fa97-cb4ac742b01d"
   },
   "outputs": [
    {
     "name": "stdout",
     "output_type": "stream",
     "text": [
      "[[  0  93]\n",
      " [  0 279]]\n",
      "              precision    recall  f1-score   support\n",
      "\n",
      "           0       0.00      0.00      0.00        93\n",
      "           1       0.75      1.00      0.86       279\n",
      "\n",
      "    accuracy                           0.75       372\n",
      "   macro avg       0.38      0.50      0.43       372\n",
      "weighted avg       0.56      0.75      0.64       372\n",
      "\n",
      "Acurácia: 0.75\n",
      "Matriz de confusão, não normalizada\n",
      "[[ 65  28]\n",
      " [167 112]]\n",
      "Matriz normalizada\n",
      "[[0.69892473 0.30107527]\n",
      " [0.59856631 0.40143369]]\n"
     ]
    },
    {
     "name": "stderr",
     "output_type": "stream",
     "text": [
      "/usr/local/lib/python3.6/dist-packages/sklearn/metrics/_classification.py:1272: UndefinedMetricWarning: Precision and F-score are ill-defined and being set to 0.0 in labels with no predicted samples. Use `zero_division` parameter to control this behavior.\n",
      "  _warn_prf(average, modifier, msg_start, len(result))\n"
     ]
    },
    {
     "data": {
      "image/png": "[encoded data removed]",
      "text/plain": [
       "<Figure size 432x288 with 2 Axes>"
      ]
     },
     "metadata": {
      "needs_background": "light",
      "tags": []
     },
     "output_type": "display_data"
    },
    {
     "data": {
      "image/png": "[encoded data removed]",
      "text/plain": [
       "<Figure size 432x288 with 2 Axes>"
      ]
     },
     "metadata": {
      "needs_background": "light",
      "tags": []
     },
     "output_type": "display_data"
    }
   ],
   "source": [
    "pca = PCA(n_components=1)\n",
    "X_train_pca = pca.fit_transform(X_train)\n",
    "X_test_pca = pca.transform(X_val_std)\n",
    "\n",
    "clf = GaussianNB()\n",
    "clf.fit(X_train_pca, y)\n",
    "pred_test = clf.predict(X_test_pca)\n",
    "print(confusion_matrix(y_val,pred_test))\n",
    "print(classification_report(y_val,pred_test))\n",
    "print(\"Acurácia:\", accuracy_score(y_val,pred_test))\n",
    "class_names = ['Estressado, não estressado']\n",
    "clf = DecisionTreeClassifier().fit(X_train_pca,y)\n",
    "titles_options = [(\"Matriz de confusão, não normalizada\", None),\n",
    "                  (\"Matriz normalizada\", 'true')]\n",
    "for title, normalize in titles_options:\n",
    "    disp = plot_confusion_matrix(clf, X_test_pca, y_val,\n",
    "                                 display_labels=class_names,\n",
    "                                 cmap=plt.cm.Blues,\n",
    "                                 normalize=normalize)\n",
    "    disp.ax_.set_title(title)\n",
    "\n",
    "    print(title)\n",
    "    print(disp.confusion_matrix)\n",
    "\n",
    "plt.show()"
   ]
  },
  {
   "cell_type": "code",
   "execution_count": null,
   "metadata": {
    "colab": {
     "base_uri": "https://localhost:8080/",
     "height": 336
    },
    "id": "u-W-1dwT15i3",
    "outputId": "73b29881-bc35-43e6-91d9-53bdcec773a3"
   },
   "outputs": [
    {
     "data": {
      "image/png": "[encoded data removed]",
      "text/plain": [
       "<Figure size 1296x360 with 1 Axes>"
      ]
     },
     "metadata": {
      "needs_background": "light",
      "tags": []
     },
     "output_type": "display_data"
    }
   ],
   "source": [
    "score=[]\n",
    "score2=[]\n",
    "k=1\n",
    "for i in range(1,16):\n",
    "    pca = PCA(n_components = i)\n",
    "    x_train_std_pca = pca.fit_transform(X_train_std)\n",
    "    x_test_std_pca = pca.transform(X_val_std)\n",
    "\n",
    "    clf = KNeighborsClassifier(n_neighbors=k) \n",
    "    clf.fit(x_train_std_pca, y)\n",
    "    score.append(clf.score(x_test_std_pca, y_val))\n",
    "\n",
    "    x_train_std_pca = pca.fit_transform(X_train)\n",
    "    x_test_std_pca = pca.transform(X_val)\n",
    "    clf = KNeighborsClassifier(n_neighbors=k) \n",
    "    clf.fit(x_train_std_pca, y)\n",
    "    score2.append(clf.score(x_test_std_pca, y_val))\n",
    "\n",
    "plt.figure(figsize=(18, 5))\n",
    "plt.title(\"Acurácia dos métodos com Standard(laranja) e normalizado(azul) com KNN\")\n",
    "plt.plot(score,'-o')\n",
    "plt.plot(score2,'-o')\n",
    "plt.show()"
   ]
  },
  {
   "cell_type": "code",
   "execution_count": null,
   "metadata": {
    "colab": {
     "base_uri": "https://localhost:8080/",
     "height": 221
    },
    "id": "cy_CsvG77B05",
    "outputId": "43b01c76-d635-4d99-cd7e-c92c19ea4c20"
   },
   "outputs": [
    {
     "name": "stdout",
     "output_type": "stream",
     "text": [
      "Acurácia: 0.6219839142091153\n",
      "              precision    recall  f1-score   support\n",
      "\n",
      "           0       0.37      0.50      0.42       104\n",
      "           1       0.78      0.67      0.72       269\n",
      "\n",
      "    accuracy                           0.62       373\n",
      "   macro avg       0.57      0.58      0.57       373\n",
      "weighted avg       0.66      0.62      0.64       373\n",
      "\n",
      "[[ 52  52]\n",
      " [ 89 180]]\n"
     ]
    }
   ],
   "source": [
    "clf = KNeighborsClassifier(n_neighbors=2)\n",
    "clf.fit(X_train,y)\n",
    "pred_test = clf.predict(X_test)\n",
    "print(\"Acurácia:\", accuracy_score(y_test,pred_test))\n",
    "print(classification_report(y_test,pred_test))\n",
    "print(confusion_matrix(y_test,pred_test))\n"
   ]
  },
  {
   "cell_type": "code",
   "execution_count": null,
   "metadata": {
    "colab": {
     "base_uri": "https://localhost:8080/",
     "height": 221
    },
    "id": "ZjQ6DIRvt290",
    "outputId": "aebdfea7-76f3-4101-f3e9-c63642fd0f48"
   },
   "outputs": [
    {
     "name": "stdout",
     "output_type": "stream",
     "text": [
      "Acurácia: 0.7560321715817694\n",
      "              precision    recall  f1-score   support\n",
      "\n",
      "           0       0.58      0.44      0.50       104\n",
      "           1       0.80      0.88      0.84       269\n",
      "\n",
      "    accuracy                           0.76       373\n",
      "   macro avg       0.69      0.66      0.67       373\n",
      "weighted avg       0.74      0.76      0.74       373\n",
      "\n",
      "[[ 46  58]\n",
      " [ 33 236]]\n"
     ]
    }
   ],
   "source": [
    "clf = DecisionTreeClassifier()\n",
    "clf.fit(X_train,y)\n",
    "pred_test = clf.predict(X_test)\n",
    "print(\"Acurácia:\", accuracy_score(y_test,pred_test))\n",
    "print(classification_report(y_test,pred_test))\n",
    "print(confusion_matrix(y_test,pred_test))\n"
   ]
  },
  {
   "cell_type": "code",
   "execution_count": null,
   "metadata": {
    "colab": {
     "base_uri": "https://localhost:8080/",
     "height": 221
    },
    "id": "HfInw-QQt-um",
    "outputId": "e536f30c-8f61-4937-f7f9-83507510473d"
   },
   "outputs": [
    {
     "name": "stdout",
     "output_type": "stream",
     "text": [
      "Acurácia: 0.8230563002680965\n",
      "              precision    recall  f1-score   support\n",
      "\n",
      "           0       0.83      0.46      0.59       104\n",
      "           1       0.82      0.96      0.89       269\n",
      "\n",
      "    accuracy                           0.82       373\n",
      "   macro avg       0.82      0.71      0.74       373\n",
      "weighted avg       0.82      0.82      0.80       373\n",
      "\n",
      "[[ 48  56]\n",
      " [ 10 259]]\n"
     ]
    }
   ],
   "source": [
    "clf= RandomForestClassifier(n_estimators=30,random_state=0)\n",
    "clf.fit(X_train,y)\n",
    "pred_test = clf.predict(X_test)\n",
    "print(\"Acurácia:\", accuracy_score(y_test,pred_test))\n",
    "print(classification_report(y_test,pred_test))\n",
    "print(confusion_matrix(y_test,pred_test))"
   ]
  },
  {
   "cell_type": "code",
   "execution_count": null,
   "metadata": {
    "colab": {
     "base_uri": "https://localhost:8080/",
     "height": 221
    },
    "id": "x0L23ipyuO2H",
    "outputId": "400fcac0-7505-49dc-8b14-bd9d6b80844c"
   },
   "outputs": [
    {
     "name": "stdout",
     "output_type": "stream",
     "text": [
      "Acurácia: 0.7050938337801609\n",
      "              precision    recall  f1-score   support\n",
      "\n",
      "           0       0.47      0.45      0.46       104\n",
      "           1       0.79      0.80      0.80       269\n",
      "\n",
      "    accuracy                           0.71       373\n",
      "   macro avg       0.63      0.63      0.63       373\n",
      "weighted avg       0.70      0.71      0.70       373\n",
      "\n",
      "[[ 47  57]\n",
      " [ 53 216]]\n"
     ]
    }
   ],
   "source": [
    "clf = GaussianNB()\n",
    "clf.fit(X_train,y)\n",
    "pred_test = clf.predict(X_test)\n",
    "print(\"Acurácia:\", accuracy_score(y_test,pred_test))\n",
    "print(classification_report(y_test,pred_test))\n",
    "print(confusion_matrix(y_test,pred_test))"
   ]
  },
  {
   "cell_type": "code",
   "execution_count": null,
   "metadata": {
    "colab": {
     "base_uri": "https://localhost:8080/",
     "height": 879
    },
    "id": "xW5gSijU9Cy0",
    "outputId": "435a36e8-9456-4707-c176-4c465f302ba8"
   },
   "outputs": [
    {
     "name": "stdout",
     "output_type": "stream",
     "text": [
      "[[ 32  72]\n",
      " [ 62 207]]\n",
      "              precision    recall  f1-score   support\n",
      "\n",
      "           0       0.34      0.31      0.32       104\n",
      "           1       0.74      0.77      0.76       269\n",
      "\n",
      "    accuracy                           0.64       373\n",
      "   macro avg       0.54      0.54      0.54       373\n",
      "weighted avg       0.63      0.64      0.63       373\n",
      "\n",
      "Acurácia: 0.6407506702412868\n",
      "Matriz de confusão, não normalizada\n",
      "[[ 32  72]\n",
      " [ 62 207]]\n",
      "Matriz normalizada\n",
      "[[0.30769231 0.69230769]\n",
      " [0.23048327 0.76951673]]\n"
     ]
    },
    {
     "data": {
      "image/png": "[encoded data removed]",
      "text/plain": [
       "<Figure size 432x288 with 2 Axes>"
      ]
     },
     "metadata": {
      "needs_background": "light",
      "tags": []
     },
     "output_type": "display_data"
    },
    {
     "data": {
      "image/png": "[encoded data removed]",
      "text/plain": [
       "<Figure size 432x288 with 2 Axes>"
      ]
     },
     "metadata": {
      "needs_background": "light",
      "tags": []
     },
     "output_type": "display_data"
    }
   ],
   "source": [
    "pca = PCA(n_components=7)\n",
    "X_train_pca = pca.fit_transform(X_train)\n",
    "X_test_pca = pca.transform(X_test)\n",
    "\n",
    "clf = KNeighborsClassifier(n_neighbors=1)\n",
    "clf.fit(X_train_pca, y)\n",
    "pred_test = clf.predict(X_test_pca)\n",
    "print(confusion_matrix(y_test,pred_test))\n",
    "print(classification_report(y_test,pred_test))\n",
    "print(\"Acurácia:\", accuracy_score(y_test,pred_test))\n",
    "class_names = ['Estressado, não estressado']\n",
    "clf = KNeighborsClassifier(n_neighbors=1).fit(X_train_pca,y)\n",
    "titles_options = [(\"Matriz de confusão, não normalizada\", None),\n",
    "                  (\"Matriz normalizada\", 'true')]\n",
    "for title, normalize in titles_options:\n",
    "    disp = plot_confusion_matrix(clf, X_test_pca, y_test,\n",
    "                                 display_labels=class_names,\n",
    "                                 cmap=plt.cm.Blues,\n",
    "                                 normalize=normalize)\n",
    "    disp.ax_.set_title(title)\n",
    "\n",
    "    print(title)\n",
    "    print(disp.confusion_matrix)\n",
    "\n",
    "plt.show()"
   ]
  },
  {
   "cell_type": "code",
   "execution_count": null,
   "metadata": {
    "colab": {
     "base_uri": "https://localhost:8080/",
     "height": 336
    },
    "id": "FifR7REpktHY",
    "outputId": "7f43b25a-6330-420b-9363-bf17080105b6"
   },
   "outputs": [
    {
     "data": {
      "image/png": "[encoded data removed]",
      "text/plain": [
       "<Figure size 1296x360 with 1 Axes>"
      ]
     },
     "metadata": {
      "needs_background": "light",
      "tags": []
     },
     "output_type": "display_data"
    }
   ],
   "source": [
    "score=[]\n",
    "score2=[]\n",
    "k=30\n",
    "for i in range(1,16):\n",
    "    pca = PCA(n_components = i)\n",
    "    x_train_std_pca = pca.fit_transform(X_train_std)\n",
    "    x_test_std_pca = pca.transform(X_val_std)\n",
    "\n",
    "    clf = RandomForestClassifier(n_estimators= k, random_state=0)\n",
    "    clf.fit(x_train_std_pca, y)\n",
    "    score.append(clf.score(x_test_std_pca, y_val))\n",
    "\n",
    "    x_train_std_pca = pca.fit_transform(X_train)\n",
    "    x_test_std_pca = pca.transform(X_val)\n",
    "    clf = RandomForestClassifier(n_estimators= k, random_state=0)\n",
    "    clf.fit(x_train_std_pca, y)\n",
    "    score2.append(clf.score(x_test_std_pca, y_val))\n",
    "\n",
    "plt.figure(figsize=(18, 5))\n",
    "plt.title(\"Acurácia dos métodos com Standard(laranja) e normalizado(azul) com Random Forest\")\n",
    "plt.plot(score,'-o')\n",
    "plt.plot(score2,'-o')\n",
    "plt.show()"
   ]
  },
  {
   "cell_type": "code",
   "execution_count": null,
   "metadata": {
    "colab": {
     "base_uri": "https://localhost:8080/",
     "height": 879
    },
    "id": "Lkm5VtKDkoK_",
    "outputId": "3984338e-ec67-41a1-d5a1-74be1fe66574"
   },
   "outputs": [
    {
     "name": "stdout",
     "output_type": "stream",
     "text": [
      "[[ 56  48]\n",
      " [ 17 252]]\n",
      "              precision    recall  f1-score   support\n",
      "\n",
      "           0       0.77      0.54      0.63       104\n",
      "           1       0.84      0.94      0.89       269\n",
      "\n",
      "    accuracy                           0.83       373\n",
      "   macro avg       0.80      0.74      0.76       373\n",
      "weighted avg       0.82      0.83      0.82       373\n",
      "\n",
      "Acurácia: 0.8257372654155496\n",
      "Matriz de confusão, não normalizada\n",
      "[[ 56  48]\n",
      " [ 17 252]]\n",
      "Matriz normalizada\n",
      "[[0.53846154 0.46153846]\n",
      " [0.06319703 0.93680297]]\n"
     ]
    },
    {
     "data": {
      "image/png": "[encoded data removed]",
      "text/plain": [
       "<Figure size 432x288 with 2 Axes>"
      ]
     },
     "metadata": {
      "needs_background": "light",
      "tags": []
     },
     "output_type": "display_data"
    },
    {
     "data": {
      "image/png": "[encoded data removed]",
      "text/plain": [
       "<Figure size 432x288 with 2 Axes>"
      ]
     },
     "metadata": {
      "needs_background": "light",
      "tags": []
     },
     "output_type": "display_data"
    }
   ],
   "source": [
    "pca = PCA(n_components=12)\n",
    "X_train_pca = pca.fit_transform(X_train)\n",
    "X_test_pca = pca.transform(X_test)\n",
    "k=30\n",
    "clf = RandomForestClassifier(n_estimators= k, random_state=0)\n",
    "clf.fit(X_train_pca, y)\n",
    "pred_test = clf.predict(X_test_pca)\n",
    "print(confusion_matrix(y_test,pred_test))\n",
    "print(classification_report(y_test,pred_test))\n",
    "print(\"Acurácia:\", accuracy_score(y_test,pred_test))\n",
    "class_names = ['Estressado, não estressado']\n",
    "clf = RandomForestClassifier(n_estimators= k, random_state=0).fit(X_train_pca,y)\n",
    "titles_options = [(\"Matriz de confusão, não normalizada\", None),\n",
    "                  (\"Matriz normalizada\", 'true')]\n",
    "for title, normalize in titles_options:\n",
    "    disp = plot_confusion_matrix(clf, X_test_pca, y_test,\n",
    "                                 display_labels=class_names,\n",
    "                                 cmap=plt.cm.Blues,\n",
    "                                 normalize=normalize)\n",
    "    disp.ax_.set_title(title)\n",
    "\n",
    "    print(title)\n",
    "    print(disp.confusion_matrix)\n",
    "\n",
    "plt.show()"
   ]
  },
  {
   "cell_type": "markdown",
   "metadata": {
    "id": "j7TFgPr2gDNo"
   },
   "source": [
    "#Resultados com Validação Cruzada.\n"
   ]
  },
  {
   "cell_type": "code",
   "execution_count": null,
   "metadata": {
    "colab": {
     "base_uri": "https://localhost:8080/",
     "height": 85
    },
    "id": "hrzPQ8iHkDP4",
    "outputId": "54ce279f-4af9-4eae-a0d2-f494eb617f75"
   },
   "outputs": [
    {
     "name": "stdout",
     "output_type": "stream",
     "text": [
      "0.5318458300902302\n",
      "0.6489032956218657\n",
      "0.626286222674123\n",
      "0.6895230096550724\n"
     ]
    }
   ],
   "source": [
    "clf = RandomForestClassifier(n_estimators= 30, random_state=0)\n",
    "scores = cross_val_score(clf, X, Y, cv=5, scoring='accuracy')\n",
    "f = cross_val_score(clf, X, Y, cv=5, scoring='f1')\n",
    "rec = cross_val_score(clf, X, Y, cv=5, scoring='recall')\n",
    "prec = cross_val_score(clf, X, Y, cv=5, scoring='precision')\n",
    "print(scores.mean())\n",
    "print(f.mean())\n",
    "print(rec.mean())\n",
    "print(prec.mean())"
   ]
  },
  {
   "cell_type": "code",
   "execution_count": null,
   "metadata": {
    "colab": {
     "base_uri": "https://localhost:8080/",
     "height": 85
    },
    "id": "rvS0XFPpky6D",
    "outputId": "3528a6b3-f70d-4b1e-981d-0e41569c3083"
   },
   "outputs": [
    {
     "name": "stdout",
     "output_type": "stream",
     "text": [
      "0.5845224711003488\n",
      "0.6968716468257752\n",
      "0.6718479918657854\n",
      "0.7363917616155645\n"
     ]
    }
   ],
   "source": [
    "pca = PCA(n_components=12)\n",
    "X_train_pca = pca.fit_transform(X)\n",
    "scores = cross_val_score(clf, X_train_pca, Y, cv=5, scoring='accuracy')\n",
    "f = cross_val_score(clf, X_train_pca, Y, cv=5, scoring='f1')\n",
    "rec = cross_val_score(clf, X_train_pca, Y, cv=5, scoring='recall')\n",
    "prec = cross_val_score(clf, X_train_pca, Y, cv=5, scoring='precision')\n",
    "print(scores.mean())\n",
    "print(f.mean())\n",
    "print(rec.mean())\n",
    "print(prec.mean())"
   ]
  },
  {
   "cell_type": "code",
   "execution_count": null,
   "metadata": {
    "colab": {
     "base_uri": "https://localhost:8080/",
     "height": 85
    },
    "id": "bVFUVkcEk1M9",
    "outputId": "abe62174-6d20-4ad3-f043-85226372fd9b"
   },
   "outputs": [
    {
     "name": "stdout",
     "output_type": "stream",
     "text": [
      "0.5254259275274583\n",
      "0.6448912051623055\n",
      "0.5870691408235892\n",
      "0.7074547741823952\n"
     ]
    }
   ],
   "source": [
    "clf = DecisionTreeClassifier()\n",
    "scores = cross_val_score(clf, X, Y, cv=5, scoring='accuracy')\n",
    "f = cross_val_score(clf, X, Y, cv=5, scoring='f1')\n",
    "rec = cross_val_score(clf, X, Y, cv=5, scoring='recall')\n",
    "prec = cross_val_score(clf, X, Y, cv=5, scoring='precision')\n",
    "print(scores.mean())\n",
    "print(f.mean())\n",
    "print(rec.mean())\n",
    "print(prec.mean())"
   ]
  },
  {
   "cell_type": "code",
   "execution_count": null,
   "metadata": {
    "colab": {
     "base_uri": "https://localhost:8080/",
     "height": 85
    },
    "id": "DPE-jNQYloI2",
    "outputId": "4df73350-2319-40f9-d939-da3d2f8af82b"
   },
   "outputs": [
    {
     "name": "stdout",
     "output_type": "stream",
     "text": [
      "0.5453198420248494\n",
      "0.6541255592251386\n",
      "0.5949034062023386\n",
      "0.7202155809021089\n"
     ]
    }
   ],
   "source": [
    "pca = PCA(n_components=10)\n",
    "X_train_pca = pca.fit_transform(X)\n",
    "scores = cross_val_score(clf, X_train_pca, Y, cv=5, scoring='accuracy')\n",
    "f = cross_val_score(clf, X_train_pca, Y, cv=5, scoring='f1')\n",
    "rec = cross_val_score(clf, X_train_pca, Y, cv=5, scoring='recall')\n",
    "prec = cross_val_score(clf, X_train_pca, Y, cv=5, scoring='precision')\n",
    "print(scores.mean())\n",
    "print(f.mean())\n",
    "print(rec.mean())\n",
    "print(prec.mean())"
   ]
  },
  {
   "cell_type": "code",
   "execution_count": null,
   "metadata": {
    "colab": {
     "base_uri": "https://localhost:8080/",
     "height": 85
    },
    "id": "flvrz6-1lt-K",
    "outputId": "5ff9fcc5-7ba7-44c4-c98e-772adad8b90e"
   },
   "outputs": [
    {
     "name": "stdout",
     "output_type": "stream",
     "text": [
      "0.5324886851739745\n",
      "0.6712521608052293\n",
      "0.6332104728012202\n",
      "0.7143717946181495\n"
     ]
    }
   ],
   "source": [
    "clf = KNeighborsClassifier(n_neighbors=1)\n",
    "scores = cross_val_score(clf, X, Y, cv=5, scoring='accuracy')\n",
    "f = cross_val_score(clf, X, Y, cv=5, scoring='f1')\n",
    "rec = cross_val_score(clf, X, Y, cv=5, scoring='recall')\n",
    "prec = cross_val_score(clf, X, Y, cv=5, scoring='precision')\n",
    "print(scores.mean())\n",
    "print(f.mean())\n",
    "print(rec.mean())\n",
    "print(prec.mean())"
   ]
  },
  {
   "cell_type": "code",
   "execution_count": null,
   "metadata": {
    "colab": {
     "base_uri": "https://localhost:8080/",
     "height": 85
    },
    "id": "Uq3EVtofl4m7",
    "outputId": "2cbc0804-11a5-493d-e916-54b18922df6b"
   },
   "outputs": [
    {
     "name": "stdout",
     "output_type": "stream",
     "text": [
      "0.5319539335235953\n",
      "0.6710021300201247\n",
      "0.6332053889171327\n",
      "0.713897631460967\n"
     ]
    }
   ],
   "source": [
    "pca = PCA(n_components=7)\n",
    "X_train_pca = pca.fit_transform(X)\n",
    "scores = cross_val_score(clf, X_train_pca, Y, cv=5, scoring='accuracy')\n",
    "f = cross_val_score(clf, X_train_pca, Y, cv=5, scoring='f1')\n",
    "rec = cross_val_score(clf, X_train_pca, Y, cv=5, scoring='recall')\n",
    "prec = cross_val_score(clf, X_train_pca, Y, cv=5, scoring='precision')\n",
    "print(scores.mean())\n",
    "print(f.mean())\n",
    "print(rec.mean())\n",
    "print(prec.mean())"
   ]
  },
  {
   "cell_type": "code",
   "execution_count": null,
   "metadata": {
    "colab": {
     "base_uri": "https://localhost:8080/",
     "height": 85
    },
    "id": "oKCdFLK9l7j2",
    "outputId": "2e3cbe45-e4ed-4cc8-8cd5-ffcc62c4e091"
   },
   "outputs": [
    {
     "name": "stdout",
     "output_type": "stream",
     "text": [
      "0.6512078756954655\n",
      "0.6875523626933898\n",
      "0.799288256227758\n",
      "0.6032265407390849\n"
     ]
    }
   ],
   "source": [
    "clf = GaussianNB()\n",
    "scores = cross_val_score(clf, X, Y, cv=5, scoring='accuracy')\n",
    "f = cross_val_score(clf, X, Y, cv=5, scoring='f1')\n",
    "rec = cross_val_score(clf, X, Y, cv=5, scoring='recall')\n",
    "prec = cross_val_score(clf, X, Y, cv=5, scoring='precision')\n",
    "print(scores.mean())\n",
    "print(f.mean())\n",
    "print(rec.mean())\n",
    "print(prec.mean())"
   ]
  },
  {
   "cell_type": "code",
   "execution_count": null,
   "metadata": {
    "colab": {
     "base_uri": "https://localhost:8080/",
     "height": 85
    },
    "id": "jJWxLTE2mps5",
    "outputId": "777bef84-7784-4f00-f730-c9d94d37966a"
   },
   "outputs": [
    {
     "name": "stdout",
     "output_type": "stream",
     "text": [
      "0.6512078756954655\n",
      "0.6875523626933898\n",
      "0.799288256227758\n",
      "0.6032265407390849\n"
     ]
    }
   ],
   "source": [
    "pca = PCA(n_components=11)\n",
    "X_train_pca = pca.fit_transform(X)\n",
    "scores = cross_val_score(clf, X_train_pca, Y, cv=5, scoring='accuracy')\n",
    "f = cross_val_score(clf, X_train_pca, Y, cv=5, scoring='f1')\n",
    "rec = cross_val_score(clf, X_train_pca, Y, cv=5, scoring='recall')\n",
    "prec = cross_val_score(clf, X_train_pca, Y, cv=5, scoring='precision')\n",
    "print(scores.mean())\n",
    "print(f.mean())\n",
    "print(rec.mean())\n",
    "print(prec.mean())"
   ]
  },
  {
   "cell_type": "markdown",
   "metadata": {
    "id": "chtykVLIHamW"
   },
   "source": [
    "Validação cruzada com todas as possibilidades possiveis \n"
   ]
  },
  {
   "cell_type": "code",
   "execution_count": null,
   "metadata": {
    "id": "u_StQCjp0GNA"
   },
   "outputs": [],
   "source": [
    "Xc, Xv, Yc, yv = train_test_split(X, Y, test_size=0.2,random_state=30)"
   ]
  },
  {
   "cell_type": "code",
   "execution_count": null,
   "metadata": {
    "colab": {
     "base_uri": "https://localhost:8080/",
     "height": 85
    },
    "id": "jbxJVBBPHHUk",
    "outputId": "8864731b-2962-4ffc-ea7c-34598bac8ddf"
   },
   "outputs": [
    {
     "name": "stdout",
     "output_type": "stream",
     "text": [
      "0.739247311827957\n",
      "0.8433469618401809\n",
      "0.941696113074205\n",
      "0.7702212495503058\n"
     ]
    }
   ],
   "source": [
    "clf = GaussianNB()\n",
    "scores = cross_val_score(clf, Xc, Yc, cv=4, scoring='accuracy')\n",
    "f = cross_val_score(clf, Xc, Yc, cv=4, scoring='f1')\n",
    "rec = cross_val_score(clf, Xc, Yc, cv=4, scoring='recall')\n",
    "prec = cross_val_score(clf, Xc, Yc, cv=4, scoring='precision')\n",
    "print(scores.mean())\n",
    "print(f.mean())\n",
    "print(rec.mean())\n",
    "print(prec.mean())"
   ]
  },
  {
   "cell_type": "code",
   "execution_count": null,
   "metadata": {
    "colab": {
     "base_uri": "https://localhost:8080/",
     "height": 85
    },
    "id": "UYt6gIwRt9xW",
    "outputId": "cea0cbec-5c8e-48c3-814d-aa851009411d"
   },
   "outputs": [
    {
     "name": "stdout",
     "output_type": "stream",
     "text": [
      "0.7580645161290323\n",
      "0.8614116323351221\n",
      "0.9911660777385158\n",
      "0.7618911633007401\n"
     ]
    }
   ],
   "source": [
    "pca = PCA(n_components=1)\n",
    "X_train_pca = pca.fit_transform(Xc)\n",
    "scores = cross_val_score(clf, X_train_pca, Yc, cv=4, scoring='accuracy')\n",
    "f = cross_val_score(clf, X_train_pca, Yc, cv=4, scoring='f1')\n",
    "rec = cross_val_score(clf, X_train_pca, Yc, cv=4, scoring='recall')\n",
    "prec = cross_val_score(clf, X_train_pca, Yc, cv=4, scoring='precision')\n",
    "print(scores.mean())\n",
    "print(f.mean())\n",
    "print(rec.mean())\n",
    "print(prec.mean())"
   ]
  },
  {
   "cell_type": "code",
   "execution_count": null,
   "metadata": {
    "colab": {
     "base_uri": "https://localhost:8080/",
     "height": 85
    },
    "id": "nbYdRXFREzjj",
    "outputId": "33588f70-c7da-4479-b9b9-d1886da5007d"
   },
   "outputs": [
    {
     "name": "stdout",
     "output_type": "stream",
     "text": [
      "0.8234767025089605\n",
      "0.8902158661841102\n",
      "0.9392523364485981\n",
      "0.8507562512224464\n"
     ]
    }
   ],
   "source": [
    "clf = RandomForestClassifier(n_estimators=30)\n",
    "scores = cross_val_score(clf, Xc, Yc, cv=4, scoring='accuracy')\n",
    "f = cross_val_score(clf, Xc, Yc, cv=4, scoring='f1')\n",
    "rec = cross_val_score(clf, Xc, Yc, cv=4, scoring='recall')\n",
    "prec = cross_val_score(clf, Xc, Yc, cv=4, scoring='precision')\n",
    "print(scores.mean())\n",
    "print(f.mean())\n",
    "print(rec.mean())\n",
    "print(prec.mean())"
   ]
  },
  {
   "cell_type": "code",
   "execution_count": null,
   "metadata": {
    "colab": {
     "base_uri": "https://localhost:8080/",
     "height": 85
    },
    "id": "7eYgX2gUE6qW",
    "outputId": "2bc6dca4-6c26-4b96-c62d-0613163f5be4"
   },
   "outputs": [
    {
     "name": "stdout",
     "output_type": "stream",
     "text": [
      "0.8207885304659498\n",
      "0.8857949665956141\n",
      "0.9252336448598131\n",
      "0.8461552558356673\n"
     ]
    }
   ],
   "source": [
    "pca = PCA(n_components=13)\n",
    "X_train_pca = pca.fit_transform(Xc)\n",
    "scores = cross_val_score(clf, X_train_pca, Yc, cv=4, scoring='accuracy')\n",
    "f = cross_val_score(clf, X_train_pca, Yc, cv=4, scoring='f1')\n",
    "rec = cross_val_score(clf, X_train_pca, Yc, cv=4, scoring='recall')\n",
    "prec = cross_val_score(clf, X_train_pca, Yc, cv=4, scoring='precision')\n",
    "print(scores.mean())\n",
    "print(f.mean())\n",
    "print(rec.mean())\n",
    "print(prec.mean())"
   ]
  },
  {
   "cell_type": "code",
   "execution_count": null,
   "metadata": {
    "colab": {
     "base_uri": "https://localhost:8080/",
     "height": 85
    },
    "id": "8CPQ_ROZICMG",
    "outputId": "cae56bee-b183-412f-d999-34d343860fc7"
   },
   "outputs": [
    {
     "name": "stdout",
     "output_type": "stream",
     "text": [
      "0.7643369175627239\n",
      "0.840777101000709\n",
      "0.8352803738317758\n",
      "0.8385217323160679\n"
     ]
    }
   ],
   "source": [
    "clf = DecisionTreeClassifier()\n",
    "scores = cross_val_score(clf, Xc, Yc, cv=4, scoring='accuracy')\n",
    "f = cross_val_score(clf, Xc, Yc, cv=4, scoring='f1')\n",
    "rec = cross_val_score(clf, Xc, Yc, cv=4, scoring='recall')\n",
    "prec = cross_val_score(clf, Xc, Yc, cv=4, scoring='precision')\n",
    "print(scores.mean())\n",
    "print(f.mean())\n",
    "print(rec.mean())\n",
    "print(prec.mean())"
   ]
  },
  {
   "cell_type": "code",
   "execution_count": null,
   "metadata": {
    "colab": {
     "base_uri": "https://localhost:8080/",
     "height": 85
    },
    "id": "73kCnaGcIFB_",
    "outputId": "d84892a7-c9d9-4ff6-e3b5-14eb2a4a70b3"
   },
   "outputs": [
    {
     "name": "stdout",
     "output_type": "stream",
     "text": [
      "0.7589605734767026\n",
      "0.8253838155142443\n",
      "0.8142523364485981\n",
      "0.8412376735573952\n"
     ]
    }
   ],
   "source": [
    "pca = PCA(n_components=15)\n",
    "X_train_pca = pca.fit_transform(Xc)\n",
    "scores = cross_val_score(clf, X_train_pca, Yc, cv=4, scoring='accuracy')\n",
    "f = cross_val_score(clf, X_train_pca, Yc, cv=4, scoring='f1')\n",
    "rec = cross_val_score(clf, X_train_pca, Yc, cv=4, scoring='recall')\n",
    "prec = cross_val_score(clf, X_train_pca, Yc, cv=4, scoring='precision')\n",
    "print(scores.mean())\n",
    "print(f.mean())\n",
    "print(rec.mean())\n",
    "print(prec.mean())"
   ]
  },
  {
   "cell_type": "code",
   "execution_count": null,
   "metadata": {
    "colab": {
     "base_uri": "https://localhost:8080/",
     "height": 85
    },
    "id": "jWHIsAwXIPuV",
    "outputId": "b4ed73a1-fadb-4a35-9c1e-d97f314e840c"
   },
   "outputs": [
    {
     "name": "stdout",
     "output_type": "stream",
     "text": [
      "0.6908602150537635\n",
      "0.79887985828496\n",
      "0.8014018691588785\n",
      "0.7968320627126675\n"
     ]
    }
   ],
   "source": [
    "clf = KNeighborsClassifier(n_neighbors=1)\n",
    "scores = cross_val_score(clf, Xc, Yc, cv=4, scoring='accuracy')\n",
    "f = cross_val_score(clf, Xc, Yc, cv=4, scoring='f1')\n",
    "rec = cross_val_score(clf, Xc, Yc, cv=4, scoring='recall')\n",
    "prec = cross_val_score(clf, Xc, Yc, cv=4, scoring='precision')\n",
    "print(scores.mean())\n",
    "print(f.mean())\n",
    "print(rec.mean())\n",
    "print(prec.mean())"
   ]
  },
  {
   "cell_type": "code",
   "execution_count": null,
   "metadata": {
    "colab": {
     "base_uri": "https://localhost:8080/",
     "height": 85
    },
    "id": "ZNUyJvaHIUul",
    "outputId": "fbb92b61-1827-4315-a374-7836d7e21bc3"
   },
   "outputs": [
    {
     "name": "stdout",
     "output_type": "stream",
     "text": [
      "0.6908602150537635\n",
      "0.79887985828496\n",
      "0.8014018691588785\n",
      "0.7968320627126675\n"
     ]
    }
   ],
   "source": [
    "pca = PCA(n_components=14)\n",
    "X_train_pca = pca.fit_transform(Xc)\n",
    "scores = cross_val_score(clf, X_train_pca, Yc, cv=4, scoring='accuracy')\n",
    "f = cross_val_score(clf, X_train_pca, Yc, cv=4, scoring='f1')\n",
    "rec = cross_val_score(clf, X_train_pca, Yc, cv=4, scoring='recall')\n",
    "prec = cross_val_score(clf, X_train_pca, Yc, cv=4, scoring='precision')\n",
    "print(scores.mean())\n",
    "print(f.mean())\n",
    "print(rec.mean())\n",
    "print(prec.mean())"
   ]
  },
  {
   "cell_type": "markdown",
   "metadata": {
    "id": "PC9jvcICOdUG"
   },
   "source": [
    "Validação cruzada com 1,2,3 e 5 partes e 4 para validação."
   ]
  },
  {
   "cell_type": "code",
   "execution_count": null,
   "metadata": {
    "id": "O7ZrU0S8lhMf"
   },
   "outputs": [],
   "source": [
    "Xc, Xf, Yc, yf = train_test_split(X, Y, test_size=0.4,random_state=30)\n",
    "Xk, Xv, Yk, yv =train_test_split(Xf,yf,test_size=0.5,random_state=30)"
   ]
  },
  {
   "cell_type": "code",
   "execution_count": null,
   "metadata": {
    "colab": {
     "base_uri": "https://localhost:8080/",
     "height": 419
    },
    "id": "N-GByB9vJ_65",
    "outputId": "e33c1e34-8dd6-4d0a-b6f8-d45febeab9c4"
   },
   "outputs": [
    {
     "data": {
      "text/html": [
       "<div>\n",
       "<style scoped>\n",
       "    .dataframe tbody tr th:only-of-type {\n",
       "        vertical-align: middle;\n",
       "    }\n",
       "\n",
       "    .dataframe tbody tr th {\n",
       "        vertical-align: top;\n",
       "    }\n",
       "\n",
       "    .dataframe thead th {\n",
       "        text-align: right;\n",
       "    }\n",
       "</style>\n",
       "<table border=\"1\" class=\"dataframe\">\n",
       "  <thead>\n",
       "    <tr style=\"text-align: right;\">\n",
       "      <th></th>\n",
       "      <th>bpm</th>\n",
       "      <th>ibi</th>\n",
       "      <th>sdnn</th>\n",
       "      <th>sdsd</th>\n",
       "      <th>rmssd</th>\n",
       "      <th>pnn20</th>\n",
       "      <th>pnn50</th>\n",
       "      <th>hr_mad</th>\n",
       "      <th>sd1</th>\n",
       "      <th>sd2</th>\n",
       "      <th>s</th>\n",
       "      <th>sd1/sd2</th>\n",
       "      <th>breathingrate</th>\n",
       "      <th>ECG</th>\n",
       "      <th>HR</th>\n",
       "    </tr>\n",
       "  </thead>\n",
       "  <tbody>\n",
       "    <tr>\n",
       "      <th>0</th>\n",
       "      <td>83.375839</td>\n",
       "      <td>719.632939</td>\n",
       "      <td>204.139137</td>\n",
       "      <td>180.216236</td>\n",
       "      <td>275.037712</td>\n",
       "      <td>0.641975</td>\n",
       "      <td>0.641975</td>\n",
       "      <td>243.902439</td>\n",
       "      <td>193.065584</td>\n",
       "      <td>208.639713</td>\n",
       "      <td>126546.958887</td>\n",
       "      <td>0.925354</td>\n",
       "      <td>0.385617</td>\n",
       "      <td>-0.001488</td>\n",
       "      <td>68.013720</td>\n",
       "    </tr>\n",
       "    <tr>\n",
       "      <th>1</th>\n",
       "      <td>52.857143</td>\n",
       "      <td>1135.135135</td>\n",
       "      <td>108.108108</td>\n",
       "      <td>127.406627</td>\n",
       "      <td>156.040613</td>\n",
       "      <td>0.333333</td>\n",
       "      <td>0.333333</td>\n",
       "      <td>0.000000</td>\n",
       "      <td>90.090090</td>\n",
       "      <td>90.090090</td>\n",
       "      <td>25497.870738</td>\n",
       "      <td>1.000000</td>\n",
       "      <td>0.176211</td>\n",
       "      <td>0.000263</td>\n",
       "      <td>76.514607</td>\n",
       "    </tr>\n",
       "    <tr>\n",
       "      <th>2</th>\n",
       "      <td>52.857143</td>\n",
       "      <td>1135.135135</td>\n",
       "      <td>253.535987</td>\n",
       "      <td>250.547246</td>\n",
       "      <td>393.983236</td>\n",
       "      <td>0.625000</td>\n",
       "      <td>0.625000</td>\n",
       "      <td>0.000000</td>\n",
       "      <td>177.163657</td>\n",
       "      <td>232.838661</td>\n",
       "      <td>129592.420709</td>\n",
       "      <td>0.760886</td>\n",
       "      <td>0.282028</td>\n",
       "      <td>-0.001262</td>\n",
       "      <td>85.765237</td>\n",
       "    </tr>\n",
       "    <tr>\n",
       "      <th>3</th>\n",
       "      <td>83.592233</td>\n",
       "      <td>717.770035</td>\n",
       "      <td>201.488952</td>\n",
       "      <td>183.094729</td>\n",
       "      <td>318.434737</td>\n",
       "      <td>0.750000</td>\n",
       "      <td>0.750000</td>\n",
       "      <td>243.902439</td>\n",
       "      <td>225.133243</td>\n",
       "      <td>172.242217</td>\n",
       "      <td>121822.948133</td>\n",
       "      <td>1.307074</td>\n",
       "      <td>0.278918</td>\n",
       "      <td>-0.000256</td>\n",
       "      <td>71.745419</td>\n",
       "    </tr>\n",
       "    <tr>\n",
       "      <th>4</th>\n",
       "      <td>59.012658</td>\n",
       "      <td>1016.731017</td>\n",
       "      <td>115.112895</td>\n",
       "      <td>133.749097</td>\n",
       "      <td>204.305121</td>\n",
       "      <td>0.571429</td>\n",
       "      <td>0.571429</td>\n",
       "      <td>0.000000</td>\n",
       "      <td>133.749097</td>\n",
       "      <td>94.574894</td>\n",
       "      <td>39738.968753</td>\n",
       "      <td>1.414214</td>\n",
       "      <td>0.281083</td>\n",
       "      <td>0.038735</td>\n",
       "      <td>108.519274</td>\n",
       "    </tr>\n",
       "    <tr>\n",
       "      <th>...</th>\n",
       "      <td>...</td>\n",
       "      <td>...</td>\n",
       "      <td>...</td>\n",
       "      <td>...</td>\n",
       "      <td>...</td>\n",
       "      <td>...</td>\n",
       "      <td>...</td>\n",
       "      <td>...</td>\n",
       "      <td>...</td>\n",
       "      <td>...</td>\n",
       "      <td>...</td>\n",
       "      <td>...</td>\n",
       "      <td>...</td>\n",
       "      <td>...</td>\n",
       "      <td>...</td>\n",
       "    </tr>\n",
       "    <tr>\n",
       "      <th>1484</th>\n",
       "      <td>85.376471</td>\n",
       "      <td>702.769740</td>\n",
       "      <td>208.630887</td>\n",
       "      <td>190.814687</td>\n",
       "      <td>320.874885</td>\n",
       "      <td>0.721154</td>\n",
       "      <td>0.721154</td>\n",
       "      <td>243.902439</td>\n",
       "      <td>226.674536</td>\n",
       "      <td>186.411463</td>\n",
       "      <td>132747.155227</td>\n",
       "      <td>1.215990</td>\n",
       "      <td>0.350064</td>\n",
       "      <td>0.000076</td>\n",
       "      <td>78.285714</td>\n",
       "    </tr>\n",
       "    <tr>\n",
       "      <th>1485</th>\n",
       "      <td>51.896104</td>\n",
       "      <td>1156.156156</td>\n",
       "      <td>235.022160</td>\n",
       "      <td>225.133278</td>\n",
       "      <td>382.219882</td>\n",
       "      <td>0.714286</td>\n",
       "      <td>0.714286</td>\n",
       "      <td>0.000000</td>\n",
       "      <td>270.270270</td>\n",
       "      <td>168.297257</td>\n",
       "      <td>142897.682341</td>\n",
       "      <td>1.605910</td>\n",
       "      <td>0.096140</td>\n",
       "      <td>-0.007767</td>\n",
       "      <td>87.428894</td>\n",
       "    </tr>\n",
       "    <tr>\n",
       "      <th>1486</th>\n",
       "      <td>90.517241</td>\n",
       "      <td>662.857143</td>\n",
       "      <td>160.509393</td>\n",
       "      <td>116.018135</td>\n",
       "      <td>178.226558</td>\n",
       "      <td>0.617647</td>\n",
       "      <td>0.617647</td>\n",
       "      <td>0.000000</td>\n",
       "      <td>117.426263</td>\n",
       "      <td>194.962511</td>\n",
       "      <td>71922.739887</td>\n",
       "      <td>0.602302</td>\n",
       "      <td>0.237069</td>\n",
       "      <td>0.001793</td>\n",
       "      <td>71.226891</td>\n",
       "    </tr>\n",
       "    <tr>\n",
       "      <th>1487</th>\n",
       "      <td>48.338710</td>\n",
       "      <td>1241.241241</td>\n",
       "      <td>132.797789</td>\n",
       "      <td>112.860088</td>\n",
       "      <td>237.929958</td>\n",
       "      <td>0.775000</td>\n",
       "      <td>0.775000</td>\n",
       "      <td>0.000000</td>\n",
       "      <td>166.537264</td>\n",
       "      <td>84.256513</td>\n",
       "      <td>44082.354194</td>\n",
       "      <td>1.976551</td>\n",
       "      <td>0.343212</td>\n",
       "      <td>-0.013884</td>\n",
       "      <td>100.206349</td>\n",
       "    </tr>\n",
       "    <tr>\n",
       "      <th>1488</th>\n",
       "      <td>101.741117</td>\n",
       "      <td>589.732076</td>\n",
       "      <td>173.858807</td>\n",
       "      <td>160.519353</td>\n",
       "      <td>238.977452</td>\n",
       "      <td>0.611650</td>\n",
       "      <td>0.611650</td>\n",
       "      <td>196.078431</td>\n",
       "      <td>168.074048</td>\n",
       "      <td>172.731545</td>\n",
       "      <td>91205.743613</td>\n",
       "      <td>0.973036</td>\n",
       "      <td>0.440278</td>\n",
       "      <td>-0.003162</td>\n",
       "      <td>68.414534</td>\n",
       "    </tr>\n",
       "  </tbody>\n",
       "</table>\n",
       "<p>1489 rows × 15 columns</p>\n",
       "</div>"
      ],
      "text/plain": [
       "             bpm          ibi        sdnn  ...  breathingrate       ECG          HR\n",
       "0      83.375839   719.632939  204.139137  ...       0.385617 -0.001488   68.013720\n",
       "1      52.857143  1135.135135  108.108108  ...       0.176211  0.000263   76.514607\n",
       "2      52.857143  1135.135135  253.535987  ...       0.282028 -0.001262   85.765237\n",
       "3      83.592233   717.770035  201.488952  ...       0.278918 -0.000256   71.745419\n",
       "4      59.012658  1016.731017  115.112895  ...       0.281083  0.038735  108.519274\n",
       "...          ...          ...         ...  ...            ...       ...         ...\n",
       "1484   85.376471   702.769740  208.630887  ...       0.350064  0.000076   78.285714\n",
       "1485   51.896104  1156.156156  235.022160  ...       0.096140 -0.007767   87.428894\n",
       "1486   90.517241   662.857143  160.509393  ...       0.237069  0.001793   71.226891\n",
       "1487   48.338710  1241.241241  132.797789  ...       0.343212 -0.013884  100.206349\n",
       "1488  101.741117   589.732076  173.858807  ...       0.440278 -0.003162   68.414534\n",
       "\n",
       "[1489 rows x 15 columns]"
      ]
     },
     "execution_count": 156,
     "metadata": {
      "tags": []
     },
     "output_type": "execute_result"
    }
   ],
   "source": [
    "Xc = pd.concat([Xc,Xv],ignore_index=True,sort=False)\n",
    "Xc"
   ]
  },
  {
   "cell_type": "code",
   "execution_count": null,
   "metadata": {
    "id": "10zLG0aqLNyW"
   },
   "outputs": [],
   "source": [
    "Yc = Yc.append(yv)"
   ]
  },
  {
   "cell_type": "code",
   "execution_count": null,
   "metadata": {
    "colab": {
     "base_uri": "https://localhost:8080/",
     "height": 85
    },
    "id": "E3aGno3vKQ7F",
    "outputId": "41de29dc-4e9a-4351-ef91-320208619499"
   },
   "outputs": [
    {
     "name": "stdout",
     "output_type": "stream",
     "text": [
      "0.6769563117991293\n",
      "0.7852748877139121\n",
      "0.7821956790590849\n",
      "0.7888182519566493\n"
     ]
    }
   ],
   "source": [
    "clf = KNeighborsClassifier(n_neighbors=1)\n",
    "scores = cross_val_score(clf, Xc, Yc, cv=4, scoring='accuracy')\n",
    "f = cross_val_score(clf, Xc, Yc, cv=4, scoring='f1')\n",
    "rec = cross_val_score(clf, Xc, Yc, cv=4, scoring='recall')\n",
    "prec = cross_val_score(clf, Xc, Yc, cv=4, scoring='precision')\n",
    "print(scores.mean())\n",
    "print(f.mean())\n",
    "print(rec.mean())\n",
    "print(prec.mean())"
   ]
  },
  {
   "cell_type": "code",
   "execution_count": null,
   "metadata": {
    "colab": {
     "base_uri": "https://localhost:8080/",
     "height": 85
    },
    "id": "YjX6WwnoMZqn",
    "outputId": "3ebc2362-7049-4be8-b3ba-78d84919b0fe"
   },
   "outputs": [
    {
     "name": "stdout",
     "output_type": "stream",
     "text": [
      "0.6769563117991293\n",
      "0.7852748877139121\n",
      "0.7821956790590849\n",
      "0.7888182519566493\n"
     ]
    }
   ],
   "source": [
    "pca = PCA(n_components=14)\n",
    "X_train_pca = pca.fit_transform(Xc)\n",
    "scores = cross_val_score(clf, X_train_pca, Yc, cv=4, scoring='accuracy')\n",
    "f = cross_val_score(clf, X_train_pca, Yc, cv=4, scoring='f1')\n",
    "rec = cross_val_score(clf, X_train_pca, Yc, cv=4, scoring='recall')\n",
    "prec = cross_val_score(clf, X_train_pca, Yc, cv=4, scoring='precision')\n",
    "print(scores.mean())\n",
    "print(f.mean())\n",
    "print(rec.mean())\n",
    "print(prec.mean())"
   ]
  },
  {
   "cell_type": "code",
   "execution_count": null,
   "metadata": {
    "colab": {
     "base_uri": "https://localhost:8080/",
     "height": 85
    },
    "id": "PIAC8DfyOuYh",
    "outputId": "6e878a33-64bb-47c8-93de-32ecd0b71d2c"
   },
   "outputs": [
    {
     "name": "stdout",
     "output_type": "stream",
     "text": [
      "0.8294091787021822\n",
      "0.8904690294588288\n",
      "0.9386688877110623\n",
      "0.8478163052054677\n"
     ]
    }
   ],
   "source": [
    "clf = RandomForestClassifier(n_estimators=30)\n",
    "scores = cross_val_score(clf, Xc, Yc, cv=4, scoring='accuracy')\n",
    "f = cross_val_score(clf, Xc, Yc, cv=4, scoring='f1')\n",
    "rec = cross_val_score(clf, Xc, Yc, cv=4, scoring='recall')\n",
    "prec = cross_val_score(clf, Xc, Yc, cv=4, scoring='precision')\n",
    "print(scores.mean())\n",
    "print(f.mean())\n",
    "print(rec.mean())\n",
    "print(prec.mean())"
   ]
  },
  {
   "cell_type": "code",
   "execution_count": null,
   "metadata": {
    "colab": {
     "base_uri": "https://localhost:8080/",
     "height": 85
    },
    "id": "bEN5CaclOy7G",
    "outputId": "f2bb7749-fb09-4ddb-f8e2-cf750158f087"
   },
   "outputs": [
    {
     "name": "stdout",
     "output_type": "stream",
     "text": [
      "0.8334378333189195\n",
      "0.8961737651899078\n",
      "0.9235664167991722\n",
      "0.855830824951483\n"
     ]
    }
   ],
   "source": [
    "pca = PCA(n_components=15)\n",
    "X_train_pca = pca.fit_transform(Xc)\n",
    "scores = cross_val_score(clf, X_train_pca, Yc, cv=4, scoring='accuracy')\n",
    "f = cross_val_score(clf, X_train_pca, Yc, cv=4, scoring='f1')\n",
    "rec = cross_val_score(clf, X_train_pca, Yc, cv=4, scoring='recall')\n",
    "prec = cross_val_score(clf, X_train_pca, Yc, cv=4, scoring='precision')\n",
    "print(scores.mean())\n",
    "print(f.mean())\n",
    "print(rec.mean())\n",
    "print(prec.mean())"
   ]
  },
  {
   "cell_type": "code",
   "execution_count": null,
   "metadata": {
    "colab": {
     "base_uri": "https://localhost:8080/",
     "height": 85
    },
    "id": "YipmWsX_O_WY",
    "outputId": "7bd6cd56-9e91-4b68-d702-dce1656ff29c"
   },
   "outputs": [
    {
     "name": "stdout",
     "output_type": "stream",
     "text": [
      "0.7481586381850155\n",
      "0.838961674894411\n",
      "0.8426875899144393\n",
      "0.8337105540086542\n"
     ]
    }
   ],
   "source": [
    "clf = DecisionTreeClassifier()\n",
    "scores = cross_val_score(clf, Xc, Yc, cv=4, scoring='accuracy')\n",
    "f = cross_val_score(clf, Xc, Yc, cv=4, scoring='f1')\n",
    "rec = cross_val_score(clf, Xc, Yc, cv=4, scoring='recall')\n",
    "prec = cross_val_score(clf, Xc, Yc, cv=4, scoring='precision')\n",
    "print(scores.mean())\n",
    "print(f.mean())\n",
    "print(rec.mean())\n",
    "print(prec.mean())"
   ]
  },
  {
   "cell_type": "code",
   "execution_count": null,
   "metadata": {
    "colab": {
     "base_uri": "https://localhost:8080/",
     "height": 85
    },
    "id": "af56OcUePER8",
    "outputId": "80d7d007-7c26-4f06-ecb4-286ccdec2104"
   },
   "outputs": [
    {
     "name": "stdout",
     "output_type": "stream",
     "text": [
      "0.7696441955663179\n",
      "0.8437760716143459\n",
      "0.850675777996517\n",
      "0.8389291233164304\n"
     ]
    }
   ],
   "source": [
    "pca = PCA(n_components=15)\n",
    "X_train_pca = pca.fit_transform(Xc)\n",
    "scores = cross_val_score(clf, X_train_pca, Yc, cv=4, scoring='accuracy')\n",
    "f = cross_val_score(clf, X_train_pca, Yc, cv=4, scoring='f1')\n",
    "rec = cross_val_score(clf, X_train_pca, Yc, cv=4, scoring='recall')\n",
    "prec = cross_val_score(clf, X_train_pca, Yc, cv=4, scoring='precision')\n",
    "print(scores.mean())\n",
    "print(f.mean())\n",
    "print(rec.mean())\n",
    "print(prec.mean())"
   ]
  },
  {
   "cell_type": "code",
   "execution_count": null,
   "metadata": {
    "colab": {
     "base_uri": "https://localhost:8080/",
     "height": 85
    },
    "id": "XJSE1aB_XIG6",
    "outputId": "49b4e557-6332-41a0-edd0-51fe27b5e4d0"
   },
   "outputs": [
    {
     "name": "stdout",
     "output_type": "stream",
     "text": [
      "0.7454596557986681\n",
      "0.8472311039882534\n",
      "0.9466192170818506\n",
      "0.773625053889764\n"
     ]
    }
   ],
   "source": [
    "clf = GaussianNB()\n",
    "scores = cross_val_score(clf, Xc, Yc, cv=4, scoring='accuracy')\n",
    "f = cross_val_score(clf, Xc, Yc, cv=4, scoring='f1')\n",
    "rec = cross_val_score(clf, Xc, Yc, cv=4, scoring='recall')\n",
    "prec = cross_val_score(clf, Xc, Yc, cv=4, scoring='precision')\n",
    "print(scores.mean())\n",
    "print(f.mean())\n",
    "print(rec.mean())\n",
    "print(prec.mean())"
   ]
  },
  {
   "cell_type": "code",
   "execution_count": null,
   "metadata": {
    "colab": {
     "base_uri": "https://localhost:8080/",
     "height": 85
    },
    "id": "F6DsJ2loXL54",
    "outputId": "3edfa7a1-7e7c-4f30-9723-bf10a564270d"
   },
   "outputs": [
    {
     "name": "stdout",
     "output_type": "stream",
     "text": [
      "0.7414273977341521\n",
      "0.8411140600506237\n",
      "0.9288256227758007\n",
      "0.7823614509899552\n"
     ]
    }
   ],
   "source": [
    "pca = PCA(n_components=15)\n",
    "X_train_pca = pca.fit_transform(Xc)\n",
    "scores = cross_val_score(clf, X_train_pca, Yc, cv=4, scoring='accuracy')\n",
    "f = cross_val_score(clf, X_train_pca, Yc, cv=4, scoring='f1')\n",
    "rec = cross_val_score(clf, X_train_pca, Yc, cv=4, scoring='recall')\n",
    "prec = cross_val_score(clf, X_train_pca, Yc, cv=4, scoring='precision')\n",
    "print(scores.mean())\n",
    "print(f.mean())\n",
    "print(rec.mean())\n",
    "print(prec.mean())"
   ]
  },
  {
   "cell_type": "markdown",
   "metadata": {
    "id": "te6fLqCHXWV4"
   },
   "source": [
    "Validação cruzada com 1,2,4 e 5 com 3 como validação"
   ]
  },
  {
   "cell_type": "code",
   "execution_count": null,
   "metadata": {
    "id": "6tXQRNH4XSjw"
   },
   "outputs": [],
   "source": [
    "Xc, Xf, Yc, yf = train_test_split(X, Y, test_size=0.2,random_state=30)\n",
    "Xk, Xv, Yk, yv =train_test_split(Xc,Yc,test_size=0.5,random_state=30)\n",
    "Xz, Xa, Yz, yz =train_test_split(Xv,yv,test_size=0.5,random_state=30)"
   ]
  },
  {
   "cell_type": "code",
   "execution_count": null,
   "metadata": {
    "colab": {
     "base_uri": "https://localhost:8080/",
     "height": 419
    },
    "id": "KFK-KR4mX7mn",
    "outputId": "8a8c3188-abb9-40fc-889f-5939cd8fc77f"
   },
   "outputs": [
    {
     "data": {
      "text/html": [
       "<div>\n",
       "<style scoped>\n",
       "    .dataframe tbody tr th:only-of-type {\n",
       "        vertical-align: middle;\n",
       "    }\n",
       "\n",
       "    .dataframe tbody tr th {\n",
       "        vertical-align: top;\n",
       "    }\n",
       "\n",
       "    .dataframe thead th {\n",
       "        text-align: right;\n",
       "    }\n",
       "</style>\n",
       "<table border=\"1\" class=\"dataframe\">\n",
       "  <thead>\n",
       "    <tr style=\"text-align: right;\">\n",
       "      <th></th>\n",
       "      <th>bpm</th>\n",
       "      <th>ibi</th>\n",
       "      <th>sdnn</th>\n",
       "      <th>sdsd</th>\n",
       "      <th>rmssd</th>\n",
       "      <th>pnn20</th>\n",
       "      <th>pnn50</th>\n",
       "      <th>hr_mad</th>\n",
       "      <th>sd1</th>\n",
       "      <th>sd2</th>\n",
       "      <th>s</th>\n",
       "      <th>sd1/sd2</th>\n",
       "      <th>breathingrate</th>\n",
       "      <th>ECG</th>\n",
       "      <th>HR</th>\n",
       "    </tr>\n",
       "  </thead>\n",
       "  <tbody>\n",
       "    <tr>\n",
       "      <th>0</th>\n",
       "      <td>92.316832</td>\n",
       "      <td>649.935650</td>\n",
       "      <td>132.661056</td>\n",
       "      <td>126.846762</td>\n",
       "      <td>221.623895</td>\n",
       "      <td>0.672414</td>\n",
       "      <td>0.672414</td>\n",
       "      <td>0.000000</td>\n",
       "      <td>155.005101</td>\n",
       "      <td>109.332416</td>\n",
       "      <td>53240.828886</td>\n",
       "      <td>1.417741</td>\n",
       "      <td>0.256692</td>\n",
       "      <td>-0.016234</td>\n",
       "      <td>117.884354</td>\n",
       "    </tr>\n",
       "    <tr>\n",
       "      <th>1</th>\n",
       "      <td>70.285714</td>\n",
       "      <td>853.658537</td>\n",
       "      <td>121.951220</td>\n",
       "      <td>105.612854</td>\n",
       "      <td>211.225708</td>\n",
       "      <td>0.750000</td>\n",
       "      <td>0.750000</td>\n",
       "      <td>121.951220</td>\n",
       "      <td>143.000480</td>\n",
       "      <td>85.026425</td>\n",
       "      <td>38198.058629</td>\n",
       "      <td>1.681836</td>\n",
       "      <td>0.495987</td>\n",
       "      <td>-0.001757</td>\n",
       "      <td>66.856374</td>\n",
       "    </tr>\n",
       "    <tr>\n",
       "      <th>2</th>\n",
       "      <td>81.330612</td>\n",
       "      <td>737.729600</td>\n",
       "      <td>209.831393</td>\n",
       "      <td>196.255994</td>\n",
       "      <td>331.182332</td>\n",
       "      <td>0.718750</td>\n",
       "      <td>0.718750</td>\n",
       "      <td>243.902439</td>\n",
       "      <td>233.933068</td>\n",
       "      <td>185.371746</td>\n",
       "      <td>136233.849510</td>\n",
       "      <td>1.261967</td>\n",
       "      <td>0.318263</td>\n",
       "      <td>-0.002503</td>\n",
       "      <td>77.531697</td>\n",
       "    </tr>\n",
       "    <tr>\n",
       "      <th>3</th>\n",
       "      <td>103.924528</td>\n",
       "      <td>577.342048</td>\n",
       "      <td>161.058036</td>\n",
       "      <td>140.547681</td>\n",
       "      <td>254.519434</td>\n",
       "      <td>0.780822</td>\n",
       "      <td>0.780822</td>\n",
       "      <td>196.078431</td>\n",
       "      <td>179.962396</td>\n",
       "      <td>143.368317</td>\n",
       "      <td>81055.936444</td>\n",
       "      <td>1.255245</td>\n",
       "      <td>0.789372</td>\n",
       "      <td>0.003884</td>\n",
       "      <td>73.623797</td>\n",
       "    </tr>\n",
       "    <tr>\n",
       "      <th>4</th>\n",
       "      <td>70.881356</td>\n",
       "      <td>846.484935</td>\n",
       "      <td>121.740048</td>\n",
       "      <td>90.897072</td>\n",
       "      <td>222.651446</td>\n",
       "      <td>0.833333</td>\n",
       "      <td>0.833333</td>\n",
       "      <td>0.000000</td>\n",
       "      <td>131.722372</td>\n",
       "      <td>64.273936</td>\n",
       "      <td>26597.714033</td>\n",
       "      <td>2.049390</td>\n",
       "      <td>0.417275</td>\n",
       "      <td>-0.000249</td>\n",
       "      <td>68.791837</td>\n",
       "    </tr>\n",
       "    <tr>\n",
       "      <th>...</th>\n",
       "      <td>...</td>\n",
       "      <td>...</td>\n",
       "      <td>...</td>\n",
       "      <td>...</td>\n",
       "      <td>...</td>\n",
       "      <td>...</td>\n",
       "      <td>...</td>\n",
       "      <td>...</td>\n",
       "      <td>...</td>\n",
       "      <td>...</td>\n",
       "      <td>...</td>\n",
       "      <td>...</td>\n",
       "      <td>...</td>\n",
       "      <td>...</td>\n",
       "      <td>...</td>\n",
       "    </tr>\n",
       "    <tr>\n",
       "      <th>1484</th>\n",
       "      <td>64.263158</td>\n",
       "      <td>933.660934</td>\n",
       "      <td>134.575567</td>\n",
       "      <td>130.371997</td>\n",
       "      <td>214.789031</td>\n",
       "      <td>0.631579</td>\n",
       "      <td>0.631579</td>\n",
       "      <td>0.000000</td>\n",
       "      <td>150.540615</td>\n",
       "      <td>112.005802</td>\n",
       "      <td>52971.720484</td>\n",
       "      <td>1.344043</td>\n",
       "      <td>0.324728</td>\n",
       "      <td>0.009524</td>\n",
       "      <td>86.714286</td>\n",
       "    </tr>\n",
       "    <tr>\n",
       "      <th>1485</th>\n",
       "      <td>62.437500</td>\n",
       "      <td>960.960961</td>\n",
       "      <td>134.298377</td>\n",
       "      <td>117.030460</td>\n",
       "      <td>135.135135</td>\n",
       "      <td>0.250000</td>\n",
       "      <td>0.250000</td>\n",
       "      <td>0.000000</td>\n",
       "      <td>82.753032</td>\n",
       "      <td>82.753032</td>\n",
       "      <td>21513.828435</td>\n",
       "      <td>1.000000</td>\n",
       "      <td>0.231348</td>\n",
       "      <td>-0.007669</td>\n",
       "      <td>97.478458</td>\n",
       "    </tr>\n",
       "    <tr>\n",
       "      <th>1486</th>\n",
       "      <td>88.000000</td>\n",
       "      <td>681.818182</td>\n",
       "      <td>195.118802</td>\n",
       "      <td>156.141950</td>\n",
       "      <td>248.863675</td>\n",
       "      <td>0.671233</td>\n",
       "      <td>0.671233</td>\n",
       "      <td>243.902439</td>\n",
       "      <td>174.380065</td>\n",
       "      <td>199.910128</td>\n",
       "      <td>109516.991249</td>\n",
       "      <td>0.872292</td>\n",
       "      <td>0.300320</td>\n",
       "      <td>-0.004129</td>\n",
       "      <td>71.905930</td>\n",
       "    </tr>\n",
       "    <tr>\n",
       "      <th>1487</th>\n",
       "      <td>64.347826</td>\n",
       "      <td>932.432432</td>\n",
       "      <td>134.457762</td>\n",
       "      <td>134.298377</td>\n",
       "      <td>201.447566</td>\n",
       "      <td>0.555556</td>\n",
       "      <td>0.555556</td>\n",
       "      <td>0.000000</td>\n",
       "      <td>140.853326</td>\n",
       "      <td>120.120120</td>\n",
       "      <td>53153.606556</td>\n",
       "      <td>1.172604</td>\n",
       "      <td>0.321906</td>\n",
       "      <td>-0.002606</td>\n",
       "      <td>75.565611</td>\n",
       "    </tr>\n",
       "    <tr>\n",
       "      <th>1488</th>\n",
       "      <td>69.851852</td>\n",
       "      <td>858.960764</td>\n",
       "      <td>121.835899</td>\n",
       "      <td>120.700405</td>\n",
       "      <td>184.372914</td>\n",
       "      <td>0.571429</td>\n",
       "      <td>0.571429</td>\n",
       "      <td>0.000000</td>\n",
       "      <td>120.700405</td>\n",
       "      <td>110.183891</td>\n",
       "      <td>41780.795272</td>\n",
       "      <td>1.095445</td>\n",
       "      <td>0.354592</td>\n",
       "      <td>-0.003773</td>\n",
       "      <td>67.899518</td>\n",
       "    </tr>\n",
       "  </tbody>\n",
       "</table>\n",
       "<p>1489 rows × 15 columns</p>\n",
       "</div>"
      ],
      "text/plain": [
       "             bpm         ibi        sdnn  ...  breathingrate       ECG          HR\n",
       "0      92.316832  649.935650  132.661056  ...       0.256692 -0.016234  117.884354\n",
       "1      70.285714  853.658537  121.951220  ...       0.495987 -0.001757   66.856374\n",
       "2      81.330612  737.729600  209.831393  ...       0.318263 -0.002503   77.531697\n",
       "3     103.924528  577.342048  161.058036  ...       0.789372  0.003884   73.623797\n",
       "4      70.881356  846.484935  121.740048  ...       0.417275 -0.000249   68.791837\n",
       "...          ...         ...         ...  ...            ...       ...         ...\n",
       "1484   64.263158  933.660934  134.575567  ...       0.324728  0.009524   86.714286\n",
       "1485   62.437500  960.960961  134.298377  ...       0.231348 -0.007669   97.478458\n",
       "1486   88.000000  681.818182  195.118802  ...       0.300320 -0.004129   71.905930\n",
       "1487   64.347826  932.432432  134.457762  ...       0.321906 -0.002606   75.565611\n",
       "1488   69.851852  858.960764  121.835899  ...       0.354592 -0.003773   67.899518\n",
       "\n",
       "[1489 rows x 15 columns]"
      ]
     },
     "execution_count": 229,
     "metadata": {
      "tags": []
     },
     "output_type": "execute_result"
    }
   ],
   "source": [
    "Xc = pd.concat([Xk,Xa,Xf],ignore_index=True,sort=False)\n",
    "Xc"
   ]
  },
  {
   "cell_type": "code",
   "execution_count": null,
   "metadata": {
    "id": "CofjL8rpYfE6"
   },
   "outputs": [],
   "source": [
    "Yc = Yk.append(yz)\n",
    "Yc = Yc.append(yf)"
   ]
  },
  {
   "cell_type": "code",
   "execution_count": null,
   "metadata": {
    "colab": {
     "base_uri": "https://localhost:8080/",
     "height": 221
    },
    "id": "faIJVwWtZB4y",
    "outputId": "da586f13-235a-45ec-f94a-f6b567ca6bbd"
   },
   "outputs": [
    {
     "data": {
      "text/plain": [
       "1319    1\n",
       "1725    0\n",
       "529     1\n",
       "82      1\n",
       "556     0\n",
       "       ..\n",
       "146     1\n",
       "1278    1\n",
       "544     1\n",
       "218     1\n",
       "1855    0\n",
       "Name: stress, Length: 1489, dtype: int64"
      ]
     },
     "execution_count": 199,
     "metadata": {
      "tags": []
     },
     "output_type": "execute_result"
    }
   ],
   "source": [
    "Yc"
   ]
  },
  {
   "cell_type": "code",
   "execution_count": null,
   "metadata": {
    "colab": {
     "base_uri": "https://localhost:8080/",
     "height": 85
    },
    "id": "EO5XTOgIZJg4",
    "outputId": "2bc43d64-642f-42ae-8178-78723e6be6a6"
   },
   "outputs": [
    {
     "name": "stdout",
     "output_type": "stream",
     "text": [
      "0.6809957767592032\n",
      "0.7866214873214218\n",
      "0.7807638535841384\n",
      "0.7927881166537909\n"
     ]
    }
   ],
   "source": [
    "clf = KNeighborsClassifier(n_neighbors=1)\n",
    "scores = cross_val_score(clf, Xc, Yc, cv=4, scoring='accuracy')\n",
    "f = cross_val_score(clf, Xc, Yc, cv=4, scoring='f1')\n",
    "rec = cross_val_score(clf, Xc, Yc, cv=4, scoring='recall')\n",
    "prec = cross_val_score(clf, Xc, Yc, cv=4, scoring='precision')\n",
    "print(scores.mean())\n",
    "print(f.mean())\n",
    "print(rec.mean())\n",
    "print(prec.mean())"
   ]
  },
  {
   "cell_type": "code",
   "execution_count": null,
   "metadata": {
    "colab": {
     "base_uri": "https://localhost:8080/",
     "height": 85
    },
    "id": "uTEYal6UZWdC",
    "outputId": "414ba06e-6462-43b8-ef45-4e7b81b3fa79"
   },
   "outputs": [
    {
     "name": "stdout",
     "output_type": "stream",
     "text": [
      "0.6823380610568192\n",
      "0.7879477618574836\n",
      "0.7834297153024912\n",
      "0.7926371669053192\n"
     ]
    }
   ],
   "source": [
    "pca = PCA(n_components=5)\n",
    "X_train_pca = pca.fit_transform(Xc)\n",
    "scores = cross_val_score(clf, X_train_pca, Yc, cv=4, scoring='accuracy')\n",
    "f = cross_val_score(clf, X_train_pca, Yc, cv=4, scoring='f1')\n",
    "rec = cross_val_score(clf, X_train_pca, Yc, cv=4, scoring='recall')\n",
    "prec = cross_val_score(clf, X_train_pca, Yc, cv=4, scoring='precision')\n",
    "print(scores.mean())\n",
    "print(f.mean())\n",
    "print(rec.mean())\n",
    "print(prec.mean())"
   ]
  },
  {
   "cell_type": "code",
   "execution_count": null,
   "metadata": {
    "colab": {
     "base_uri": "https://localhost:8080/",
     "height": 85
    },
    "id": "zJunL1CTZYgc",
    "outputId": "8430bc02-9359-4a93-cc7b-cf68b9137b4f"
   },
   "outputs": [
    {
     "name": "stdout",
     "output_type": "stream",
     "text": [
      "0.772321557265992\n",
      "0.8448190804194089\n",
      "0.8350724453482461\n",
      "0.8447301730219391\n"
     ]
    }
   ],
   "source": [
    "clf = DecisionTreeClassifier()\n",
    "scores = cross_val_score(clf, Xc, Yc, cv=4, scoring='accuracy')\n",
    "f = cross_val_score(clf, Xc, Yc, cv=4, scoring='f1')\n",
    "rec = cross_val_score(clf, Xc, Yc, cv=4, scoring='recall')\n",
    "prec = cross_val_score(clf, Xc, Yc, cv=4, scoring='precision')\n",
    "print(scores.mean())\n",
    "print(f.mean())\n",
    "print(rec.mean())\n",
    "print(prec.mean())"
   ]
  },
  {
   "cell_type": "code",
   "execution_count": null,
   "metadata": {
    "colab": {
     "base_uri": "https://localhost:8080/",
     "height": 85
    },
    "id": "WXrKMUtBZsTX",
    "outputId": "8274c965-4552-4423-9edb-7ad0ddedb99a"
   },
   "outputs": [
    {
     "name": "stdout",
     "output_type": "stream",
     "text": [
      "0.7770348669607081\n",
      "0.8476953787318333\n",
      "0.8556335790543975\n",
      "0.8463384905517864\n"
     ]
    }
   ],
   "source": [
    "pca = PCA(n_components=15)\n",
    "X_train_pca = pca.fit_transform(Xc)\n",
    "scores = cross_val_score(clf, X_train_pca, Yc, cv=4, scoring='accuracy')\n",
    "f = cross_val_score(clf, X_train_pca, Yc, cv=4, scoring='f1')\n",
    "rec = cross_val_score(clf, X_train_pca, Yc, cv=4, scoring='recall')\n",
    "prec = cross_val_score(clf, X_train_pca, Yc, cv=4, scoring='precision')\n",
    "print(scores.mean())\n",
    "print(f.mean())\n",
    "print(rec.mean())\n",
    "print(prec.mean())"
   ]
  },
  {
   "cell_type": "code",
   "execution_count": null,
   "metadata": {
    "colab": {
     "base_uri": "https://localhost:8080/",
     "height": 85
    },
    "id": "WjVstXvdZufG",
    "outputId": "46dc22c0-1d34-4f8a-e09f-324c3ca5be53"
   },
   "outputs": [
    {
     "name": "stdout",
     "output_type": "stream",
     "text": [
      "0.8334378333189196\n",
      "0.88951876135786\n",
      "0.9242596593797661\n",
      "0.8524185707974486\n"
     ]
    }
   ],
   "source": [
    "clf = RandomForestClassifier(n_estimators=30)\n",
    "scores = cross_val_score(clf, Xc, Yc, cv=4, scoring='accuracy')\n",
    "f = cross_val_score(clf, Xc, Yc, cv=4, scoring='f1')\n",
    "rec = cross_val_score(clf, Xc, Yc, cv=4, scoring='recall')\n",
    "prec = cross_val_score(clf, Xc, Yc, cv=4, scoring='precision')\n",
    "print(scores.mean())\n",
    "print(f.mean())\n",
    "print(rec.mean())\n",
    "print(prec.mean())"
   ]
  },
  {
   "cell_type": "code",
   "execution_count": null,
   "metadata": {
    "colab": {
     "base_uri": "https://localhost:8080/",
     "height": 85
    },
    "id": "fBwU4qE8Z2SP",
    "outputId": "bd778357-80d7-484a-dfcb-387a97fba1e4"
   },
   "outputs": [
    {
     "name": "stdout",
     "output_type": "stream",
     "text": [
      "0.8112820346507538\n",
      "0.884886013862359\n",
      "0.9197985510930351\n",
      "0.857769327663724\n"
     ]
    }
   ],
   "source": [
    "pca = PCA(n_components=15)\n",
    "X_train_pca = pca.fit_transform(Xc)\n",
    "scores = cross_val_score(clf, X_train_pca, Yc, cv=4, scoring='accuracy')\n",
    "f = cross_val_score(clf, X_train_pca, Yc, cv=4, scoring='f1')\n",
    "rec = cross_val_score(clf, X_train_pca, Yc, cv=4, scoring='recall')\n",
    "prec = cross_val_score(clf, X_train_pca, Yc, cv=4, scoring='precision')\n",
    "print(scores.mean())\n",
    "print(f.mean())\n",
    "print(rec.mean())\n",
    "print(prec.mean())"
   ]
  },
  {
   "cell_type": "code",
   "execution_count": null,
   "metadata": {
    "colab": {
     "base_uri": "https://localhost:8080/",
     "height": 207
    },
    "id": "JLdbQDVrage4",
    "outputId": "1dde2a44-4d8f-4c93-92ae-8a156a4d0081"
   },
   "outputs": [
    {
     "name": "stdout",
     "output_type": "stream",
     "text": [
      "0.3634095102193779\n",
      "0.20092592592592592\n",
      "0.19375\n",
      "0.20865384615384616\n"
     ]
    },
    {
     "name": "stderr",
     "output_type": "stream",
     "text": [
      "/usr/local/lib/python3.6/dist-packages/sklearn/metrics/_classification.py:1272: UndefinedMetricWarning: Precision is ill-defined and being set to 0.0 due to no predicted samples. Use `zero_division` parameter to control this behavior.\n",
      "  _warn_prf(average, modifier, msg_start, len(result))\n",
      "/usr/local/lib/python3.6/dist-packages/sklearn/metrics/_classification.py:1272: UndefinedMetricWarning: Precision is ill-defined and being set to 0.0 due to no predicted samples. Use `zero_division` parameter to control this behavior.\n",
      "  _warn_prf(average, modifier, msg_start, len(result))\n",
      "/usr/local/lib/python3.6/dist-packages/sklearn/metrics/_classification.py:1272: UndefinedMetricWarning: Precision is ill-defined and being set to 0.0 due to no predicted samples. Use `zero_division` parameter to control this behavior.\n",
      "  _warn_prf(average, modifier, msg_start, len(result))\n"
     ]
    }
   ],
   "source": [
    "clf = GaussianNB()\n",
    "scores = cross_val_score(clf, Xc, Yc, cv=4, scoring='accuracy')\n",
    "f = cross_val_score(clf, Xc, Yc, cv=4, scoring='f1')\n",
    "rec = cross_val_score(clf, Xc, Yc, cv=4, scoring='recall')\n",
    "prec = cross_val_score(clf, Xc, Yc, cv=4, scoring='precision')\n",
    "print(scores.mean())\n",
    "print(f.mean())\n",
    "print(rec.mean())\n",
    "print(prec.mean())"
   ]
  },
  {
   "cell_type": "code",
   "execution_count": null,
   "metadata": {
    "colab": {
     "base_uri": "https://localhost:8080/",
     "height": 207
    },
    "id": "_iI2AYybajJo",
    "outputId": "b01ff2d1-7f17-40a3-9230-bb3132e6d930"
   },
   "outputs": [
    {
     "name": "stdout",
     "output_type": "stream",
     "text": [
      "0.35467295107959296\n",
      "0.19155206286836934\n",
      "0.17410714285714285\n",
      "0.212882096069869\n"
     ]
    },
    {
     "name": "stderr",
     "output_type": "stream",
     "text": [
      "/usr/local/lib/python3.6/dist-packages/sklearn/metrics/_classification.py:1272: UndefinedMetricWarning: Precision is ill-defined and being set to 0.0 due to no predicted samples. Use `zero_division` parameter to control this behavior.\n",
      "  _warn_prf(average, modifier, msg_start, len(result))\n",
      "/usr/local/lib/python3.6/dist-packages/sklearn/metrics/_classification.py:1272: UndefinedMetricWarning: Precision is ill-defined and being set to 0.0 due to no predicted samples. Use `zero_division` parameter to control this behavior.\n",
      "  _warn_prf(average, modifier, msg_start, len(result))\n",
      "/usr/local/lib/python3.6/dist-packages/sklearn/metrics/_classification.py:1272: UndefinedMetricWarning: Precision is ill-defined and being set to 0.0 due to no predicted samples. Use `zero_division` parameter to control this behavior.\n",
      "  _warn_prf(average, modifier, msg_start, len(result))\n"
     ]
    }
   ],
   "source": [
    "pca = PCA(n_components=15)\n",
    "X_train_pca = pca.fit_transform(Xc)\n",
    "scores = cross_val_score(clf, X_train_pca, Yc, cv=4, scoring='accuracy')\n",
    "f = cross_val_score(clf, X_train_pca, Yc, cv=4, scoring='f1')\n",
    "rec = cross_val_score(clf, X_train_pca, Yc, cv=4, scoring='recall')\n",
    "prec = cross_val_score(clf, X_train_pca, Yc, cv=4, scoring='precision')\n",
    "print(scores.mean())\n",
    "print(f.mean())\n",
    "print(rec.mean())\n",
    "print(prec.mean())"
   ]
  },
  {
   "cell_type": "markdown",
   "metadata": {
    "id": "E2N59YEYbLOn"
   },
   "source": [
    "Validação com 1,3,4 e 5 com 2 como validação\n"
   ]
  },
  {
   "cell_type": "code",
   "execution_count": null,
   "metadata": {
    "id": "Iy0ZcfXyatdp"
   },
   "outputs": [],
   "source": [
    "Xc, Xf, Yc, yf = train_test_split(X, Y, test_size=0.6,random_state=30)\n",
    "Xk, Xv, Yk, yv =train_test_split(Xc,Yc,test_size=0.5,random_state=30)"
   ]
  },
  {
   "cell_type": "code",
   "execution_count": null,
   "metadata": {
    "colab": {
     "base_uri": "https://localhost:8080/",
     "height": 419
    },
    "id": "wa5-oA-JdBer",
    "outputId": "c0c97c1a-f86d-454e-96c5-c4a7afbef16a"
   },
   "outputs": [
    {
     "data": {
      "text/html": [
       "<div>\n",
       "<style scoped>\n",
       "    .dataframe tbody tr th:only-of-type {\n",
       "        vertical-align: middle;\n",
       "    }\n",
       "\n",
       "    .dataframe tbody tr th {\n",
       "        vertical-align: top;\n",
       "    }\n",
       "\n",
       "    .dataframe thead th {\n",
       "        text-align: right;\n",
       "    }\n",
       "</style>\n",
       "<table border=\"1\" class=\"dataframe\">\n",
       "  <thead>\n",
       "    <tr style=\"text-align: right;\">\n",
       "      <th></th>\n",
       "      <th>bpm</th>\n",
       "      <th>ibi</th>\n",
       "      <th>sdnn</th>\n",
       "      <th>sdsd</th>\n",
       "      <th>rmssd</th>\n",
       "      <th>pnn20</th>\n",
       "      <th>pnn50</th>\n",
       "      <th>hr_mad</th>\n",
       "      <th>sd1</th>\n",
       "      <th>sd2</th>\n",
       "      <th>s</th>\n",
       "      <th>sd1/sd2</th>\n",
       "      <th>breathingrate</th>\n",
       "      <th>ECG</th>\n",
       "      <th>HR</th>\n",
       "    </tr>\n",
       "  </thead>\n",
       "  <tbody>\n",
       "    <tr>\n",
       "      <th>0</th>\n",
       "      <td>92.913295</td>\n",
       "      <td>645.763345</td>\n",
       "      <td>173.562194</td>\n",
       "      <td>1.324158e+02</td>\n",
       "      <td>220.974803</td>\n",
       "      <td>0.707865</td>\n",
       "      <td>0.707865</td>\n",
       "      <td>212.765957</td>\n",
       "      <td>154.930449</td>\n",
       "      <td>1.774549e+02</td>\n",
       "      <td>8.637232e+04</td>\n",
       "      <td>8.730696e-01</td>\n",
       "      <td>0.095129</td>\n",
       "      <td>-0.005120</td>\n",
       "      <td>69.395062</td>\n",
       "    </tr>\n",
       "    <tr>\n",
       "      <th>1</th>\n",
       "      <td>75.000000</td>\n",
       "      <td>800.000000</td>\n",
       "      <td>151.185789</td>\n",
       "      <td>1.197330e+02</td>\n",
       "      <td>240.000000</td>\n",
       "      <td>0.840000</td>\n",
       "      <td>0.840000</td>\n",
       "      <td>200.000000</td>\n",
       "      <td>169.705627</td>\n",
       "      <td>8.836289e+01</td>\n",
       "      <td>4.711032e+04</td>\n",
       "      <td>1.920553e+00</td>\n",
       "      <td>0.327381</td>\n",
       "      <td>0.002151</td>\n",
       "      <td>71.729412</td>\n",
       "    </tr>\n",
       "    <tr>\n",
       "      <th>2</th>\n",
       "      <td>58.421053</td>\n",
       "      <td>1027.027027</td>\n",
       "      <td>162.162162</td>\n",
       "      <td>5.684342e-14</td>\n",
       "      <td>270.270270</td>\n",
       "      <td>1.000000</td>\n",
       "      <td>1.000000</td>\n",
       "      <td>0.000000</td>\n",
       "      <td>183.865228</td>\n",
       "      <td>2.273737e-13</td>\n",
       "      <td>1.313378e-10</td>\n",
       "      <td>8.086478e+14</td>\n",
       "      <td>0.422064</td>\n",
       "      <td>-0.001198</td>\n",
       "      <td>84.900901</td>\n",
       "    </tr>\n",
       "    <tr>\n",
       "      <th>3</th>\n",
       "      <td>51.896104</td>\n",
       "      <td>1156.156156</td>\n",
       "      <td>235.022160</td>\n",
       "      <td>2.251333e+02</td>\n",
       "      <td>382.219882</td>\n",
       "      <td>0.714286</td>\n",
       "      <td>0.714286</td>\n",
       "      <td>0.000000</td>\n",
       "      <td>270.270270</td>\n",
       "      <td>1.682973e+02</td>\n",
       "      <td>1.428977e+05</td>\n",
       "      <td>1.605910e+00</td>\n",
       "      <td>0.096140</td>\n",
       "      <td>-0.007767</td>\n",
       "      <td>87.428894</td>\n",
       "    </tr>\n",
       "    <tr>\n",
       "      <th>4</th>\n",
       "      <td>90.731707</td>\n",
       "      <td>661.290323</td>\n",
       "      <td>141.825471</td>\n",
       "      <td>1.044324e+02</td>\n",
       "      <td>172.378321</td>\n",
       "      <td>0.657143</td>\n",
       "      <td>0.657143</td>\n",
       "      <td>200.000000</td>\n",
       "      <td>120.813569</td>\n",
       "      <td>1.486813e+02</td>\n",
       "      <td>5.643154e+04</td>\n",
       "      <td>8.125675e-01</td>\n",
       "      <td>0.073171</td>\n",
       "      <td>0.001145</td>\n",
       "      <td>64.880672</td>\n",
       "    </tr>\n",
       "    <tr>\n",
       "      <th>...</th>\n",
       "      <td>...</td>\n",
       "      <td>...</td>\n",
       "      <td>...</td>\n",
       "      <td>...</td>\n",
       "      <td>...</td>\n",
       "      <td>...</td>\n",
       "      <td>...</td>\n",
       "      <td>...</td>\n",
       "      <td>...</td>\n",
       "      <td>...</td>\n",
       "      <td>...</td>\n",
       "      <td>...</td>\n",
       "      <td>...</td>\n",
       "      <td>...</td>\n",
       "      <td>...</td>\n",
       "    </tr>\n",
       "    <tr>\n",
       "      <th>1484</th>\n",
       "      <td>81.088889</td>\n",
       "      <td>739.928748</td>\n",
       "      <td>195.017231</td>\n",
       "      <td>1.982251e+02</td>\n",
       "      <td>322.029115</td>\n",
       "      <td>0.689189</td>\n",
       "      <td>0.689189</td>\n",
       "      <td>243.902439</td>\n",
       "      <td>227.601603</td>\n",
       "      <td>1.564288e+02</td>\n",
       "      <td>1.118516e+05</td>\n",
       "      <td>1.454985e+00</td>\n",
       "      <td>0.440790</td>\n",
       "      <td>0.007000</td>\n",
       "      <td>81.332653</td>\n",
       "    </tr>\n",
       "    <tr>\n",
       "      <th>1485</th>\n",
       "      <td>59.769231</td>\n",
       "      <td>1003.861004</td>\n",
       "      <td>122.095663</td>\n",
       "      <td>1.007238e+02</td>\n",
       "      <td>246.721873</td>\n",
       "      <td>0.833333</td>\n",
       "      <td>0.833333</td>\n",
       "      <td>0.000000</td>\n",
       "      <td>171.526421</td>\n",
       "      <td>7.122247e+01</td>\n",
       "      <td>3.837938e+04</td>\n",
       "      <td>2.408319e+00</td>\n",
       "      <td>0.213523</td>\n",
       "      <td>-0.007528</td>\n",
       "      <td>94.135440</td>\n",
       "    </tr>\n",
       "    <tr>\n",
       "      <th>1486</th>\n",
       "      <td>80.492647</td>\n",
       "      <td>745.409701</td>\n",
       "      <td>184.122522</td>\n",
       "      <td>1.774891e+02</td>\n",
       "      <td>288.306742</td>\n",
       "      <td>0.698630</td>\n",
       "      <td>0.698630</td>\n",
       "      <td>243.902439</td>\n",
       "      <td>203.863653</td>\n",
       "      <td>1.672234e+02</td>\n",
       "      <td>1.070993e+05</td>\n",
       "      <td>1.219109e+00</td>\n",
       "      <td>0.331930</td>\n",
       "      <td>-0.000494</td>\n",
       "      <td>73.104082</td>\n",
       "    </tr>\n",
       "    <tr>\n",
       "      <th>1487</th>\n",
       "      <td>79.975309</td>\n",
       "      <td>750.231553</td>\n",
       "      <td>198.914031</td>\n",
       "      <td>1.779001e+02</td>\n",
       "      <td>303.153346</td>\n",
       "      <td>0.737179</td>\n",
       "      <td>0.737179</td>\n",
       "      <td>243.902439</td>\n",
       "      <td>214.358935</td>\n",
       "      <td>1.822340e+02</td>\n",
       "      <td>1.227215e+05</td>\n",
       "      <td>1.176284e+00</td>\n",
       "      <td>0.295543</td>\n",
       "      <td>-0.002638</td>\n",
       "      <td>67.656442</td>\n",
       "    </tr>\n",
       "    <tr>\n",
       "      <th>1488</th>\n",
       "      <td>83.064935</td>\n",
       "      <td>722.326454</td>\n",
       "      <td>211.017296</td>\n",
       "      <td>1.912490e+02</td>\n",
       "      <td>300.556545</td>\n",
       "      <td>0.666667</td>\n",
       "      <td>0.666667</td>\n",
       "      <td>243.902439</td>\n",
       "      <td>210.112075</td>\n",
       "      <td>1.960019e+02</td>\n",
       "      <td>1.293782e+05</td>\n",
       "      <td>1.071990e+00</td>\n",
       "      <td>0.346445</td>\n",
       "      <td>0.001894</td>\n",
       "      <td>68.218121</td>\n",
       "    </tr>\n",
       "  </tbody>\n",
       "</table>\n",
       "<p>1489 rows × 15 columns</p>\n",
       "</div>"
      ],
      "text/plain": [
       "            bpm          ibi        sdnn  ...  breathingrate       ECG         HR\n",
       "0     92.913295   645.763345  173.562194  ...       0.095129 -0.005120  69.395062\n",
       "1     75.000000   800.000000  151.185789  ...       0.327381  0.002151  71.729412\n",
       "2     58.421053  1027.027027  162.162162  ...       0.422064 -0.001198  84.900901\n",
       "3     51.896104  1156.156156  235.022160  ...       0.096140 -0.007767  87.428894\n",
       "4     90.731707   661.290323  141.825471  ...       0.073171  0.001145  64.880672\n",
       "...         ...          ...         ...  ...            ...       ...        ...\n",
       "1484  81.088889   739.928748  195.017231  ...       0.440790  0.007000  81.332653\n",
       "1485  59.769231  1003.861004  122.095663  ...       0.213523 -0.007528  94.135440\n",
       "1486  80.492647   745.409701  184.122522  ...       0.331930 -0.000494  73.104082\n",
       "1487  79.975309   750.231553  198.914031  ...       0.295543 -0.002638  67.656442\n",
       "1488  83.064935   722.326454  211.017296  ...       0.346445  0.001894  68.218121\n",
       "\n",
       "[1489 rows x 15 columns]"
      ]
     },
     "execution_count": 234,
     "metadata": {
      "tags": []
     },
     "output_type": "execute_result"
    }
   ],
   "source": [
    "Xc = pd.concat([Xf,Xk],ignore_index=True,sort=False)\n",
    "Xc"
   ]
  },
  {
   "cell_type": "code",
   "execution_count": null,
   "metadata": {
    "colab": {
     "base_uri": "https://localhost:8080/",
     "height": 221
    },
    "id": "rS0v4Jt6dDNp",
    "outputId": "c67bd06e-9508-4088-cc2b-ee83377547a0"
   },
   "outputs": [
    {
     "data": {
      "text/plain": [
       "1642    0\n",
       "1434    1\n",
       "1217    1\n",
       "1172    1\n",
       "1435    1\n",
       "       ..\n",
       "467     1\n",
       "1209    1\n",
       "695     1\n",
       "745     1\n",
       "1818    0\n",
       "Name: stress, Length: 1489, dtype: int64"
      ]
     },
     "execution_count": 235,
     "metadata": {
      "tags": []
     },
     "output_type": "execute_result"
    }
   ],
   "source": [
    "Yc = yf.append(Yk)\n",
    "Yc"
   ]
  },
  {
   "cell_type": "code",
   "execution_count": null,
   "metadata": {
    "colab": {
     "base_uri": "https://localhost:8080/",
     "height": 85
    },
    "id": "y5jswFe8dmIf",
    "outputId": "0b67a46f-8e94-4bb9-a2de-f077a8de6529"
   },
   "outputs": [
    {
     "name": "stdout",
     "output_type": "stream",
     "text": [
      "0.6238252760240999\n",
      "0.6425284837861525\n",
      "0.7491071428571429\n",
      "0.5625\n"
     ]
    }
   ],
   "source": [
    "clf = GaussianNB()\n",
    "scores = cross_val_score(clf, Xc, Yc, cv=4, scoring='accuracy')\n",
    "f = cross_val_score(clf, Xc, Yc, cv=4, scoring='f1')\n",
    "rec = cross_val_score(clf, Xc, Yc, cv=4, scoring='recall')\n",
    "prec = cross_val_score(clf, Xc, Yc, cv=4, scoring='precision')\n",
    "print(scores.mean())\n",
    "print(f.mean())\n",
    "print(rec.mean())\n",
    "print(prec.mean())"
   ]
  },
  {
   "cell_type": "code",
   "execution_count": null,
   "metadata": {
    "colab": {
     "base_uri": "https://localhost:8080/",
     "height": 85
    },
    "id": "SeCG0dHakVPO",
    "outputId": "e0411c4d-e6c5-4ce9-ec35-b0c39eb8cabe"
   },
   "outputs": [
    {
     "name": "stdout",
     "output_type": "stream",
     "text": [
      "0.6238252760240999\n",
      "0.6425284837861525\n",
      "0.7491071428571429\n",
      "0.5625\n"
     ]
    }
   ],
   "source": [
    "pca = PCA(n_components=4)\n",
    "X_train_pca = pca.fit_transform(Xc)\n",
    "scores = cross_val_score(clf, X_train_pca, Yc, cv=4, scoring='accuracy')\n",
    "f = cross_val_score(clf, X_train_pca, Yc, cv=4, scoring='f1')\n",
    "rec = cross_val_score(clf, X_train_pca, Yc, cv=4, scoring='recall')\n",
    "prec = cross_val_score(clf, X_train_pca, Yc, cv=4, scoring='precision')\n",
    "print(scores.mean())\n",
    "print(f.mean())\n",
    "print(rec.mean())\n",
    "print(prec.mean())"
   ]
  },
  {
   "cell_type": "code",
   "execution_count": null,
   "metadata": {
    "colab": {
     "base_uri": "https://localhost:8080/",
     "height": 85
    },
    "id": "UIPULS7rkY6c",
    "outputId": "75f0e641-e72c-42ad-a5d7-d8fc545ad67d"
   },
   "outputs": [
    {
     "name": "stdout",
     "output_type": "stream",
     "text": [
      "0.8206672143907291\n",
      "0.8847679471240857\n",
      "0.9274801587301588\n",
      "0.8548438971906218\n"
     ]
    }
   ],
   "source": [
    "clf = RandomForestClassifier(n_estimators=30)\n",
    "scores = cross_val_score(clf, Xc, Yc, cv=4, scoring='accuracy')\n",
    "f = cross_val_score(clf, Xc, Yc, cv=4, scoring='f1')\n",
    "rec = cross_val_score(clf, Xc, Yc, cv=4, scoring='recall')\n",
    "prec = cross_val_score(clf, Xc, Yc, cv=4, scoring='precision')\n",
    "print(scores.mean())\n",
    "print(f.mean())\n",
    "print(rec.mean())\n",
    "print(prec.mean())"
   ]
  },
  {
   "cell_type": "code",
   "execution_count": null,
   "metadata": {
    "colab": {
     "base_uri": "https://localhost:8080/",
     "height": 85
    },
    "id": "4CQskI79kn8w",
    "outputId": "cdc3350c-de4d-466e-b24a-c11e015aa4ff"
   },
   "outputs": [
    {
     "name": "stdout",
     "output_type": "stream",
     "text": [
      "0.829403773530514\n",
      "0.8854687913075243\n",
      "0.9247983870967742\n",
      "0.8551893727264082\n"
     ]
    }
   ],
   "source": [
    "pca = PCA(n_components=14)\n",
    "X_train_pca = pca.fit_transform(Xc)\n",
    "scores = cross_val_score(clf, X_train_pca, Yc, cv=4, scoring='accuracy')\n",
    "f = cross_val_score(clf, X_train_pca, Yc, cv=4, scoring='f1')\n",
    "rec = cross_val_score(clf, X_train_pca, Yc, cv=4, scoring='recall')\n",
    "prec = cross_val_score(clf, X_train_pca, Yc, cv=4, scoring='precision')\n",
    "print(scores.mean())\n",
    "print(f.mean())\n",
    "print(rec.mean())\n",
    "print(prec.mean())"
   ]
  },
  {
   "cell_type": "code",
   "execution_count": null,
   "metadata": {
    "colab": {
     "base_uri": "https://localhost:8080/",
     "height": 85
    },
    "id": "VVF1EW4jkqpT",
    "outputId": "117f421e-04dd-4061-ecb0-31d710f9d9bf"
   },
   "outputs": [
    {
     "name": "stdout",
     "output_type": "stream",
     "text": [
      "0.7642408256219551\n",
      "0.8427279037422548\n",
      "0.8424187147977471\n",
      "0.845797752971666\n"
     ]
    }
   ],
   "source": [
    "clf = DecisionTreeClassifier()\n",
    "scores = cross_val_score(clf, Xc, Yc, cv=4, scoring='accuracy')\n",
    "f = cross_val_score(clf, Xc, Yc, cv=4, scoring='f1')\n",
    "rec = cross_val_score(clf, Xc, Yc, cv=4, scoring='recall')\n",
    "prec = cross_val_score(clf, Xc, Yc, cv=4, scoring='precision')\n",
    "print(scores.mean())\n",
    "print(f.mean())\n",
    "print(rec.mean())\n",
    "print(prec.mean())"
   ]
  },
  {
   "cell_type": "code",
   "execution_count": null,
   "metadata": {
    "colab": {
     "base_uri": "https://localhost:8080/",
     "height": 85
    },
    "id": "4O4mH9PElqao",
    "outputId": "8c79e386-d6c1-44ac-884e-b08c9bfec7d0"
   },
   "outputs": [
    {
     "name": "stdout",
     "output_type": "stream",
     "text": [
      "0.7535241719277004\n",
      "0.8334719906428092\n",
      "0.8424283154121864\n",
      "0.8314239309597509\n"
     ]
    }
   ],
   "source": [
    "pca = PCA(n_components=14)\n",
    "X_train_pca = pca.fit_transform(Xc)\n",
    "scores = cross_val_score(clf, X_train_pca, Yc, cv=4, scoring='accuracy')\n",
    "f = cross_val_score(clf, X_train_pca, Yc, cv=4, scoring='f1')\n",
    "rec = cross_val_score(clf, X_train_pca, Yc, cv=4, scoring='recall')\n",
    "prec = cross_val_score(clf, X_train_pca, Yc, cv=4, scoring='precision')\n",
    "print(scores.mean())\n",
    "print(f.mean())\n",
    "print(rec.mean())\n",
    "print(prec.mean())"
   ]
  },
  {
   "cell_type": "code",
   "execution_count": null,
   "metadata": {
    "colab": {
     "base_uri": "https://localhost:8080/",
     "height": 85
    },
    "id": "0IVSNf2klvqe",
    "outputId": "6159bb55-0a7a-4278-f041-299bf7efad1a"
   },
   "outputs": [
    {
     "name": "stdout",
     "output_type": "stream",
     "text": [
      "0.6668702614661709\n",
      "0.7780567517001624\n",
      "0.7788434459805427\n",
      "0.777354756855022\n"
     ]
    }
   ],
   "source": [
    "clf = KNeighborsClassifier(n_neighbors=1)\n",
    "scores = cross_val_score(clf, Xc, Yc, cv=4, scoring='accuracy')\n",
    "f = cross_val_score(clf, Xc, Yc, cv=4, scoring='f1')\n",
    "rec = cross_val_score(clf, Xc, Yc, cv=4, scoring='recall')\n",
    "prec = cross_val_score(clf, Xc, Yc, cv=4, scoring='precision')\n",
    "print(scores.mean())\n",
    "print(f.mean())\n",
    "print(rec.mean())\n",
    "print(prec.mean())"
   ]
  },
  {
   "cell_type": "code",
   "execution_count": null,
   "metadata": {
    "colab": {
     "base_uri": "https://localhost:8080/",
     "height": 85
    },
    "id": "rNVzP8RzlwNx",
    "outputId": "a9a6e35b-cceb-4b56-94bd-c67e13d0fc5a"
   },
   "outputs": [
    {
     "name": "stdout",
     "output_type": "stream",
     "text": [
      "0.6668702614661709\n",
      "0.7780567517001624\n",
      "0.7788434459805427\n",
      "0.777354756855022\n"
     ]
    }
   ],
   "source": [
    "pca = PCA(n_components=14)\n",
    "X_train_pca = pca.fit_transform(Xc)\n",
    "scores = cross_val_score(clf, X_train_pca, Yc, cv=4, scoring='accuracy')\n",
    "f = cross_val_score(clf, X_train_pca, Yc, cv=4, scoring='f1')\n",
    "rec = cross_val_score(clf, X_train_pca, Yc, cv=4, scoring='recall')\n",
    "prec = cross_val_score(clf, X_train_pca, Yc, cv=4, scoring='precision')\n",
    "print(scores.mean())\n",
    "print(f.mean())\n",
    "print(rec.mean())\n",
    "print(prec.mean())"
   ]
  },
  {
   "cell_type": "markdown",
   "metadata": {
    "id": "FQtro-GemKxv"
   },
   "source": [
    "Validação com 2,3,4,5 e 1 para teste\n"
   ]
  },
  {
   "cell_type": "code",
   "execution_count": null,
   "metadata": {
    "id": "QoHZjVqOmDbr"
   },
   "outputs": [],
   "source": [
    "Xc, Xf, Yc, yf = train_test_split(X, Y, test_size=0.8,random_state=30)"
   ]
  },
  {
   "cell_type": "code",
   "execution_count": null,
   "metadata": {
    "colab": {
     "base_uri": "https://localhost:8080/",
     "height": 419
    },
    "id": "rndxuhHHmVd5",
    "outputId": "fbb7227f-7f3b-4cde-f41c-fa4103014cd7"
   },
   "outputs": [
    {
     "data": {
      "text/html": [
       "<div>\n",
       "<style scoped>\n",
       "    .dataframe tbody tr th:only-of-type {\n",
       "        vertical-align: middle;\n",
       "    }\n",
       "\n",
       "    .dataframe tbody tr th {\n",
       "        vertical-align: top;\n",
       "    }\n",
       "\n",
       "    .dataframe thead th {\n",
       "        text-align: right;\n",
       "    }\n",
       "</style>\n",
       "<table border=\"1\" class=\"dataframe\">\n",
       "  <thead>\n",
       "    <tr style=\"text-align: right;\">\n",
       "      <th></th>\n",
       "      <th>bpm</th>\n",
       "      <th>ibi</th>\n",
       "      <th>sdnn</th>\n",
       "      <th>sdsd</th>\n",
       "      <th>rmssd</th>\n",
       "      <th>pnn20</th>\n",
       "      <th>pnn50</th>\n",
       "      <th>hr_mad</th>\n",
       "      <th>sd1</th>\n",
       "      <th>sd2</th>\n",
       "      <th>s</th>\n",
       "      <th>sd1/sd2</th>\n",
       "      <th>breathingrate</th>\n",
       "      <th>ECG</th>\n",
       "      <th>HR</th>\n",
       "    </tr>\n",
       "  </thead>\n",
       "  <tbody>\n",
       "    <tr>\n",
       "      <th>1642</th>\n",
       "      <td>92.913295</td>\n",
       "      <td>645.763345</td>\n",
       "      <td>173.562194</td>\n",
       "      <td>1.324158e+02</td>\n",
       "      <td>220.974803</td>\n",
       "      <td>0.707865</td>\n",
       "      <td>0.707865</td>\n",
       "      <td>212.765957</td>\n",
       "      <td>154.930449</td>\n",
       "      <td>1.774549e+02</td>\n",
       "      <td>8.637232e+04</td>\n",
       "      <td>8.730696e-01</td>\n",
       "      <td>0.095129</td>\n",
       "      <td>-0.005120</td>\n",
       "      <td>69.395062</td>\n",
       "    </tr>\n",
       "    <tr>\n",
       "      <th>1434</th>\n",
       "      <td>75.000000</td>\n",
       "      <td>800.000000</td>\n",
       "      <td>151.185789</td>\n",
       "      <td>1.197330e+02</td>\n",
       "      <td>240.000000</td>\n",
       "      <td>0.840000</td>\n",
       "      <td>0.840000</td>\n",
       "      <td>200.000000</td>\n",
       "      <td>169.705627</td>\n",
       "      <td>8.836289e+01</td>\n",
       "      <td>4.711032e+04</td>\n",
       "      <td>1.920553e+00</td>\n",
       "      <td>0.327381</td>\n",
       "      <td>0.002151</td>\n",
       "      <td>71.729412</td>\n",
       "    </tr>\n",
       "    <tr>\n",
       "      <th>1217</th>\n",
       "      <td>58.421053</td>\n",
       "      <td>1027.027027</td>\n",
       "      <td>162.162162</td>\n",
       "      <td>5.684342e-14</td>\n",
       "      <td>270.270270</td>\n",
       "      <td>1.000000</td>\n",
       "      <td>1.000000</td>\n",
       "      <td>0.000000</td>\n",
       "      <td>183.865228</td>\n",
       "      <td>2.273737e-13</td>\n",
       "      <td>1.313378e-10</td>\n",
       "      <td>8.086478e+14</td>\n",
       "      <td>0.422064</td>\n",
       "      <td>-0.001198</td>\n",
       "      <td>84.900901</td>\n",
       "    </tr>\n",
       "    <tr>\n",
       "      <th>1172</th>\n",
       "      <td>51.896104</td>\n",
       "      <td>1156.156156</td>\n",
       "      <td>235.022160</td>\n",
       "      <td>2.251333e+02</td>\n",
       "      <td>382.219882</td>\n",
       "      <td>0.714286</td>\n",
       "      <td>0.714286</td>\n",
       "      <td>0.000000</td>\n",
       "      <td>270.270270</td>\n",
       "      <td>1.682973e+02</td>\n",
       "      <td>1.428977e+05</td>\n",
       "      <td>1.605910e+00</td>\n",
       "      <td>0.096140</td>\n",
       "      <td>-0.007767</td>\n",
       "      <td>87.428894</td>\n",
       "    </tr>\n",
       "    <tr>\n",
       "      <th>1435</th>\n",
       "      <td>90.731707</td>\n",
       "      <td>661.290323</td>\n",
       "      <td>141.825471</td>\n",
       "      <td>1.044324e+02</td>\n",
       "      <td>172.378321</td>\n",
       "      <td>0.657143</td>\n",
       "      <td>0.657143</td>\n",
       "      <td>200.000000</td>\n",
       "      <td>120.813569</td>\n",
       "      <td>1.486813e+02</td>\n",
       "      <td>5.643154e+04</td>\n",
       "      <td>8.125675e-01</td>\n",
       "      <td>0.073171</td>\n",
       "      <td>0.001145</td>\n",
       "      <td>64.880672</td>\n",
       "    </tr>\n",
       "    <tr>\n",
       "      <th>...</th>\n",
       "      <td>...</td>\n",
       "      <td>...</td>\n",
       "      <td>...</td>\n",
       "      <td>...</td>\n",
       "      <td>...</td>\n",
       "      <td>...</td>\n",
       "      <td>...</td>\n",
       "      <td>...</td>\n",
       "      <td>...</td>\n",
       "      <td>...</td>\n",
       "      <td>...</td>\n",
       "      <td>...</td>\n",
       "      <td>...</td>\n",
       "      <td>...</td>\n",
       "      <td>...</td>\n",
       "    </tr>\n",
       "    <tr>\n",
       "      <th>1075</th>\n",
       "      <td>68.307692</td>\n",
       "      <td>878.378378</td>\n",
       "      <td>151.085674</td>\n",
       "      <td>1.274066e+02</td>\n",
       "      <td>220.674752</td>\n",
       "      <td>0.666667</td>\n",
       "      <td>0.666667</td>\n",
       "      <td>0.000000</td>\n",
       "      <td>90.090090</td>\n",
       "      <td>1.560406e+02</td>\n",
       "      <td>4.416361e+04</td>\n",
       "      <td>5.773503e-01</td>\n",
       "      <td>0.071210</td>\n",
       "      <td>-0.004056</td>\n",
       "      <td>77.173423</td>\n",
       "    </tr>\n",
       "    <tr>\n",
       "      <th>1339</th>\n",
       "      <td>84.206897</td>\n",
       "      <td>712.530713</td>\n",
       "      <td>130.012349</td>\n",
       "      <td>1.350548e+02</td>\n",
       "      <td>194.377014</td>\n",
       "      <td>0.517241</td>\n",
       "      <td>0.517241</td>\n",
       "      <td>0.000000</td>\n",
       "      <td>129.472917</td>\n",
       "      <td>9.549814e+01</td>\n",
       "      <td>3.884398e+04</td>\n",
       "      <td>1.355764e+00</td>\n",
       "      <td>0.478927</td>\n",
       "      <td>-0.044170</td>\n",
       "      <td>112.149321</td>\n",
       "    </tr>\n",
       "    <tr>\n",
       "      <th>1371</th>\n",
       "      <td>67.682927</td>\n",
       "      <td>886.486486</td>\n",
       "      <td>121.351050</td>\n",
       "      <td>1.081081e+02</td>\n",
       "      <td>120.868539</td>\n",
       "      <td>0.200000</td>\n",
       "      <td>0.200000</td>\n",
       "      <td>0.000000</td>\n",
       "      <td>85.466964</td>\n",
       "      <td>7.644398e+01</td>\n",
       "      <td>2.052539e+04</td>\n",
       "      <td>1.118034e+00</td>\n",
       "      <td>0.496681</td>\n",
       "      <td>-0.014869</td>\n",
       "      <td>121.608597</td>\n",
       "    </tr>\n",
       "    <tr>\n",
       "      <th>464</th>\n",
       "      <td>82.000000</td>\n",
       "      <td>731.707317</td>\n",
       "      <td>209.364653</td>\n",
       "      <td>1.839271e+02</td>\n",
       "      <td>302.132295</td>\n",
       "      <td>0.706897</td>\n",
       "      <td>0.706897</td>\n",
       "      <td>243.902439</td>\n",
       "      <td>213.453472</td>\n",
       "      <td>2.051740e+02</td>\n",
       "      <td>1.375863e+05</td>\n",
       "      <td>1.040354e+00</td>\n",
       "      <td>0.287998</td>\n",
       "      <td>-0.007213</td>\n",
       "      <td>72.408998</td>\n",
       "    </tr>\n",
       "    <tr>\n",
       "      <th>1572</th>\n",
       "      <td>109.859155</td>\n",
       "      <td>546.153846</td>\n",
       "      <td>152.494058</td>\n",
       "      <td>1.344161e+02</td>\n",
       "      <td>229.816305</td>\n",
       "      <td>0.737864</td>\n",
       "      <td>0.737864</td>\n",
       "      <td>200.000000</td>\n",
       "      <td>161.667249</td>\n",
       "      <td>1.432952e+02</td>\n",
       "      <td>7.277857e+04</td>\n",
       "      <td>1.128211e+00</td>\n",
       "      <td>0.605634</td>\n",
       "      <td>0.002945</td>\n",
       "      <td>99.224832</td>\n",
       "    </tr>\n",
       "  </tbody>\n",
       "</table>\n",
       "<p>1489 rows × 15 columns</p>\n",
       "</div>"
      ],
      "text/plain": [
       "             bpm          ibi        sdnn  ...  breathingrate       ECG          HR\n",
       "1642   92.913295   645.763345  173.562194  ...       0.095129 -0.005120   69.395062\n",
       "1434   75.000000   800.000000  151.185789  ...       0.327381  0.002151   71.729412\n",
       "1217   58.421053  1027.027027  162.162162  ...       0.422064 -0.001198   84.900901\n",
       "1172   51.896104  1156.156156  235.022160  ...       0.096140 -0.007767   87.428894\n",
       "1435   90.731707   661.290323  141.825471  ...       0.073171  0.001145   64.880672\n",
       "...          ...          ...         ...  ...            ...       ...         ...\n",
       "1075   68.307692   878.378378  151.085674  ...       0.071210 -0.004056   77.173423\n",
       "1339   84.206897   712.530713  130.012349  ...       0.478927 -0.044170  112.149321\n",
       "1371   67.682927   886.486486  121.351050  ...       0.496681 -0.014869  121.608597\n",
       "464    82.000000   731.707317  209.364653  ...       0.287998 -0.007213   72.408998\n",
       "1572  109.859155   546.153846  152.494058  ...       0.605634  0.002945   99.224832\n",
       "\n",
       "[1489 rows x 15 columns]"
      ]
     },
     "execution_count": 257,
     "metadata": {
      "tags": []
     },
     "output_type": "execute_result"
    }
   ],
   "source": [
    "Xc = Xf\n",
    "Xc"
   ]
  },
  {
   "cell_type": "code",
   "execution_count": null,
   "metadata": {
    "colab": {
     "base_uri": "https://localhost:8080/",
     "height": 221
    },
    "id": "S36s4YQTmWyL",
    "outputId": "cf2810a8-696f-408b-a83a-db6657844142"
   },
   "outputs": [
    {
     "data": {
      "text/plain": [
       "1642    0\n",
       "1434    1\n",
       "1217    1\n",
       "1172    1\n",
       "1435    1\n",
       "       ..\n",
       "1075    1\n",
       "1339    1\n",
       "1371    1\n",
       "464     1\n",
       "1572    1\n",
       "Name: stress, Length: 1489, dtype: int64"
      ]
     },
     "execution_count": 258,
     "metadata": {
      "tags": []
     },
     "output_type": "execute_result"
    }
   ],
   "source": [
    "Yc=yf\n",
    "Yc"
   ]
  },
  {
   "cell_type": "code",
   "execution_count": null,
   "metadata": {
    "colab": {
     "base_uri": "https://localhost:8080/",
     "height": 85
    },
    "id": "FYssMXnCmhUC",
    "outputId": "a8a50618-5ecb-499e-c30f-3ba2c8bb9a2b"
   },
   "outputs": [
    {
     "name": "stdout",
     "output_type": "stream",
     "text": [
      "0.664859537605581\n",
      "0.7788914032978812\n",
      "0.7890300662695651\n",
      "0.7690178512237308\n"
     ]
    }
   ],
   "source": [
    "clf = KNeighborsClassifier(n_neighbors=1)\n",
    "scores = cross_val_score(clf, Xc, Yc, cv=4, scoring='accuracy')\n",
    "f = cross_val_score(clf, Xc, Yc, cv=4, scoring='f1')\n",
    "rec = cross_val_score(clf, Xc, Yc, cv=4, scoring='recall')\n",
    "prec = cross_val_score(clf, Xc, Yc, cv=4, scoring='precision')\n",
    "print(scores.mean())\n",
    "print(f.mean())\n",
    "print(rec.mean())\n",
    "print(prec.mean())"
   ]
  },
  {
   "cell_type": "code",
   "execution_count": null,
   "metadata": {
    "colab": {
     "base_uri": "https://localhost:8080/",
     "height": 85
    },
    "id": "IXrX8J7BmnzA",
    "outputId": "40329767-bf20-4245-9036-9610444891b0"
   },
   "outputs": [
    {
     "name": "stdout",
     "output_type": "stream",
     "text": [
      "0.6594904004151172\n",
      "0.7751328629674563\n",
      "0.7845401098476057\n",
      "0.7659585968011903\n"
     ]
    }
   ],
   "source": [
    "pca = PCA(n_components=7)\n",
    "X_train_pca = pca.fit_transform(Xc)\n",
    "scores = cross_val_score(clf, X_train_pca, Yc, cv=4, scoring='accuracy')\n",
    "f = cross_val_score(clf, X_train_pca, Yc, cv=4, scoring='f1')\n",
    "rec = cross_val_score(clf, X_train_pca, Yc, cv=4, scoring='recall')\n",
    "prec = cross_val_score(clf, X_train_pca, Yc, cv=4, scoring='precision')\n",
    "print(scores.mean())\n",
    "print(f.mean())\n",
    "print(rec.mean())\n",
    "print(prec.mean())"
   ]
  },
  {
   "cell_type": "code",
   "execution_count": null,
   "metadata": {
    "colab": {
     "base_uri": "https://localhost:8080/",
     "height": 85
    },
    "id": "2i0cPlG8mqH0",
    "outputId": "1142f50e-6495-4ac2-a3bc-967ed2367770"
   },
   "outputs": [
    {
     "name": "stdout",
     "output_type": "stream",
     "text": [
      "0.8152980772002651\n",
      "0.8855116384585798\n",
      "0.9299560351718625\n",
      "0.8532182841972845\n"
     ]
    }
   ],
   "source": [
    "clf = RandomForestClassifier(n_estimators=30)\n",
    "scores = cross_val_score(clf, Xc, Yc, cv=4, scoring='accuracy')\n",
    "f = cross_val_score(clf, Xc, Yc, cv=4, scoring='f1')\n",
    "rec = cross_val_score(clf, Xc, Yc, cv=4, scoring='recall')\n",
    "prec = cross_val_score(clf, Xc, Yc, cv=4, scoring='precision')\n",
    "print(scores.mean())\n",
    "print(f.mean())\n",
    "print(rec.mean())\n",
    "print(prec.mean())"
   ]
  },
  {
   "cell_type": "code",
   "execution_count": null,
   "metadata": {
    "colab": {
     "base_uri": "https://localhost:8080/",
     "height": 85
    },
    "id": "DM8KbYVEmwQy",
    "outputId": "09e24207-57dc-479d-f7af-06b2e0f1c847"
   },
   "outputs": [
    {
     "name": "stdout",
     "output_type": "stream",
     "text": [
      "0.816652973565107\n",
      "0.8869794911984933\n",
      "0.917401562620871\n",
      "0.8472593494685648\n"
     ]
    }
   ],
   "source": [
    "pca = PCA(n_components=14)\n",
    "X_train_pca = pca.fit_transform(Xc)\n",
    "scores = cross_val_score(clf, X_train_pca, Yc, cv=4, scoring='accuracy')\n",
    "f = cross_val_score(clf, X_train_pca, Yc, cv=4, scoring='f1')\n",
    "rec = cross_val_score(clf, X_train_pca, Yc, cv=4, scoring='recall')\n",
    "prec = cross_val_score(clf, X_train_pca, Yc, cv=4, scoring='precision')\n",
    "print(scores.mean())\n",
    "print(f.mean())\n",
    "print(rec.mean())\n",
    "print(prec.mean())"
   ]
  },
  {
   "cell_type": "code",
   "execution_count": null,
   "metadata": {
    "colab": {
     "base_uri": "https://localhost:8080/",
     "height": 85
    },
    "id": "N8WOHPCImz_8",
    "outputId": "d22e2bf2-5dc2-421c-f076-54f71c27c6a2"
   },
   "outputs": [
    {
     "name": "stdout",
     "output_type": "stream",
     "text": [
      "0.759574360748364\n",
      "0.8387117883964165\n",
      "0.8402149248343261\n",
      "0.8387630367713748\n"
     ]
    }
   ],
   "source": [
    "clf = DecisionTreeClassifier()\n",
    "scores = cross_val_score(clf, Xc, Yc, cv=4, scoring='accuracy')\n",
    "f = cross_val_score(clf, Xc, Yc, cv=4, scoring='f1')\n",
    "rec = cross_val_score(clf, Xc, Yc, cv=4, scoring='recall')\n",
    "prec = cross_val_score(clf, Xc, Yc, cv=4, scoring='precision')\n",
    "print(scores.mean())\n",
    "print(f.mean())\n",
    "print(rec.mean())\n",
    "print(prec.mean())"
   ]
  },
  {
   "cell_type": "code",
   "execution_count": null,
   "metadata": {
    "colab": {
     "base_uri": "https://localhost:8080/",
     "height": 85
    },
    "id": "fTDhh1irm4lL",
    "outputId": "459e4f0b-3674-4813-f415-f4b8123ac782"
   },
   "outputs": [
    {
     "name": "stdout",
     "output_type": "stream",
     "text": [
      "0.7521854910778634\n",
      "0.8315827429868445\n",
      "0.8249078156829375\n",
      "0.8447942722239398\n"
     ]
    }
   ],
   "source": [
    "pca = PCA(n_components=11)\n",
    "X_train_pca = pca.fit_transform(Xc)\n",
    "scores = cross_val_score(clf, X_train_pca, Yc, cv=4, scoring='accuracy')\n",
    "f = cross_val_score(clf, X_train_pca, Yc, cv=4, scoring='f1')\n",
    "rec = cross_val_score(clf, X_train_pca, Yc, cv=4, scoring='recall')\n",
    "prec = cross_val_score(clf, X_train_pca, Yc, cv=4, scoring='precision')\n",
    "print(scores.mean())\n",
    "print(f.mean())\n",
    "print(rec.mean())\n",
    "print(prec.mean())"
   ]
  },
  {
   "cell_type": "code",
   "execution_count": null,
   "metadata": {
    "colab": {
     "base_uri": "https://localhost:8080/",
     "height": 85
    },
    "id": "yLZOtLOXm9gw",
    "outputId": "a59a4b0a-9612-4df1-8380-d8b8339def68"
   },
   "outputs": [
    {
     "name": "stdout",
     "output_type": "stream",
     "text": [
      "0.6231550347372365\n",
      "0.6416495332624365\n",
      "0.7491039426523297\n",
      "0.5611559139784946\n"
     ]
    }
   ],
   "source": [
    "clf = GaussianNB()\n",
    "scores = cross_val_score(clf, Xc, Yc, cv=4, scoring='accuracy')\n",
    "f = cross_val_score(clf, Xc, Yc, cv=4, scoring='f1')\n",
    "rec = cross_val_score(clf, Xc, Yc, cv=4, scoring='recall')\n",
    "prec = cross_val_score(clf, Xc, Yc, cv=4, scoring='precision')\n",
    "print(scores.mean())\n",
    "print(f.mean())\n",
    "print(rec.mean())\n",
    "print(prec.mean())"
   ]
  },
  {
   "cell_type": "code",
   "execution_count": null,
   "metadata": {
    "colab": {
     "base_uri": "https://localhost:8080/",
     "height": 85
    },
    "id": "m_hq8Ryam-un",
    "outputId": "aade082b-e038-45d4-fc5b-5ea6ba32b2c3"
   },
   "outputs": [
    {
     "name": "stdout",
     "output_type": "stream",
     "text": [
      "0.6231550347372365\n",
      "0.6416495332624365\n",
      "0.7491039426523297\n",
      "0.5611559139784946\n"
     ]
    }
   ],
   "source": [
    "pca = PCA(n_components=12)\n",
    "X_train_pca = pca.fit_transform(Xc)\n",
    "scores = cross_val_score(clf, X_train_pca, Yc, cv=4, scoring='accuracy')\n",
    "f = cross_val_score(clf, X_train_pca, Yc, cv=4, scoring='f1')\n",
    "rec = cross_val_score(clf, X_train_pca, Yc, cv=4, scoring='recall')\n",
    "prec = cross_val_score(clf, X_train_pca, Yc, cv=4, scoring='precision')\n",
    "print(scores.mean())\n",
    "print(f.mean())\n",
    "print(rec.mean())\n",
    "print(prec.mean())"
   ]
  },
  {
   "cell_type": "code",
   "execution_count": null,
   "metadata": {
    "id": "6q9uoi3unKy6"
   },
   "outputs": [],
   "source": []
  }
 ],
 "metadata": {
  "accelerator": "GPU",
  "colab": {
   "collapsed_sections": [],
   "name": "Base 2.ipynb",
   "provenance": []
  },
  "kernelspec": {
   "display_name": "Python 3",
   "language": "python",
   "name": "python3"
  },
  "language_info": {
   "codemirror_mode": {
    "name": "ipython",
    "version": 3
   },
   "file_extension": ".py",
   "mimetype": "text/x-python",
   "name": "python",
   "nbconvert_exporter": "python",
   "pygments_lexer": "ipython3",
   "version": "3.8.5"
  }
 },
 "nbformat": 4,
 "nbformat_minor": 1
}
