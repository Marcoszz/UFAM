{
 "cells": [
  {
   "cell_type": "markdown",
   "metadata": {
    "id": "giq5o9bHzBqP"
   },
   "source": [
    "Experimento Super\n"
   ]
  },
  {
   "cell_type": "code",
   "execution_count": 1,
   "metadata": {
    "id": "O3E8BSYTpXal"
   },
   "outputs": [],
   "source": [
    "import pandas as pd\n",
    "import numpy as np\n",
    "import seaborn as sns\n",
    "from scipy import signal\n",
    "import sklearn\n",
    "import matplotlib.pyplot as plt\n",
    "from sklearn.decomposition import PCA\n",
    "from sklearn.preprocessing import StandardScaler, MinMaxScaler\n",
    "from sklearn.model_selection import train_test_split\n",
    "from sklearn import svm\n",
    "from sklearn.metrics import confusion_matrix, accuracy_score, classification_report\n",
    "from sklearn.naive_bayes import GaussianNB\n",
    "from sklearn.discriminant_analysis import LinearDiscriminantAnalysis\n",
    "from sklearn.tree import DecisionTreeClassifier\n",
    "from sklearn.ensemble import RandomForestClassifier\n",
    "from sklearn.neighbors import KNeighborsClassifier\n",
    "from sklearn.model_selection import cross_val_score\n",
    "from sklearn.pipeline import Pipeline\n",
    "from sklearn.manifold import TSNE\n",
    "%matplotlib inline\n",
    "palette = sns.color_palette(\"bright\", 10)"
   ]
  },
  {
   "cell_type": "code",
   "execution_count": 2,
   "metadata": {
    "colab": {
     "base_uri": "https://localhost:8080/",
     "height": 643
    },
    "id": "j0atOAXbFVA4",
    "outputId": "b6dbf2be-efe4-41e8-a95e-6b246aa1e89f"
   },
   "outputs": [
    {
     "data": {
      "text/html": [
       "<div>\n",
       "<style scoped>\n",
       "    .dataframe tbody tr th:only-of-type {\n",
       "        vertical-align: middle;\n",
       "    }\n",
       "\n",
       "    .dataframe tbody tr th {\n",
       "        vertical-align: top;\n",
       "    }\n",
       "\n",
       "    .dataframe thead th {\n",
       "        text-align: right;\n",
       "    }\n",
       "</style>\n",
       "<table border=\"1\" class=\"dataframe\">\n",
       "  <thead>\n",
       "    <tr style=\"text-align: right;\">\n",
       "      <th></th>\n",
       "      <th>ECG</th>\n",
       "      <th>EMG</th>\n",
       "      <th>HR</th>\n",
       "      <th>RESP</th>\n",
       "      <th>Seconds</th>\n",
       "      <th>footGSR</th>\n",
       "      <th>handGSR</th>\n",
       "      <th>interval in seconds</th>\n",
       "      <th>marker</th>\n",
       "      <th>newtime</th>\n",
       "      <th>stress</th>\n",
       "      <th>time</th>\n",
       "      <th>NNRR</th>\n",
       "      <th>AVNN</th>\n",
       "      <th>SDNN</th>\n",
       "      <th>RMSSD</th>\n",
       "      <th>pNN50</th>\n",
       "      <th>TP</th>\n",
       "      <th>ULF</th>\n",
       "      <th>VLF</th>\n",
       "      <th>LF</th>\n",
       "      <th>HF</th>\n",
       "      <th>LF_HF</th>\n",
       "    </tr>\n",
       "  </thead>\n",
       "  <tbody>\n",
       "    <tr>\n",
       "      <th>0</th>\n",
       "      <td>-0.001974</td>\n",
       "      <td>-0.004737</td>\n",
       "      <td>77.815789</td>\n",
       "      <td>10.801842</td>\n",
       "      <td>12.529684</td>\n",
       "      <td>2.417132</td>\n",
       "      <td>10.889447</td>\n",
       "      <td>0.614632</td>\n",
       "      <td>NaN</td>\n",
       "      <td>12.529684</td>\n",
       "      <td>0.000000</td>\n",
       "      <td>12.529684</td>\n",
       "      <td>0.973684</td>\n",
       "      <td>0.617297</td>\n",
       "      <td>3.558630e-02</td>\n",
       "      <td>0.015203</td>\n",
       "      <td>0.055556</td>\n",
       "      <td>0.001238</td>\n",
       "      <td>0.000000</td>\n",
       "      <td>0.000696</td>\n",
       "      <td>0.000407</td>\n",
       "      <td>0.000135</td>\n",
       "      <td>3.00200</td>\n",
       "    </tr>\n",
       "    <tr>\n",
       "      <th>1</th>\n",
       "      <td>0.002935</td>\n",
       "      <td>-0.004457</td>\n",
       "      <td>101.978261</td>\n",
       "      <td>10.750609</td>\n",
       "      <td>30.503500</td>\n",
       "      <td>2.417109</td>\n",
       "      <td>11.251065</td>\n",
       "      <td>0.647826</td>\n",
       "      <td>NaN</td>\n",
       "      <td>30.503500</td>\n",
       "      <td>0.000000</td>\n",
       "      <td>30.503500</td>\n",
       "      <td>0.978261</td>\n",
       "      <td>0.647889</td>\n",
       "      <td>1.354660e-02</td>\n",
       "      <td>0.013858</td>\n",
       "      <td>0.045455</td>\n",
       "      <td>0.000144</td>\n",
       "      <td>0.000000</td>\n",
       "      <td>0.000009</td>\n",
       "      <td>0.000060</td>\n",
       "      <td>0.000075</td>\n",
       "      <td>0.79371</td>\n",
       "    </tr>\n",
       "    <tr>\n",
       "      <th>2</th>\n",
       "      <td>0.006745</td>\n",
       "      <td>-0.003426</td>\n",
       "      <td>104.957447</td>\n",
       "      <td>10.557234</td>\n",
       "      <td>52.523021</td>\n",
       "      <td>2.226872</td>\n",
       "      <td>11.379638</td>\n",
       "      <td>0.646383</td>\n",
       "      <td>NaN</td>\n",
       "      <td>52.523021</td>\n",
       "      <td>0.000000</td>\n",
       "      <td>52.523021</td>\n",
       "      <td>0.978723</td>\n",
       "      <td>0.645000</td>\n",
       "      <td>2.240000e-08</td>\n",
       "      <td>0.000000</td>\n",
       "      <td>0.000000</td>\n",
       "      <td>NaN</td>\n",
       "      <td>0.000000</td>\n",
       "      <td>NaN</td>\n",
       "      <td>NaN</td>\n",
       "      <td>NaN</td>\n",
       "      <td>NaN</td>\n",
       "    </tr>\n",
       "    <tr>\n",
       "      <th>3</th>\n",
       "      <td>-0.004043</td>\n",
       "      <td>-0.002532</td>\n",
       "      <td>87.702128</td>\n",
       "      <td>10.640128</td>\n",
       "      <td>74.402170</td>\n",
       "      <td>2.173021</td>\n",
       "      <td>11.470830</td>\n",
       "      <td>0.645000</td>\n",
       "      <td>NaN</td>\n",
       "      <td>74.402170</td>\n",
       "      <td>0.000000</td>\n",
       "      <td>74.402170</td>\n",
       "      <td>0.978723</td>\n",
       "      <td>0.645000</td>\n",
       "      <td>2.240000e-08</td>\n",
       "      <td>0.000000</td>\n",
       "      <td>0.000000</td>\n",
       "      <td>NaN</td>\n",
       "      <td>0.000000</td>\n",
       "      <td>NaN</td>\n",
       "      <td>NaN</td>\n",
       "      <td>NaN</td>\n",
       "      <td>NaN</td>\n",
       "    </tr>\n",
       "    <tr>\n",
       "      <th>4</th>\n",
       "      <td>0.012745</td>\n",
       "      <td>-0.004426</td>\n",
       "      <td>88.829787</td>\n",
       "      <td>10.699319</td>\n",
       "      <td>96.219617</td>\n",
       "      <td>2.017106</td>\n",
       "      <td>11.135255</td>\n",
       "      <td>0.645000</td>\n",
       "      <td>NaN</td>\n",
       "      <td>96.219617</td>\n",
       "      <td>0.000000</td>\n",
       "      <td>96.219617</td>\n",
       "      <td>0.978723</td>\n",
       "      <td>0.645000</td>\n",
       "      <td>2.240000e-08</td>\n",
       "      <td>0.000000</td>\n",
       "      <td>0.000000</td>\n",
       "      <td>NaN</td>\n",
       "      <td>0.000000</td>\n",
       "      <td>NaN</td>\n",
       "      <td>NaN</td>\n",
       "      <td>NaN</td>\n",
       "      <td>NaN</td>\n",
       "    </tr>\n",
       "    <tr>\n",
       "      <th>...</th>\n",
       "      <td>...</td>\n",
       "      <td>...</td>\n",
       "      <td>...</td>\n",
       "      <td>...</td>\n",
       "      <td>...</td>\n",
       "      <td>...</td>\n",
       "      <td>...</td>\n",
       "      <td>...</td>\n",
       "      <td>...</td>\n",
       "      <td>...</td>\n",
       "      <td>...</td>\n",
       "      <td>...</td>\n",
       "      <td>...</td>\n",
       "      <td>...</td>\n",
       "      <td>...</td>\n",
       "      <td>...</td>\n",
       "      <td>...</td>\n",
       "      <td>...</td>\n",
       "      <td>...</td>\n",
       "      <td>...</td>\n",
       "      <td>...</td>\n",
       "      <td>...</td>\n",
       "      <td>...</td>\n",
       "    </tr>\n",
       "    <tr>\n",
       "      <th>4124</th>\n",
       "      <td>0.235263</td>\n",
       "      <td>0.424921</td>\n",
       "      <td>67.263158</td>\n",
       "      <td>33.493789</td>\n",
       "      <td>1384.599395</td>\n",
       "      <td>1.352105</td>\n",
       "      <td>5.373237</td>\n",
       "      <td>0.870763</td>\n",
       "      <td>9.597576</td>\n",
       "      <td>69562.420500</td>\n",
       "      <td>0.131579</td>\n",
       "      <td>1384.599395</td>\n",
       "      <td>0.973684</td>\n",
       "      <td>0.869892</td>\n",
       "      <td>8.546400e-02</td>\n",
       "      <td>0.045648</td>\n",
       "      <td>0.083333</td>\n",
       "      <td>0.096370</td>\n",
       "      <td>0.096370</td>\n",
       "      <td>0.000000</td>\n",
       "      <td>0.000000</td>\n",
       "      <td>0.000000</td>\n",
       "      <td>NaN</td>\n",
       "    </tr>\n",
       "    <tr>\n",
       "      <th>4125</th>\n",
       "      <td>0.266158</td>\n",
       "      <td>0.438684</td>\n",
       "      <td>69.500000</td>\n",
       "      <td>33.406211</td>\n",
       "      <td>1405.522816</td>\n",
       "      <td>1.361316</td>\n",
       "      <td>5.372211</td>\n",
       "      <td>0.877605</td>\n",
       "      <td>9.601515</td>\n",
       "      <td>69583.343920</td>\n",
       "      <td>0.131579</td>\n",
       "      <td>1405.522816</td>\n",
       "      <td>0.973684</td>\n",
       "      <td>0.876919</td>\n",
       "      <td>6.689060e-02</td>\n",
       "      <td>0.032167</td>\n",
       "      <td>0.027778</td>\n",
       "      <td>0.059283</td>\n",
       "      <td>0.059283</td>\n",
       "      <td>0.000000</td>\n",
       "      <td>0.000000</td>\n",
       "      <td>0.000000</td>\n",
       "      <td>NaN</td>\n",
       "    </tr>\n",
       "    <tr>\n",
       "      <th>4126</th>\n",
       "      <td>0.199139</td>\n",
       "      <td>0.411472</td>\n",
       "      <td>68.972222</td>\n",
       "      <td>33.246056</td>\n",
       "      <td>1423.220333</td>\n",
       "      <td>1.417806</td>\n",
       "      <td>5.706972</td>\n",
       "      <td>0.912306</td>\n",
       "      <td>9.603871</td>\n",
       "      <td>69027.154060</td>\n",
       "      <td>0.138889</td>\n",
       "      <td>1423.220333</td>\n",
       "      <td>0.972222</td>\n",
       "      <td>0.912571</td>\n",
       "      <td>8.870620e-02</td>\n",
       "      <td>0.045629</td>\n",
       "      <td>0.058824</td>\n",
       "      <td>0.090722</td>\n",
       "      <td>0.090722</td>\n",
       "      <td>0.000000</td>\n",
       "      <td>0.000000</td>\n",
       "      <td>0.000000</td>\n",
       "      <td>NaN</td>\n",
       "    </tr>\n",
       "    <tr>\n",
       "      <th>4127</th>\n",
       "      <td>0.247811</td>\n",
       "      <td>0.423108</td>\n",
       "      <td>67.189189</td>\n",
       "      <td>33.370378</td>\n",
       "      <td>1443.257216</td>\n",
       "      <td>1.370865</td>\n",
       "      <td>5.494568</td>\n",
       "      <td>0.908541</td>\n",
       "      <td>9.590312</td>\n",
       "      <td>69341.889860</td>\n",
       "      <td>0.135135</td>\n",
       "      <td>1443.257216</td>\n",
       "      <td>0.972973</td>\n",
       "      <td>0.906889</td>\n",
       "      <td>1.102240e-01</td>\n",
       "      <td>0.044973</td>\n",
       "      <td>0.057143</td>\n",
       "      <td>0.153265</td>\n",
       "      <td>0.153265</td>\n",
       "      <td>0.000000</td>\n",
       "      <td>0.000000</td>\n",
       "      <td>0.000000</td>\n",
       "      <td>NaN</td>\n",
       "    </tr>\n",
       "    <tr>\n",
       "      <th>4128</th>\n",
       "      <td>0.259590</td>\n",
       "      <td>0.438462</td>\n",
       "      <td>65.410256</td>\n",
       "      <td>33.468256</td>\n",
       "      <td>1466.115769</td>\n",
       "      <td>1.357769</td>\n",
       "      <td>5.366410</td>\n",
       "      <td>0.842026</td>\n",
       "      <td>10.713824</td>\n",
       "      <td>69908.807970</td>\n",
       "      <td>0.128205</td>\n",
       "      <td>1466.115769</td>\n",
       "      <td>0.974359</td>\n",
       "      <td>0.838711</td>\n",
       "      <td>8.349430e-02</td>\n",
       "      <td>0.025974</td>\n",
       "      <td>0.081081</td>\n",
       "      <td>0.087479</td>\n",
       "      <td>0.087479</td>\n",
       "      <td>0.000000</td>\n",
       "      <td>0.000000</td>\n",
       "      <td>0.000000</td>\n",
       "      <td>NaN</td>\n",
       "    </tr>\n",
       "  </tbody>\n",
       "</table>\n",
       "<p>4129 rows × 23 columns</p>\n",
       "</div>"
      ],
      "text/plain": [
       "           ECG       EMG          HR  ...        LF        HF    LF_HF\n",
       "0    -0.001974 -0.004737   77.815789  ...  0.000407  0.000135  3.00200\n",
       "1     0.002935 -0.004457  101.978261  ...  0.000060  0.000075  0.79371\n",
       "2     0.006745 -0.003426  104.957447  ...       NaN       NaN      NaN\n",
       "3    -0.004043 -0.002532   87.702128  ...       NaN       NaN      NaN\n",
       "4     0.012745 -0.004426   88.829787  ...       NaN       NaN      NaN\n",
       "...        ...       ...         ...  ...       ...       ...      ...\n",
       "4124  0.235263  0.424921   67.263158  ...  0.000000  0.000000      NaN\n",
       "4125  0.266158  0.438684   69.500000  ...  0.000000  0.000000      NaN\n",
       "4126  0.199139  0.411472   68.972222  ...  0.000000  0.000000      NaN\n",
       "4127  0.247811  0.423108   67.189189  ...  0.000000  0.000000      NaN\n",
       "4128  0.259590  0.438462   65.410256  ...  0.000000  0.000000      NaN\n",
       "\n",
       "[4129 rows x 23 columns]"
      ]
     },
     "execution_count": 2,
     "metadata": {
      "tags": []
     },
     "output_type": "execute_result"
    }
   ],
   "source": [
    "df=pd.read_csv(\"dataframe_hrv.csv\")\n",
    "df"
   ]
  },
  {
   "cell_type": "code",
   "execution_count": 3,
   "metadata": {
    "id": "vNC2c14D_vVh"
   },
   "outputs": [],
   "source": [
    "selected_x_columns = ['HR','interval in seconds','AVNN', 'RMSSD', 'pNN50', 'TP', 'ULF', 'VLF', 'LF', 'HF','LF_HF']"
   ]
  },
  {
   "cell_type": "code",
   "execution_count": 4,
   "metadata": {
    "colab": {
     "base_uri": "https://localhost:8080/",
     "height": 102
    },
    "id": "L6g5KUBlvR2Y",
    "outputId": "3da0897e-002b-4c68-e318-920891bcd235"
   },
   "outputs": [
    {
     "data": {
      "text/plain": [
       "Index(['ECG', 'EMG', 'HR', 'RESP', 'Seconds', 'footGSR', 'handGSR',\n",
       "       'interval in seconds', 'marker', 'newtime', 'stress', 'time', 'NNRR',\n",
       "       'AVNN', 'SDNN', 'RMSSD', 'pNN50', 'TP', 'ULF', 'VLF', 'LF', 'HF',\n",
       "       'LF_HF'],\n",
       "      dtype='object')"
      ]
     },
     "execution_count": 4,
     "metadata": {
      "tags": []
     },
     "output_type": "execute_result"
    }
   ],
   "source": [
    "df.columns"
   ]
  },
  {
   "cell_type": "code",
   "execution_count": 5,
   "metadata": {
    "id": "ppj3SVvbT9Cv"
   },
   "outputs": [],
   "source": [
    "def fix_stress(df='', colum = 'stress'):\n",
    "    df['stress'] = np.where(df['stress'] >=0.5, 1, 0)\n",
    "    display(df.stress.unique())\n",
    "    return df"
   ]
  },
  {
   "cell_type": "code",
   "execution_count": 6,
   "metadata": {
    "colab": {
     "base_uri": "https://localhost:8080/",
     "height": 660
    },
    "id": "UZT4i6VVUHhe",
    "outputId": "c18b67a9-f648-447d-b52e-cebcec6336f5"
   },
   "outputs": [
    {
     "data": {
      "text/plain": [
       "array([0, 1])"
      ]
     },
     "metadata": {
      "tags": []
     },
     "output_type": "display_data"
    },
    {
     "data": {
      "text/html": [
       "<div>\n",
       "<style scoped>\n",
       "    .dataframe tbody tr th:only-of-type {\n",
       "        vertical-align: middle;\n",
       "    }\n",
       "\n",
       "    .dataframe tbody tr th {\n",
       "        vertical-align: top;\n",
       "    }\n",
       "\n",
       "    .dataframe thead th {\n",
       "        text-align: right;\n",
       "    }\n",
       "</style>\n",
       "<table border=\"1\" class=\"dataframe\">\n",
       "  <thead>\n",
       "    <tr style=\"text-align: right;\">\n",
       "      <th></th>\n",
       "      <th>ECG</th>\n",
       "      <th>EMG</th>\n",
       "      <th>HR</th>\n",
       "      <th>RESP</th>\n",
       "      <th>Seconds</th>\n",
       "      <th>footGSR</th>\n",
       "      <th>handGSR</th>\n",
       "      <th>interval in seconds</th>\n",
       "      <th>marker</th>\n",
       "      <th>newtime</th>\n",
       "      <th>stress</th>\n",
       "      <th>time</th>\n",
       "      <th>NNRR</th>\n",
       "      <th>AVNN</th>\n",
       "      <th>SDNN</th>\n",
       "      <th>RMSSD</th>\n",
       "      <th>pNN50</th>\n",
       "      <th>TP</th>\n",
       "      <th>ULF</th>\n",
       "      <th>VLF</th>\n",
       "      <th>LF</th>\n",
       "      <th>HF</th>\n",
       "      <th>LF_HF</th>\n",
       "    </tr>\n",
       "  </thead>\n",
       "  <tbody>\n",
       "    <tr>\n",
       "      <th>0</th>\n",
       "      <td>-0.001974</td>\n",
       "      <td>-0.004737</td>\n",
       "      <td>77.815789</td>\n",
       "      <td>10.801842</td>\n",
       "      <td>12.529684</td>\n",
       "      <td>2.417132</td>\n",
       "      <td>10.889447</td>\n",
       "      <td>0.614632</td>\n",
       "      <td>NaN</td>\n",
       "      <td>12.529684</td>\n",
       "      <td>0</td>\n",
       "      <td>12.529684</td>\n",
       "      <td>0.973684</td>\n",
       "      <td>0.617297</td>\n",
       "      <td>3.558630e-02</td>\n",
       "      <td>0.015203</td>\n",
       "      <td>0.055556</td>\n",
       "      <td>0.001238</td>\n",
       "      <td>0.000000</td>\n",
       "      <td>0.000696</td>\n",
       "      <td>0.000407</td>\n",
       "      <td>0.000135</td>\n",
       "      <td>3.00200</td>\n",
       "    </tr>\n",
       "    <tr>\n",
       "      <th>1</th>\n",
       "      <td>0.002935</td>\n",
       "      <td>-0.004457</td>\n",
       "      <td>101.978261</td>\n",
       "      <td>10.750609</td>\n",
       "      <td>30.503500</td>\n",
       "      <td>2.417109</td>\n",
       "      <td>11.251065</td>\n",
       "      <td>0.647826</td>\n",
       "      <td>NaN</td>\n",
       "      <td>30.503500</td>\n",
       "      <td>0</td>\n",
       "      <td>30.503500</td>\n",
       "      <td>0.978261</td>\n",
       "      <td>0.647889</td>\n",
       "      <td>1.354660e-02</td>\n",
       "      <td>0.013858</td>\n",
       "      <td>0.045455</td>\n",
       "      <td>0.000144</td>\n",
       "      <td>0.000000</td>\n",
       "      <td>0.000009</td>\n",
       "      <td>0.000060</td>\n",
       "      <td>0.000075</td>\n",
       "      <td>0.79371</td>\n",
       "    </tr>\n",
       "    <tr>\n",
       "      <th>2</th>\n",
       "      <td>0.006745</td>\n",
       "      <td>-0.003426</td>\n",
       "      <td>104.957447</td>\n",
       "      <td>10.557234</td>\n",
       "      <td>52.523021</td>\n",
       "      <td>2.226872</td>\n",
       "      <td>11.379638</td>\n",
       "      <td>0.646383</td>\n",
       "      <td>NaN</td>\n",
       "      <td>52.523021</td>\n",
       "      <td>0</td>\n",
       "      <td>52.523021</td>\n",
       "      <td>0.978723</td>\n",
       "      <td>0.645000</td>\n",
       "      <td>2.240000e-08</td>\n",
       "      <td>0.000000</td>\n",
       "      <td>0.000000</td>\n",
       "      <td>NaN</td>\n",
       "      <td>0.000000</td>\n",
       "      <td>NaN</td>\n",
       "      <td>NaN</td>\n",
       "      <td>NaN</td>\n",
       "      <td>NaN</td>\n",
       "    </tr>\n",
       "    <tr>\n",
       "      <th>3</th>\n",
       "      <td>-0.004043</td>\n",
       "      <td>-0.002532</td>\n",
       "      <td>87.702128</td>\n",
       "      <td>10.640128</td>\n",
       "      <td>74.402170</td>\n",
       "      <td>2.173021</td>\n",
       "      <td>11.470830</td>\n",
       "      <td>0.645000</td>\n",
       "      <td>NaN</td>\n",
       "      <td>74.402170</td>\n",
       "      <td>0</td>\n",
       "      <td>74.402170</td>\n",
       "      <td>0.978723</td>\n",
       "      <td>0.645000</td>\n",
       "      <td>2.240000e-08</td>\n",
       "      <td>0.000000</td>\n",
       "      <td>0.000000</td>\n",
       "      <td>NaN</td>\n",
       "      <td>0.000000</td>\n",
       "      <td>NaN</td>\n",
       "      <td>NaN</td>\n",
       "      <td>NaN</td>\n",
       "      <td>NaN</td>\n",
       "    </tr>\n",
       "    <tr>\n",
       "      <th>4</th>\n",
       "      <td>0.012745</td>\n",
       "      <td>-0.004426</td>\n",
       "      <td>88.829787</td>\n",
       "      <td>10.699319</td>\n",
       "      <td>96.219617</td>\n",
       "      <td>2.017106</td>\n",
       "      <td>11.135255</td>\n",
       "      <td>0.645000</td>\n",
       "      <td>NaN</td>\n",
       "      <td>96.219617</td>\n",
       "      <td>0</td>\n",
       "      <td>96.219617</td>\n",
       "      <td>0.978723</td>\n",
       "      <td>0.645000</td>\n",
       "      <td>2.240000e-08</td>\n",
       "      <td>0.000000</td>\n",
       "      <td>0.000000</td>\n",
       "      <td>NaN</td>\n",
       "      <td>0.000000</td>\n",
       "      <td>NaN</td>\n",
       "      <td>NaN</td>\n",
       "      <td>NaN</td>\n",
       "      <td>NaN</td>\n",
       "    </tr>\n",
       "    <tr>\n",
       "      <th>...</th>\n",
       "      <td>...</td>\n",
       "      <td>...</td>\n",
       "      <td>...</td>\n",
       "      <td>...</td>\n",
       "      <td>...</td>\n",
       "      <td>...</td>\n",
       "      <td>...</td>\n",
       "      <td>...</td>\n",
       "      <td>...</td>\n",
       "      <td>...</td>\n",
       "      <td>...</td>\n",
       "      <td>...</td>\n",
       "      <td>...</td>\n",
       "      <td>...</td>\n",
       "      <td>...</td>\n",
       "      <td>...</td>\n",
       "      <td>...</td>\n",
       "      <td>...</td>\n",
       "      <td>...</td>\n",
       "      <td>...</td>\n",
       "      <td>...</td>\n",
       "      <td>...</td>\n",
       "      <td>...</td>\n",
       "    </tr>\n",
       "    <tr>\n",
       "      <th>4124</th>\n",
       "      <td>0.235263</td>\n",
       "      <td>0.424921</td>\n",
       "      <td>67.263158</td>\n",
       "      <td>33.493789</td>\n",
       "      <td>1384.599395</td>\n",
       "      <td>1.352105</td>\n",
       "      <td>5.373237</td>\n",
       "      <td>0.870763</td>\n",
       "      <td>9.597576</td>\n",
       "      <td>69562.420500</td>\n",
       "      <td>0</td>\n",
       "      <td>1384.599395</td>\n",
       "      <td>0.973684</td>\n",
       "      <td>0.869892</td>\n",
       "      <td>8.546400e-02</td>\n",
       "      <td>0.045648</td>\n",
       "      <td>0.083333</td>\n",
       "      <td>0.096370</td>\n",
       "      <td>0.096370</td>\n",
       "      <td>0.000000</td>\n",
       "      <td>0.000000</td>\n",
       "      <td>0.000000</td>\n",
       "      <td>NaN</td>\n",
       "    </tr>\n",
       "    <tr>\n",
       "      <th>4125</th>\n",
       "      <td>0.266158</td>\n",
       "      <td>0.438684</td>\n",
       "      <td>69.500000</td>\n",
       "      <td>33.406211</td>\n",
       "      <td>1405.522816</td>\n",
       "      <td>1.361316</td>\n",
       "      <td>5.372211</td>\n",
       "      <td>0.877605</td>\n",
       "      <td>9.601515</td>\n",
       "      <td>69583.343920</td>\n",
       "      <td>0</td>\n",
       "      <td>1405.522816</td>\n",
       "      <td>0.973684</td>\n",
       "      <td>0.876919</td>\n",
       "      <td>6.689060e-02</td>\n",
       "      <td>0.032167</td>\n",
       "      <td>0.027778</td>\n",
       "      <td>0.059283</td>\n",
       "      <td>0.059283</td>\n",
       "      <td>0.000000</td>\n",
       "      <td>0.000000</td>\n",
       "      <td>0.000000</td>\n",
       "      <td>NaN</td>\n",
       "    </tr>\n",
       "    <tr>\n",
       "      <th>4126</th>\n",
       "      <td>0.199139</td>\n",
       "      <td>0.411472</td>\n",
       "      <td>68.972222</td>\n",
       "      <td>33.246056</td>\n",
       "      <td>1423.220333</td>\n",
       "      <td>1.417806</td>\n",
       "      <td>5.706972</td>\n",
       "      <td>0.912306</td>\n",
       "      <td>9.603871</td>\n",
       "      <td>69027.154060</td>\n",
       "      <td>0</td>\n",
       "      <td>1423.220333</td>\n",
       "      <td>0.972222</td>\n",
       "      <td>0.912571</td>\n",
       "      <td>8.870620e-02</td>\n",
       "      <td>0.045629</td>\n",
       "      <td>0.058824</td>\n",
       "      <td>0.090722</td>\n",
       "      <td>0.090722</td>\n",
       "      <td>0.000000</td>\n",
       "      <td>0.000000</td>\n",
       "      <td>0.000000</td>\n",
       "      <td>NaN</td>\n",
       "    </tr>\n",
       "    <tr>\n",
       "      <th>4127</th>\n",
       "      <td>0.247811</td>\n",
       "      <td>0.423108</td>\n",
       "      <td>67.189189</td>\n",
       "      <td>33.370378</td>\n",
       "      <td>1443.257216</td>\n",
       "      <td>1.370865</td>\n",
       "      <td>5.494568</td>\n",
       "      <td>0.908541</td>\n",
       "      <td>9.590312</td>\n",
       "      <td>69341.889860</td>\n",
       "      <td>0</td>\n",
       "      <td>1443.257216</td>\n",
       "      <td>0.972973</td>\n",
       "      <td>0.906889</td>\n",
       "      <td>1.102240e-01</td>\n",
       "      <td>0.044973</td>\n",
       "      <td>0.057143</td>\n",
       "      <td>0.153265</td>\n",
       "      <td>0.153265</td>\n",
       "      <td>0.000000</td>\n",
       "      <td>0.000000</td>\n",
       "      <td>0.000000</td>\n",
       "      <td>NaN</td>\n",
       "    </tr>\n",
       "    <tr>\n",
       "      <th>4128</th>\n",
       "      <td>0.259590</td>\n",
       "      <td>0.438462</td>\n",
       "      <td>65.410256</td>\n",
       "      <td>33.468256</td>\n",
       "      <td>1466.115769</td>\n",
       "      <td>1.357769</td>\n",
       "      <td>5.366410</td>\n",
       "      <td>0.842026</td>\n",
       "      <td>10.713824</td>\n",
       "      <td>69908.807970</td>\n",
       "      <td>0</td>\n",
       "      <td>1466.115769</td>\n",
       "      <td>0.974359</td>\n",
       "      <td>0.838711</td>\n",
       "      <td>8.349430e-02</td>\n",
       "      <td>0.025974</td>\n",
       "      <td>0.081081</td>\n",
       "      <td>0.087479</td>\n",
       "      <td>0.087479</td>\n",
       "      <td>0.000000</td>\n",
       "      <td>0.000000</td>\n",
       "      <td>0.000000</td>\n",
       "      <td>NaN</td>\n",
       "    </tr>\n",
       "  </tbody>\n",
       "</table>\n",
       "<p>4129 rows × 23 columns</p>\n",
       "</div>"
      ],
      "text/plain": [
       "           ECG       EMG          HR  ...        LF        HF    LF_HF\n",
       "0    -0.001974 -0.004737   77.815789  ...  0.000407  0.000135  3.00200\n",
       "1     0.002935 -0.004457  101.978261  ...  0.000060  0.000075  0.79371\n",
       "2     0.006745 -0.003426  104.957447  ...       NaN       NaN      NaN\n",
       "3    -0.004043 -0.002532   87.702128  ...       NaN       NaN      NaN\n",
       "4     0.012745 -0.004426   88.829787  ...       NaN       NaN      NaN\n",
       "...        ...       ...         ...  ...       ...       ...      ...\n",
       "4124  0.235263  0.424921   67.263158  ...  0.000000  0.000000      NaN\n",
       "4125  0.266158  0.438684   69.500000  ...  0.000000  0.000000      NaN\n",
       "4126  0.199139  0.411472   68.972222  ...  0.000000  0.000000      NaN\n",
       "4127  0.247811  0.423108   67.189189  ...  0.000000  0.000000      NaN\n",
       "4128  0.259590  0.438462   65.410256  ...  0.000000  0.000000      NaN\n",
       "\n",
       "[4129 rows x 23 columns]"
      ]
     },
     "execution_count": 6,
     "metadata": {
      "tags": []
     },
     "output_type": "execute_result"
    }
   ],
   "source": [
    "df = fix_stress(df)\n",
    "df"
   ]
  },
  {
   "cell_type": "code",
   "execution_count": 7,
   "metadata": {
    "id": "cBrUfeD2UdtT"
   },
   "outputs": [],
   "source": [
    "# Limpeza de dados e complemento das informacoes dos 'missing values' com a media\n",
    "def missing_values(df=''):\n",
    "    df.reset_index(inplace=True)\n",
    "    df.replace([np.inf, -np.inf], np.nan, inplace=True) # coluna com valor nula serah completada com nan\n",
    "    df[~np.isfinite(df)] = np.nan # onde for true, completa com 'nan'\n",
    "#     display(\"antes, com valores nan\")\n",
    "    df.plot(y=[\"HR\"], title = \"Com valores NaN\") \n",
    "    df.HR.fillna((df['HR'].mean()), inplace=True) # completa os compos vazios de HR com seu valor medio\n",
    "    df['HR'] = signal.medfilt(df['HR'],13)\n",
    "#     display(\"depois, com valores preenchidos pela media\")\n",
    "    df.plot(y=[\"HR\"], title = \"Com vals preenchidos pela media\") \n",
    "    \n",
    "    df.fillna(df.mean(),inplace=True) # generaliza o preenchimento dos vals. para todas as colunas com nan\n",
    "    return df"
   ]
  },
  {
   "cell_type": "code",
   "execution_count": 8,
   "metadata": {
    "colab": {
     "base_uri": "https://localhost:8080/",
     "height": 545
    },
    "id": "D01JLi4uEqL8",
    "outputId": "ca2515bd-5ea0-4635-bafd-d5a0711d092c"
   },
   "outputs": [
    {
     "data": {
      "image/png": "[encoded data removed]",
      "text/plain": [
       "<Figure size 432x288 with 1 Axes>"
      ]
     },
     "metadata": {
      "needs_background": "light",
      "tags": []
     },
     "output_type": "display_data"
    },
    {
     "data": {
      "image/png": "[encoded data removed]",
      "text/plain": [
       "<Figure size 432x288 with 1 Axes>"
      ]
     },
     "metadata": {
      "needs_background": "light",
      "tags": []
     },
     "output_type": "display_data"
    }
   ],
   "source": [
    "df = missing_values(df)"
   ]
  },
  {
   "cell_type": "code",
   "execution_count": 9,
   "metadata": {
    "colab": {
     "base_uri": "https://localhost:8080/",
     "height": 419
    },
    "id": "KJ1BATAt_Z4l",
    "outputId": "39b52738-31f5-4696-92d3-316384bf4554"
   },
   "outputs": [
    {
     "data": {
      "text/html": [
       "<div>\n",
       "<style scoped>\n",
       "    .dataframe tbody tr th:only-of-type {\n",
       "        vertical-align: middle;\n",
       "    }\n",
       "\n",
       "    .dataframe tbody tr th {\n",
       "        vertical-align: top;\n",
       "    }\n",
       "\n",
       "    .dataframe thead th {\n",
       "        text-align: right;\n",
       "    }\n",
       "</style>\n",
       "<table border=\"1\" class=\"dataframe\">\n",
       "  <thead>\n",
       "    <tr style=\"text-align: right;\">\n",
       "      <th></th>\n",
       "      <th>HR</th>\n",
       "      <th>interval in seconds</th>\n",
       "      <th>AVNN</th>\n",
       "      <th>RMSSD</th>\n",
       "      <th>pNN50</th>\n",
       "      <th>TP</th>\n",
       "      <th>ULF</th>\n",
       "      <th>VLF</th>\n",
       "      <th>LF</th>\n",
       "      <th>HF</th>\n",
       "      <th>LF_HF</th>\n",
       "    </tr>\n",
       "  </thead>\n",
       "  <tbody>\n",
       "    <tr>\n",
       "      <th>0</th>\n",
       "      <td>77.815789</td>\n",
       "      <td>0.614632</td>\n",
       "      <td>0.617297</td>\n",
       "      <td>0.015203</td>\n",
       "      <td>0.055556</td>\n",
       "      <td>0.001238</td>\n",
       "      <td>0.000000</td>\n",
       "      <td>0.000696</td>\n",
       "      <td>0.000407</td>\n",
       "      <td>0.000135</td>\n",
       "      <td>3.002000</td>\n",
       "    </tr>\n",
       "    <tr>\n",
       "      <th>1</th>\n",
       "      <td>79.521739</td>\n",
       "      <td>0.647826</td>\n",
       "      <td>0.647889</td>\n",
       "      <td>0.013858</td>\n",
       "      <td>0.045455</td>\n",
       "      <td>0.000144</td>\n",
       "      <td>0.000000</td>\n",
       "      <td>0.000009</td>\n",
       "      <td>0.000060</td>\n",
       "      <td>0.000075</td>\n",
       "      <td>0.793710</td>\n",
       "    </tr>\n",
       "    <tr>\n",
       "      <th>2</th>\n",
       "      <td>87.319149</td>\n",
       "      <td>0.646383</td>\n",
       "      <td>0.645000</td>\n",
       "      <td>0.000000</td>\n",
       "      <td>0.000000</td>\n",
       "      <td>0.060604</td>\n",
       "      <td>0.000000</td>\n",
       "      <td>0.000728</td>\n",
       "      <td>0.000003</td>\n",
       "      <td>0.000001</td>\n",
       "      <td>3.555695</td>\n",
       "    </tr>\n",
       "    <tr>\n",
       "      <th>3</th>\n",
       "      <td>87.702128</td>\n",
       "      <td>0.645000</td>\n",
       "      <td>0.645000</td>\n",
       "      <td>0.000000</td>\n",
       "      <td>0.000000</td>\n",
       "      <td>0.060604</td>\n",
       "      <td>0.000000</td>\n",
       "      <td>0.000728</td>\n",
       "      <td>0.000003</td>\n",
       "      <td>0.000001</td>\n",
       "      <td>3.555695</td>\n",
       "    </tr>\n",
       "    <tr>\n",
       "      <th>4</th>\n",
       "      <td>87.702128</td>\n",
       "      <td>0.645000</td>\n",
       "      <td>0.645000</td>\n",
       "      <td>0.000000</td>\n",
       "      <td>0.000000</td>\n",
       "      <td>0.060604</td>\n",
       "      <td>0.000000</td>\n",
       "      <td>0.000728</td>\n",
       "      <td>0.000003</td>\n",
       "      <td>0.000001</td>\n",
       "      <td>3.555695</td>\n",
       "    </tr>\n",
       "    <tr>\n",
       "      <th>...</th>\n",
       "      <td>...</td>\n",
       "      <td>...</td>\n",
       "      <td>...</td>\n",
       "      <td>...</td>\n",
       "      <td>...</td>\n",
       "      <td>...</td>\n",
       "      <td>...</td>\n",
       "      <td>...</td>\n",
       "      <td>...</td>\n",
       "      <td>...</td>\n",
       "      <td>...</td>\n",
       "    </tr>\n",
       "    <tr>\n",
       "      <th>4124</th>\n",
       "      <td>69.315789</td>\n",
       "      <td>0.870763</td>\n",
       "      <td>0.869892</td>\n",
       "      <td>0.045648</td>\n",
       "      <td>0.083333</td>\n",
       "      <td>0.096370</td>\n",
       "      <td>0.096370</td>\n",
       "      <td>0.000000</td>\n",
       "      <td>0.000000</td>\n",
       "      <td>0.000000</td>\n",
       "      <td>3.555695</td>\n",
       "    </tr>\n",
       "    <tr>\n",
       "      <th>4125</th>\n",
       "      <td>68.972222</td>\n",
       "      <td>0.877605</td>\n",
       "      <td>0.876919</td>\n",
       "      <td>0.032167</td>\n",
       "      <td>0.027778</td>\n",
       "      <td>0.059283</td>\n",
       "      <td>0.059283</td>\n",
       "      <td>0.000000</td>\n",
       "      <td>0.000000</td>\n",
       "      <td>0.000000</td>\n",
       "      <td>3.555695</td>\n",
       "    </tr>\n",
       "    <tr>\n",
       "      <th>4126</th>\n",
       "      <td>67.263158</td>\n",
       "      <td>0.912306</td>\n",
       "      <td>0.912571</td>\n",
       "      <td>0.045629</td>\n",
       "      <td>0.058824</td>\n",
       "      <td>0.090722</td>\n",
       "      <td>0.090722</td>\n",
       "      <td>0.000000</td>\n",
       "      <td>0.000000</td>\n",
       "      <td>0.000000</td>\n",
       "      <td>3.555695</td>\n",
       "    </tr>\n",
       "    <tr>\n",
       "      <th>4127</th>\n",
       "      <td>67.189189</td>\n",
       "      <td>0.908541</td>\n",
       "      <td>0.906889</td>\n",
       "      <td>0.044973</td>\n",
       "      <td>0.057143</td>\n",
       "      <td>0.153265</td>\n",
       "      <td>0.153265</td>\n",
       "      <td>0.000000</td>\n",
       "      <td>0.000000</td>\n",
       "      <td>0.000000</td>\n",
       "      <td>3.555695</td>\n",
       "    </tr>\n",
       "    <tr>\n",
       "      <th>4128</th>\n",
       "      <td>65.410256</td>\n",
       "      <td>0.842026</td>\n",
       "      <td>0.838711</td>\n",
       "      <td>0.025974</td>\n",
       "      <td>0.081081</td>\n",
       "      <td>0.087479</td>\n",
       "      <td>0.087479</td>\n",
       "      <td>0.000000</td>\n",
       "      <td>0.000000</td>\n",
       "      <td>0.000000</td>\n",
       "      <td>3.555695</td>\n",
       "    </tr>\n",
       "  </tbody>\n",
       "</table>\n",
       "<p>4129 rows × 11 columns</p>\n",
       "</div>"
      ],
      "text/plain": [
       "             HR  interval in seconds      AVNN  ...        LF        HF     LF_HF\n",
       "0     77.815789             0.614632  0.617297  ...  0.000407  0.000135  3.002000\n",
       "1     79.521739             0.647826  0.647889  ...  0.000060  0.000075  0.793710\n",
       "2     87.319149             0.646383  0.645000  ...  0.000003  0.000001  3.555695\n",
       "3     87.702128             0.645000  0.645000  ...  0.000003  0.000001  3.555695\n",
       "4     87.702128             0.645000  0.645000  ...  0.000003  0.000001  3.555695\n",
       "...         ...                  ...       ...  ...       ...       ...       ...\n",
       "4124  69.315789             0.870763  0.869892  ...  0.000000  0.000000  3.555695\n",
       "4125  68.972222             0.877605  0.876919  ...  0.000000  0.000000  3.555695\n",
       "4126  67.263158             0.912306  0.912571  ...  0.000000  0.000000  3.555695\n",
       "4127  67.189189             0.908541  0.906889  ...  0.000000  0.000000  3.555695\n",
       "4128  65.410256             0.842026  0.838711  ...  0.000000  0.000000  3.555695\n",
       "\n",
       "[4129 rows x 11 columns]"
      ]
     },
     "execution_count": 9,
     "metadata": {
      "tags": []
     },
     "output_type": "execute_result"
    }
   ],
   "source": [
    "X = df[selected_x_columns]\n",
    "Y = df['stress']\n",
    "X"
   ]
  },
  {
   "cell_type": "code",
   "execution_count": 10,
   "metadata": {
    "colab": {
     "base_uri": "https://localhost:8080/",
     "height": 221
    },
    "id": "fom6tvwFJEWQ",
    "outputId": "7d97d856-f7b7-421c-887c-e0eb343ff9e1"
   },
   "outputs": [
    {
     "data": {
      "text/plain": [
       "0       0\n",
       "1       0\n",
       "2       0\n",
       "3       0\n",
       "4       0\n",
       "       ..\n",
       "4124    0\n",
       "4125    0\n",
       "4126    0\n",
       "4127    0\n",
       "4128    0\n",
       "Name: stress, Length: 4129, dtype: int64"
      ]
     },
     "execution_count": 10,
     "metadata": {
      "tags": []
     },
     "output_type": "execute_result"
    }
   ],
   "source": [
    "Y"
   ]
  },
  {
   "cell_type": "code",
   "execution_count": 11,
   "metadata": {
    "colab": {
     "base_uri": "https://localhost:8080/",
     "height": 68
    },
    "id": "XoEfVdJ4nvph",
    "outputId": "ce6c1cfc-2967-468d-9455-179a0a2187d2"
   },
   "outputs": [
    {
     "name": "stdout",
     "output_type": "stream",
     "text": [
      "(2477, 11) (2477,)\n",
      "(826, 11) (826,)\n",
      "(826, 11) (826,)\n"
     ]
    }
   ],
   "source": [
    "X_train, X_vt, y_train, y_vt = train_test_split(X, Y, test_size=0.4,random_state=42)\n",
    "X_val, X_test, y_val, y_test = train_test_split(X_vt,y_vt, test_size = 0.5,random_state= 42)\n",
    "\n",
    "print(X_train.shape, y_train.shape)\n",
    "print(X_val.shape, y_val.shape)\n",
    "print(X_test.shape, y_test.shape)"
   ]
  },
  {
   "cell_type": "markdown",
   "metadata": {
    "id": "A7aR2v003jrJ"
   },
   "source": [
    "Normalização\n"
   ]
  },
  {
   "cell_type": "code",
   "execution_count": 13,
   "metadata": {
    "id": "2O80oHbF3jfF"
   },
   "outputs": [],
   "source": [
    "X_train_nor = X_train/255\n",
    "X_val_nor = X_val/255\n",
    "X_test_nor = X_test/255"
   ]
  },
  {
   "cell_type": "markdown",
   "metadata": {
    "id": "ZMfA0mQE3358"
   },
   "source": [
    "Standard \n"
   ]
  },
  {
   "cell_type": "code",
   "execution_count": 14,
   "metadata": {
    "id": "xqp9efuv4IMQ"
   },
   "outputs": [],
   "source": [
    "std = StandardScaler()\n",
    "\n",
    "std.fit(X_train)\n",
    "X_train_std = std.transform(X_train)\n",
    "X_val_std = std.transform(X_val)\n",
    "x_test_std = std.transform(X_test) "
   ]
  },
  {
   "cell_type": "markdown",
   "metadata": {
    "id": "cw-fE0a48Wfx"
   },
   "source": [
    "PCA "
   ]
  },
  {
   "cell_type": "code",
   "execution_count": 15,
   "metadata": {
    "colab": {
     "base_uri": "https://localhost:8080/",
     "height": 827
    },
    "id": "qC6itW6cUzRa",
    "outputId": "c5007a02-6c40-4349-f527-fdd8a572da70"
   },
   "outputs": [
    {
     "name": "stdout",
     "output_type": "stream",
     "text": [
      "(4, 11)\n",
      "(4, 11)\n"
     ]
    },
    {
     "data": {
      "image/png": "[encoded data removed]",
      "text/plain": [
       "<Figure size 1440x216 with 1 Axes>"
      ]
     },
     "metadata": {
      "needs_background": "light",
      "tags": []
     },
     "output_type": "display_data"
    },
    {
     "data": {
      "image/png": "[encoded data removed]",
      "text/plain": [
       "<Figure size 1440x216 with 1 Axes>"
      ]
     },
     "metadata": {
      "needs_background": "light",
      "tags": []
     },
     "output_type": "display_data"
    },
    {
     "data": {
      "image/png": "[encoded data removed]",
      "text/plain": [
       "<Figure size 1440x216 with 1 Axes>"
      ]
     },
     "metadata": {
      "needs_background": "light",
      "tags": []
     },
     "output_type": "display_data"
    },
    {
     "data": {
      "image/png": "[encoded data removed]",
      "text/plain": [
       "<Figure size 1440x216 with 1 Axes>"
      ]
     },
     "metadata": {
      "needs_background": "light",
      "tags": []
     },
     "output_type": "display_data"
    }
   ],
   "source": [
    "n_components = 4\n",
    "pca = PCA(n_components = n_components)\n",
    "pca.fit(X_train)\n",
    "print(pca.components_.shape)\n",
    "print(pca.components_.shape)\n",
    "for i in range(0,4):\n",
    "  plt.figure(figsize=(20, 3))\n",
    "  plt.bar(range(11),pca.components_[i])\n",
    "  plt.show()"
   ]
  },
  {
   "cell_type": "code",
   "execution_count": 17,
   "metadata": {
    "colab": {
     "base_uri": "https://localhost:8080/",
     "height": 34
    },
    "id": "KJbW-K_JyqBR",
    "outputId": "c655ae60-dfb8-4725-a352-1edfd0d717a7"
   },
   "outputs": [
    {
     "name": "stdout",
     "output_type": "stream",
     "text": [
      "(2477,) (826,)\n"
     ]
    }
   ],
   "source": [
    "y = y_train.ravel()\n",
    "y_v = y_val.ravel()\n",
    "y_t = y_test.ravel()\n",
    "print(y.shape,y_v.shape)"
   ]
  },
  {
   "cell_type": "code",
   "execution_count": 19,
   "metadata": {
    "colab": {
     "base_uri": "https://localhost:8080/",
     "height": 336
    },
    "id": "vs49QOKnQAbj",
    "outputId": "ed6b9f2b-8dfe-492a-cf0a-db4d9351c223"
   },
   "outputs": [
    {
     "data": {
      "image/png": "[encoded data removed]",
      "text/plain": [
       "<Figure size 1584x360 with 1 Axes>"
      ]
     },
     "metadata": {
      "needs_background": "light",
      "tags": []
     },
     "output_type": "display_data"
    }
   ],
   "source": [
    "acc=[]\n",
    "accstd=[]\n",
    "accnor=[]\n",
    "for i in range(1,12):\n",
    "  pca = PCA(n_components=i)\n",
    "  X_train_pca = pca.fit_transform(X_train)\n",
    "  X_val_pca = pca.transform(X_val)\n",
    "\n",
    "  clf = GaussianNB()\n",
    "  clf.fit(X_train_pca, y)\n",
    "  pred_test = clf.predict(X_val_pca)\n",
    "  acc.append(clf.score(X_val_pca, y_v))\n",
    "\n",
    "  X_train_pca_std = pca.fit_transform(X_train_std)\n",
    "  X_val_pca_std= pca.transform(X_val_std)\n",
    "  clf.fit(X_train_pca_std,y)\n",
    "  pred_test = clf.predict(X_val_pca_std)\n",
    "  accstd.append(clf.score(X_val_pca_std, y_v))\n",
    "\n",
    "  X_train_pca_nor = pca.fit_transform(X_train_nor)\n",
    "  X_val_pca_nor = pca.transform(X_val_nor)\n",
    "  clf.fit(X_train_pca_nor,y)\n",
    "  pred_test = clf.predict(X_val_pca_nor)\n",
    "  accnor.append(clf.score(X_val_pca_nor,y_v))\n",
    "plt.figure(figsize=(22,5))\n",
    "plt.subplot(1,2,1)\n",
    "plt.title(\"Acurácia dos métodos com Standard(laranja) e normalizado\")\n",
    "plt.plot(acc,'-o')\n",
    "plt.plot(accstd,'-o')\n",
    "plt.show()"
   ]
  },
  {
   "cell_type": "code",
   "execution_count": 20,
   "metadata": {
    "colab": {
     "base_uri": "https://localhost:8080/",
     "height": 879
    },
    "id": "9SCJxuEEm71Q",
    "outputId": "a05f6bd7-9926-48a4-88f6-fb91808694de"
   },
   "outputs": [
    {
     "name": "stdout",
     "output_type": "stream",
     "text": [
      "[[266 149]\n",
      " [236 175]]\n",
      "              precision    recall  f1-score   support\n",
      "\n",
      "           0       0.53      0.64      0.58       415\n",
      "           1       0.54      0.43      0.48       411\n",
      "\n",
      "    accuracy                           0.53       826\n",
      "   macro avg       0.54      0.53      0.53       826\n",
      "weighted avg       0.53      0.53      0.53       826\n",
      "\n",
      "Acurácia: 0.5338983050847458\n",
      "Matriz de confusão, não normalizada\n",
      "[[287 128]\n",
      " [110 301]]\n",
      "Matriz normalizada\n",
      "[[0.69156627 0.30843373]\n",
      " [0.2676399  0.7323601 ]]\n"
     ]
    },
    {
     "data": {
      "image/png": "[encoded data removed]",
      "text/plain": [
       "<Figure size 432x288 with 2 Axes>"
      ]
     },
     "metadata": {
      "needs_background": "light",
      "tags": []
     },
     "output_type": "display_data"
    },
    {
     "data": {
      "image/png": "[encoded data removed]",
      "text/plain": [
       "<Figure size 432x288 with 2 Axes>"
      ]
     },
     "metadata": {
      "needs_background": "light",
      "tags": []
     },
     "output_type": "display_data"
    }
   ],
   "source": [
    "from sklearn.metrics import plot_confusion_matrix\n",
    "from sklearn.metrics import confusion_matrix, plot_confusion_matrix\n",
    "\n",
    "pca = PCA(n_components=4)\n",
    "X_train_pca = pca.fit_transform(X_train)\n",
    "X_test_pca = pca.transform(X_test)\n",
    "\n",
    "clf = GaussianNB()\n",
    "clf.fit(X_train_pca, y)\n",
    "pred_test = clf.predict(X_test_pca)\n",
    "print(confusion_matrix(y_test,pred_test))\n",
    "print(classification_report(y_test,pred_test))\n",
    "print(\"Acurácia:\", accuracy_score(y_test,pred_test))\n",
    "class_names = ['Estressado, não estressado']\n",
    "clf = DecisionTreeClassifier().fit(X_train_pca,y)\n",
    "titles_options = [(\"Matriz de confusão, não normalizada\", None),\n",
    "                  (\"Matriz normalizada\", 'true')]\n",
    "for title, normalize in titles_options:\n",
    "    disp = plot_confusion_matrix(clf, X_test_pca, y_test,\n",
    "                                 display_labels=class_names,\n",
    "                                 cmap=plt.cm.Blues,\n",
    "                                 normalize=normalize)\n",
    "    disp.ax_.set_title(title)\n",
    "\n",
    "    print(title)\n",
    "    print(disp.confusion_matrix)\n",
    "\n",
    "plt.show()"
   ]
  },
  {
   "cell_type": "code",
   "execution_count": 21,
   "metadata": {
    "colab": {
     "base_uri": "https://localhost:8080/",
     "height": 336
    },
    "id": "DxG3Ua2jX3jj",
    "outputId": "b95ab879-eff6-49d1-d454-c4065c8dfb2c"
   },
   "outputs": [
    {
     "data": {
      "image/png": "[encoded data removed]",
      "text/plain": [
       "<Figure size 1584x360 with 1 Axes>"
      ]
     },
     "metadata": {
      "needs_background": "light",
      "tags": []
     },
     "output_type": "display_data"
    }
   ],
   "source": [
    "acc=[]\n",
    "accstd =[]\n",
    "accnor = []\n",
    "for i in range(1,12):\n",
    "  pca = PCA(n_components=i)\n",
    "  X_train_pca = pca.fit_transform(X_train)\n",
    "  X_val_pca = pca.transform(X_val)\n",
    "\n",
    "  clf = DecisionTreeClassifier()\n",
    "  clf.fit(X_train_pca, y)\n",
    "  pred_test = clf.predict(X_val_pca)\n",
    "  acc.append(clf.score(X_val_pca, y_v))\n",
    "\n",
    "  X_train_pca_std = pca.fit_transform(X_train_std)\n",
    "  X_val_pca_std= pca.transform(X_val_std)\n",
    "  clf.fit(X_train_pca_std,y)\n",
    "  pred_test = clf.predict(X_val_pca_std)\n",
    "  accstd.append(clf.score(X_val_pca_std, y_v))\n",
    "\n",
    "  X_train_pca_nor = pca.fit_transform(X_train_nor)\n",
    "  X_val_pca_nor = pca.transform(X_val_nor)\n",
    "  clf.fit(X_train_pca_nor,y)\n",
    "  pred_test = clf.predict(X_val_pca_nor)\n",
    "  accnor.append(clf.score(X_val_pca_nor,y_v))\n",
    "  \n",
    "plt.figure(figsize=(22,5))\n",
    "plt.subplot(1,2,1)\n",
    "plt.title(\"Acurácia dos métodos com Standard(laranja) e normalizado(azul) para Arvore de decisão\")\n",
    "plt.plot(acc,'-o')\n",
    "plt.plot(accstd,'-o')\n",
    "plt.show()"
   ]
  },
  {
   "cell_type": "code",
   "execution_count": 22,
   "metadata": {
    "colab": {
     "base_uri": "https://localhost:8080/",
     "height": 879
    },
    "id": "mZTUDPIZmN-Q",
    "outputId": "adde3579-a736-461f-db42-36df1d19b6ed"
   },
   "outputs": [
    {
     "name": "stdout",
     "output_type": "stream",
     "text": [
      "[[320  95]\n",
      " [ 91 320]]\n",
      "              precision    recall  f1-score   support\n",
      "\n",
      "           0       0.78      0.77      0.77       415\n",
      "           1       0.77      0.78      0.77       411\n",
      "\n",
      "    accuracy                           0.77       826\n",
      "   macro avg       0.77      0.77      0.77       826\n",
      "weighted avg       0.77      0.77      0.77       826\n",
      "\n",
      "Acurácia: 0.774818401937046\n",
      "Matriz de confusão, não normalizada\n",
      "[[320  95]\n",
      " [ 91 320]]\n",
      "Matriz normalizada\n",
      "[[0.77108434 0.22891566]\n",
      " [0.22141119 0.77858881]]\n"
     ]
    },
    {
     "data": {
      "image/png": "[encoded data removed]",
      "text/plain": [
       "<Figure size 432x288 with 2 Axes>"
      ]
     },
     "metadata": {
      "needs_background": "light",
      "tags": []
     },
     "output_type": "display_data"
    },
    {
     "data": {
      "image/png": "[encoded data removed]",
      "text/plain": [
       "<Figure size 432x288 with 2 Axes>"
      ]
     },
     "metadata": {
      "needs_background": "light",
      "tags": []
     },
     "output_type": "display_data"
    }
   ],
   "source": [
    "\n",
    "pca = PCA(n_components=1)\n",
    "X_train_pca = pca.fit_transform(X_train)\n",
    "X_test_pca = pca.transform(X_test)\n",
    "\n",
    "clf = DecisionTreeClassifier()\n",
    "clf.fit(X_train_pca, y)\n",
    "pred_test = clf.predict(X_test_pca)\n",
    "print(confusion_matrix(y_test,pred_test))\n",
    "print(classification_report(y_test,pred_test))\n",
    "print(\"Acurácia:\", accuracy_score(y_test,pred_test))\n",
    "class_names = ['Estressado, não estressado']\n",
    "clf = DecisionTreeClassifier().fit(X_train_pca,y)\n",
    "titles_options = [(\"Matriz de confusão, não normalizada\", None),\n",
    "                  (\"Matriz normalizada\", 'true')]\n",
    "for title, normalize in titles_options:\n",
    "    disp = plot_confusion_matrix(clf, X_test_pca, y_test,\n",
    "                                 display_labels=class_names,\n",
    "                                 cmap=plt.cm.Blues,\n",
    "                                 normalize=normalize)\n",
    "    disp.ax_.set_title(title)\n",
    "\n",
    "    print(title)\n",
    "    print(disp.confusion_matrix)\n",
    "\n",
    "plt.show()"
   ]
  },
  {
   "cell_type": "code",
   "execution_count": 23,
   "metadata": {
    "colab": {
     "base_uri": "https://localhost:8080/",
     "height": 336
    },
    "id": "u-W-1dwT15i3",
    "outputId": "3b3b6b88-312e-459c-8aa3-b11189487890"
   },
   "outputs": [
    {
     "data": {
      "image/png": "[encoded data removed]",
      "text/plain": [
       "<Figure size 1296x360 with 1 Axes>"
      ]
     },
     "metadata": {
      "needs_background": "light",
      "tags": []
     },
     "output_type": "display_data"
    }
   ],
   "source": [
    "score=[]\n",
    "score2=[]\n",
    "k=1\n",
    "for i in range(1,12):\n",
    "    pca = PCA(n_components = i)\n",
    "    x_train_std_pca = pca.fit_transform(X_train_std)\n",
    "    x_test_std_pca = pca.transform(X_val_std)\n",
    "\n",
    "    clf = KNeighborsClassifier(n_neighbors=k) \n",
    "    clf.fit(x_train_std_pca, y)\n",
    "    score.append(clf.score(x_test_std_pca, y_val))\n",
    "\n",
    "    x_train_std_pca = pca.fit_transform(X_train)\n",
    "    x_test_std_pca = pca.transform(X_val)\n",
    "    clf = KNeighborsClassifier(n_neighbors=k) \n",
    "    clf.fit(x_train_std_pca, y)\n",
    "    score2.append(clf.score(x_test_std_pca, y_val))\n",
    "\n",
    "plt.figure(figsize=(18, 5))\n",
    "plt.title(\"Acurácia dos métodos com Standard(laranja) e normalizado(azul) com KNN\")\n",
    "plt.plot(score,'-o')\n",
    "plt.plot(score2,'-o')\n",
    "plt.show()"
   ]
  },
  {
   "cell_type": "code",
   "execution_count": 24,
   "metadata": {
    "colab": {
     "base_uri": "https://localhost:8080/",
     "height": 879
    },
    "id": "6WgBo6BDnXa5",
    "outputId": "1688f851-7187-4d7c-876c-36874305d800"
   },
   "outputs": [
    {
     "name": "stdout",
     "output_type": "stream",
     "text": [
      "[[316  99]\n",
      " [ 90 321]]\n",
      "              precision    recall  f1-score   support\n",
      "\n",
      "           0       0.78      0.76      0.77       415\n",
      "           1       0.76      0.78      0.77       411\n",
      "\n",
      "    accuracy                           0.77       826\n",
      "   macro avg       0.77      0.77      0.77       826\n",
      "weighted avg       0.77      0.77      0.77       826\n",
      "\n",
      "Acurácia: 0.7711864406779662\n",
      "Matriz de confusão, não normalizada\n",
      "[[320  95]\n",
      " [ 91 320]]\n",
      "Matriz normalizada\n",
      "[[0.77108434 0.22891566]\n",
      " [0.22141119 0.77858881]]\n"
     ]
    },
    {
     "data": {
      "image/png": "[encoded data removed]",
      "text/plain": [
       "<Figure size 432x288 with 2 Axes>"
      ]
     },
     "metadata": {
      "needs_background": "light",
      "tags": []
     },
     "output_type": "display_data"
    },
    {
     "data": {
      "image/png": "[encoded data removed]",
      "text/plain": [
       "<Figure size 432x288 with 2 Axes>"
      ]
     },
     "metadata": {
      "needs_background": "light",
      "tags": []
     },
     "output_type": "display_data"
    }
   ],
   "source": [
    "\n",
    "pca = PCA(n_components=1)\n",
    "X_train_pca = pca.fit_transform(X_train)\n",
    "X_test_pca = pca.transform(X_test)\n",
    "\n",
    "clf = KNeighborsClassifier(n_neighbors=1)\n",
    "clf.fit(X_train_pca, y)\n",
    "pred_test = clf.predict(X_test_pca)\n",
    "print(confusion_matrix(y_test,pred_test))\n",
    "print(classification_report(y_test,pred_test))\n",
    "print(\"Acurácia:\", accuracy_score(y_test,pred_test))\n",
    "class_names = ['Estressado, não estressado']\n",
    "clf = DecisionTreeClassifier().fit(X_train_pca,y)\n",
    "titles_options = [(\"Matriz de confusão, não normalizada\", None),\n",
    "                  (\"Matriz normalizada\", 'true')]\n",
    "for title, normalize in titles_options:\n",
    "    disp = plot_confusion_matrix(clf, X_test_pca, y_test,\n",
    "                                 display_labels=class_names,\n",
    "                                 cmap=plt.cm.Blues,\n",
    "                                 normalize=normalize)\n",
    "    disp.ax_.set_title(title)\n",
    "\n",
    "    print(title)\n",
    "    print(disp.confusion_matrix)\n",
    "\n",
    "plt.show()"
   ]
  },
  {
   "cell_type": "code",
   "execution_count": 25,
   "metadata": {
    "colab": {
     "base_uri": "https://localhost:8080/",
     "height": 336
    },
    "id": "FifR7REpktHY",
    "outputId": "cee9eef5-9fb4-47f0-e112-6f5900ff2b32"
   },
   "outputs": [
    {
     "data": {
      "image/png": "[encoded data removed]",
      "text/plain": [
       "<Figure size 1296x360 with 1 Axes>"
      ]
     },
     "metadata": {
      "needs_background": "light",
      "tags": []
     },
     "output_type": "display_data"
    }
   ],
   "source": [
    "score=[]\n",
    "score2=[]\n",
    "k=30\n",
    "for i in range(1,12):\n",
    "    pca = PCA(n_components = i)\n",
    "    x_train_std_pca = pca.fit_transform(X_train_std)\n",
    "    x_test_std_pca = pca.transform(X_val_std)\n",
    "\n",
    "    clf = RandomForestClassifier(n_estimators= k, random_state=0)\n",
    "    clf.fit(x_train_std_pca, y)\n",
    "    score.append(clf.score(x_test_std_pca, y_val))\n",
    "\n",
    "    x_train_std_pca = pca.fit_transform(X_train)\n",
    "    x_test_std_pca = pca.transform(X_val)\n",
    "    clf = RandomForestClassifier(n_estimators= k, random_state=0)\n",
    "    clf.fit(x_train_std_pca, y)\n",
    "    score2.append(clf.score(x_test_std_pca, y_val))\n",
    "\n",
    "plt.figure(figsize=(18, 5))\n",
    "plt.title(\"Acurácia dos métodos com Standard(laranja) e normalizado(azul) com Random Forest\")\n",
    "plt.plot(score,'-o')\n",
    "plt.plot(score2,'-o')\n",
    "plt.show()"
   ]
  },
  {
   "cell_type": "code",
   "execution_count": 26,
   "metadata": {
    "colab": {
     "base_uri": "https://localhost:8080/",
     "height": 879
    },
    "id": "Lkm5VtKDkoK_",
    "outputId": "961e2a26-906f-47c6-d4e5-52c838cee096"
   },
   "outputs": [
    {
     "name": "stdout",
     "output_type": "stream",
     "text": [
      "[[314 101]\n",
      " [ 90 321]]\n",
      "              precision    recall  f1-score   support\n",
      "\n",
      "           0       0.78      0.76      0.77       415\n",
      "           1       0.76      0.78      0.77       411\n",
      "\n",
      "    accuracy                           0.77       826\n",
      "   macro avg       0.77      0.77      0.77       826\n",
      "weighted avg       0.77      0.77      0.77       826\n",
      "\n",
      "Acurácia: 0.7687651331719129\n",
      "Matriz de confusão, não normalizada\n",
      "[[314 101]\n",
      " [ 90 321]]\n",
      "Matriz normalizada\n",
      "[[0.75662651 0.24337349]\n",
      " [0.2189781  0.7810219 ]]\n"
     ]
    },
    {
     "data": {
      "image/png": "[encoded data removed]",
      "text/plain": [
       "<Figure size 432x288 with 2 Axes>"
      ]
     },
     "metadata": {
      "needs_background": "light",
      "tags": []
     },
     "output_type": "display_data"
    },
    {
     "data": {
      "image/png": "[encoded data removed]",
      "text/plain": [
       "<Figure size 432x288 with 2 Axes>"
      ]
     },
     "metadata": {
      "needs_background": "light",
      "tags": []
     },
     "output_type": "display_data"
    }
   ],
   "source": [
    "pca = PCA(n_components=1)\n",
    "X_train_pca = pca.fit_transform(X_train)\n",
    "X_test_pca = pca.transform(X_test)\n",
    "k=30\n",
    "clf = RandomForestClassifier(n_estimators= k, random_state=0)\n",
    "clf.fit(X_train_pca, y)\n",
    "pred_test = clf.predict(X_test_pca)\n",
    "print(confusion_matrix(y_test,pred_test))\n",
    "print(classification_report(y_test,pred_test))\n",
    "print(\"Acurácia:\", accuracy_score(y_test,pred_test))\n",
    "class_names = ['Estressado, não estressado']\n",
    "clf = RandomForestClassifier(n_estimators= k, random_state=0).fit(X_train_pca,y)\n",
    "titles_options = [(\"Matriz de confusão, não normalizada\", None),\n",
    "                  (\"Matriz normalizada\", 'true')]\n",
    "for title, normalize in titles_options:\n",
    "    disp = plot_confusion_matrix(clf, X_test_pca, y_test,\n",
    "                                 display_labels=class_names,\n",
    "                                 cmap=plt.cm.Blues,\n",
    "                                 normalize=normalize)\n",
    "    disp.ax_.set_title(title)\n",
    "\n",
    "    print(title)\n",
    "    print(disp.confusion_matrix)\n",
    "\n",
    "plt.show()"
   ]
  },
  {
   "cell_type": "code",
   "execution_count": 27,
   "metadata": {
    "colab": {
     "base_uri": "https://localhost:8080/",
     "height": 221
    },
    "id": "cy_CsvG77B05",
    "outputId": "4446981c-50fa-4204-b994-58416cec1f26"
   },
   "outputs": [
    {
     "name": "stdout",
     "output_type": "stream",
     "text": [
      "0.7433414043583535\n",
      "[[279 110]\n",
      " [102 335]]\n",
      "              precision    recall  f1-score   support\n",
      "\n",
      "           0       0.73      0.72      0.72       389\n",
      "           1       0.75      0.77      0.76       437\n",
      "\n",
      "    accuracy                           0.74       826\n",
      "   macro avg       0.74      0.74      0.74       826\n",
      "weighted avg       0.74      0.74      0.74       826\n",
      "\n"
     ]
    }
   ],
   "source": [
    "clf = KNeighborsClassifier(n_neighbors=1)\n",
    "clf.fit(X_train,y)\n",
    "pred_test = clf.predict(X_val)\n",
    "print(clf.score(X_val,y_v))\n",
    "print(confusion_matrix(y_val,pred_test))\n",
    "print(classification_report(y_val,pred_test))"
   ]
  },
  {
   "cell_type": "code",
   "execution_count": 28,
   "metadata": {
    "colab": {
     "base_uri": "https://localhost:8080/",
     "height": 221
    },
    "id": "_NMQ0aqUpgpX",
    "outputId": "eef55196-adc5-4cb3-85a4-22cbb36eff63"
   },
   "outputs": [
    {
     "name": "stdout",
     "output_type": "stream",
     "text": [
      "0.5677966101694916\n",
      "[[189 200]\n",
      " [157 280]]\n",
      "              precision    recall  f1-score   support\n",
      "\n",
      "           0       0.55      0.49      0.51       389\n",
      "           1       0.58      0.64      0.61       437\n",
      "\n",
      "    accuracy                           0.57       826\n",
      "   macro avg       0.56      0.56      0.56       826\n",
      "weighted avg       0.57      0.57      0.57       826\n",
      "\n"
     ]
    }
   ],
   "source": [
    "clf = GaussianNB()\n",
    "clf.fit(X_train,y)\n",
    "pred_test = clf.predict(X_val)\n",
    "print(clf.score(X_val,y_v))\n",
    "print(confusion_matrix(y_val,pred_test))\n",
    "print(classification_report(y_val,pred_test))"
   ]
  },
  {
   "cell_type": "code",
   "execution_count": 29,
   "metadata": {
    "colab": {
     "base_uri": "https://localhost:8080/",
     "height": 221
    },
    "id": "D_otpMyhpfD5",
    "outputId": "09a2bd1a-d140-4fe4-b933-d0e8cd5e0324"
   },
   "outputs": [
    {
     "name": "stdout",
     "output_type": "stream",
     "text": [
      "0.7179176755447942\n",
      "[[266 123]\n",
      " [110 327]]\n",
      "              precision    recall  f1-score   support\n",
      "\n",
      "           0       0.71      0.68      0.70       389\n",
      "           1       0.73      0.75      0.74       437\n",
      "\n",
      "    accuracy                           0.72       826\n",
      "   macro avg       0.72      0.72      0.72       826\n",
      "weighted avg       0.72      0.72      0.72       826\n",
      "\n"
     ]
    }
   ],
   "source": [
    "clf= RandomForestClassifier(n_estimators=30,random_state=0)\n",
    "clf.fit(X_train,y)\n",
    "pred_test = clf.predict(X_val)\n",
    "print(clf.score(X_val,y_v))\n",
    "print(confusion_matrix(y_val,pred_test))\n",
    "print(classification_report(y_val,pred_test))"
   ]
  },
  {
   "cell_type": "code",
   "execution_count": 30,
   "metadata": {
    "colab": {
     "base_uri": "https://localhost:8080/",
     "height": 221
    },
    "id": "O-EGaqt4Jv70",
    "outputId": "1e4ee33f-b725-42b1-d45a-290bf1c11777"
   },
   "outputs": [
    {
     "name": "stdout",
     "output_type": "stream",
     "text": [
      "0.7130750605326877\n",
      "[[266 123]\n",
      " [114 323]]\n",
      "              precision    recall  f1-score   support\n",
      "\n",
      "           0       0.70      0.68      0.69       389\n",
      "           1       0.72      0.74      0.73       437\n",
      "\n",
      "    accuracy                           0.71       826\n",
      "   macro avg       0.71      0.71      0.71       826\n",
      "weighted avg       0.71      0.71      0.71       826\n",
      "\n"
     ]
    }
   ],
   "source": [
    "clf = DecisionTreeClassifier()\n",
    "clf.fit(X_train,y)\n",
    "pred_test = clf.predict(X_val)\n",
    "print(clf.score(X_val,y_v))\n",
    "print(confusion_matrix(y_val,pred_test))\n",
    "print(classification_report(y_val,pred_test))"
   ]
  },
  {
   "cell_type": "code",
   "execution_count": 31,
   "metadata": {
    "id": "v0YB8gxdqLL_"
   },
   "outputs": [],
   "source": [
    "#cross_validation \n",
    "from sklearn.model_selection import cross_val_score"
   ]
  },
  {
   "cell_type": "code",
   "execution_count": 32,
   "metadata": {
    "colab": {
     "base_uri": "https://localhost:8080/",
     "height": 102
    },
    "id": "NsJvEKenrZZv",
    "outputId": "bb64e7e7-9f72-4508-b9a9-0393a141eb94"
   },
   "outputs": [
    {
     "name": "stdout",
     "output_type": "stream",
     "text": [
      "0.618561009611857\n",
      "0.6143234347057649\n",
      "0.6216589861751152\n",
      "0.6423660678507884\n",
      "0.6580057143073619\n"
     ]
    }
   ],
   "source": [
    "clf = RandomForestClassifier(n_estimators= 30)\n",
    "scores = cross_val_score(clf, X, Y, cv=5, scoring='accuracy')\n",
    "f = cross_val_score(clf, X, Y, cv=5, scoring='f1')\n",
    "rec = cross_val_score(clf, X, Y, cv=5, scoring='recall')\n",
    "prec = cross_val_score(clf, X, Y, cv=5, scoring='precision')\n",
    "roc = cross_val_score(clf, X, Y, cv=5, scoring='roc_auc')\n",
    "print(scores.mean())\n",
    "print(f.mean())\n",
    "print(rec.mean())\n",
    "print(prec.mean())\n",
    "print(roc.mean())"
   ]
  },
  {
   "cell_type": "code",
   "execution_count": 46,
   "metadata": {
    "colab": {
     "base_uri": "https://localhost:8080/",
     "height": 85
    },
    "id": "HIJzDxybrpMy",
    "outputId": "57ab1bf7-b9c4-4c0d-fcf8-2bc16c6a0b82"
   },
   "outputs": [
    {
     "name": "stdout",
     "output_type": "stream",
     "text": [
      "0.5446891187908137\n",
      "0.5001081569156736\n",
      "0.4834101382488479\n",
      "0.6061507260877559\n"
     ]
    }
   ],
   "source": [
    "pca = PCA(n_components=1)\n",
    "X_train_pca = pca.fit_transform(X)\n",
    "scores = cross_val_score(clf, X_train_pca, Y, cv=5, scoring='accuracy')\n",
    "f = cross_val_score(clf, X_train_pca, Y, cv=5, scoring='f1')\n",
    "rec = cross_val_score(clf, X_train_pca, Y, cv=5, scoring='recall')\n",
    "prec = cross_val_score(clf, X_train_pca, Y, cv=5, scoring='precision')\n",
    "print(scores.mean())\n",
    "print(f.mean())\n",
    "print(rec.mean())\n",
    "print(prec.mean())"
   ]
  },
  {
   "cell_type": "code",
   "execution_count": 34,
   "metadata": {
    "colab": {
     "base_uri": "https://localhost:8080/",
     "height": 85
    },
    "id": "tQwXJGC1r1_W",
    "outputId": "01305c00-c4a5-430a-cc1c-4c1d618a0cea"
   },
   "outputs": [
    {
     "name": "stdout",
     "output_type": "stream",
     "text": [
      "0.6001467459094578\n",
      "0.619769659385864\n",
      "0.6092165898617512\n",
      "0.604729218235599\n"
     ]
    }
   ],
   "source": [
    "clf = DecisionTreeClassifier()\n",
    "scores = cross_val_score(clf, X, Y, cv=5, scoring='accuracy')\n",
    "f = cross_val_score(clf, X, Y, cv=5, scoring='f1')\n",
    "rec = cross_val_score(clf, X, Y, cv=5, scoring='recall')\n",
    "prec = cross_val_score(clf, X, Y, cv=5, scoring='precision')\n",
    "print(scores.mean())\n",
    "print(f.mean())\n",
    "print(rec.mean())\n",
    "print(prec.mean())"
   ]
  },
  {
   "cell_type": "code",
   "execution_count": 56,
   "metadata": {
    "colab": {
     "base_uri": "https://localhost:8080/",
     "height": 85
    },
    "id": "xGgtbVCCr9J5",
    "outputId": "374c7be5-c79e-4593-88f1-26ca84dedf3d"
   },
   "outputs": [
    {
     "name": "stdout",
     "output_type": "stream",
     "text": [
      "0.5483119818035072\n",
      "0.6392389147454447\n",
      "0.7852534562211982\n",
      "0.5516074936322575\n"
     ]
    }
   ],
   "source": [
    "pca = PCA(n_components=9)\n",
    "X_train_pca = pca.fit_transform(X)\n",
    "scores = cross_val_score(clf, X_train_pca, Y, cv=5, scoring='accuracy')\n",
    "f = cross_val_score(clf, X_train_pca, Y, cv=5, scoring='f1')\n",
    "rec = cross_val_score(clf, X_train_pca, Y, cv=5, scoring='recall')\n",
    "prec = cross_val_score(clf, X_train_pca, Y, cv=5, scoring='precision')\n",
    "print(scores.mean())\n",
    "print(f.mean())\n",
    "print(rec.mean())\n",
    "print(prec.mean())"
   ]
  },
  {
   "cell_type": "code",
   "execution_count": 36,
   "metadata": {
    "colab": {
     "base_uri": "https://localhost:8080/",
     "height": 85
    },
    "id": "IpvOKoCvsBME",
    "outputId": "20be31f1-b0a6-4ee0-c0ab-8b6881c01f0c"
   },
   "outputs": [
    {
     "name": "stdout",
     "output_type": "stream",
     "text": [
      "0.5764026707755521\n",
      "0.6040877694573601\n",
      "0.616589861751152\n",
      "0.5928719377261418\n"
     ]
    }
   ],
   "source": [
    "clf = KNeighborsClassifier(n_neighbors=1)\n",
    "scores = cross_val_score(clf, X, Y, cv=5, scoring='accuracy')\n",
    "f = cross_val_score(clf, X, Y, cv=5, scoring='f1')\n",
    "rec = cross_val_score(clf, X, Y, cv=5, scoring='recall')\n",
    "prec = cross_val_score(clf, X, Y, cv=5, scoring='precision')\n",
    "print(scores.mean())\n",
    "print(f.mean())\n",
    "print(rec.mean())\n",
    "print(prec.mean())"
   ]
  },
  {
   "cell_type": "code",
   "execution_count": 37,
   "metadata": {
    "colab": {
     "base_uri": "https://localhost:8080/",
     "height": 85
    },
    "id": "XSIUfEDLsF4y",
    "outputId": "242d5d38-7635-4d43-91c2-9e83ecdc3838"
   },
   "outputs": [
    {
     "name": "stdout",
     "output_type": "stream",
     "text": [
      "0.5437214762638491\n",
      "0.5691411500276122\n",
      "0.5755760368663595\n",
      "0.5645325896180668\n"
     ]
    }
   ],
   "source": [
    "pca = PCA(n_components=1)\n",
    "X_train_pca = pca.fit_transform(X)\n",
    "scores = cross_val_score(clf, X_train_pca, Y, cv=5, scoring='accuracy')\n",
    "f = cross_val_score(clf, X_train_pca, Y, cv=5, scoring='f1')\n",
    "rec = cross_val_score(clf, X_train_pca, Y, cv=5, scoring='recall')\n",
    "prec = cross_val_score(clf, X_train_pca, Y, cv=5, scoring='precision')\n",
    "print(scores.mean())\n",
    "print(f.mean())\n",
    "print(rec.mean())\n",
    "print(prec.mean())"
   ]
  },
  {
   "cell_type": "code",
   "execution_count": 38,
   "metadata": {
    "colab": {
     "base_uri": "https://localhost:8080/",
     "height": 85
    },
    "id": "VN3WsrojsKcB",
    "outputId": "e23e5bd5-907b-4ad0-d2a2-c11f737a1d59"
   },
   "outputs": [
    {
     "name": "stdout",
     "output_type": "stream",
     "text": [
      "0.5655120698510528\n",
      "0.5982689509285711\n",
      "0.6539170506912442\n",
      "0.5698858429240852\n"
     ]
    }
   ],
   "source": [
    "clf = GaussianNB()\n",
    "scores = cross_val_score(clf, X, Y, cv=5, scoring='accuracy')\n",
    "f = cross_val_score(clf, X, Y, cv=5, scoring='f1')\n",
    "rec = cross_val_score(clf, X, Y, cv=5, scoring='recall')\n",
    "prec = cross_val_score(clf, X, Y, cv=5, scoring='precision')\n",
    "print(scores.mean())\n",
    "print(f.mean())\n",
    "print(rec.mean())\n",
    "print(prec.mean())"
   ]
  },
  {
   "cell_type": "code",
   "execution_count": 58,
   "metadata": {
    "colab": {
     "base_uri": "https://localhost:8080/",
     "height": 85
    },
    "id": "9mUrOk9isPNJ",
    "outputId": "77e94b34-eea7-40cd-9417-407901324741"
   },
   "outputs": [
    {
     "name": "stdout",
     "output_type": "stream",
     "text": [
      "0.5483119818035072\n",
      "0.6392389147454447\n",
      "0.7852534562211982\n",
      "0.5516074936322575\n"
     ]
    }
   ],
   "source": [
    "pca = PCA(n_components=11)\n",
    "X_train_pca = pca.fit_transform(X)\n",
    "scores = cross_val_score(clf, X_train_pca, Y, cv=5, scoring='accuracy')\n",
    "f = cross_val_score(clf, X_train_pca, Y, cv=5, scoring='f1')\n",
    "rec = cross_val_score(clf, X_train_pca, Y, cv=5, scoring='recall')\n",
    "prec = cross_val_score(clf, X_train_pca, Y, cv=5, scoring='precision')\n",
    "print(scores.mean())\n",
    "print(f.mean())\n",
    "print(rec.mean())\n",
    "print(prec.mean())"
   ]
  },
  {
   "cell_type": "code",
   "execution_count": null,
   "metadata": {
    "id": "GR8ftJ1aCZ-P"
   },
   "outputs": [],
   "source": []
  }
 ],
 "metadata": {
  "colab": {
   "name": "Untitled4.ipynb",
   "provenance": []
  },
  "kernelspec": {
   "display_name": "Python 3",
   "language": "python",
   "name": "python3"
  },
  "language_info": {
   "codemirror_mode": {
    "name": "ipython",
    "version": 3
   },
   "file_extension": ".py",
   "mimetype": "text/x-python",
   "name": "python",
   "nbconvert_exporter": "python",
   "pygments_lexer": "ipython3",
   "version": "3.8.5"
  }
 },
 "nbformat": 4,
 "nbformat_minor": 1
}
