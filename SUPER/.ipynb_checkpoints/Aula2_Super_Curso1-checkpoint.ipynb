{
 "cells": [
  {
   "cell_type": "markdown",
   "metadata": {
    "colab_type": "text",
    "id": "j02CFpMHj6mp"
   },
   "source": [
    "**Para baixar os dados.** "
   ]
  },
  {
   "cell_type": "code",
   "execution_count": 1,
   "metadata": {
    "colab": {},
    "colab_type": "code",
    "id": "5-5WhtFFkEQ9"
   },
   "outputs": [],
   "source": [
    "def prepare_country_stats(oecd_bli, gdp_per_capita):\n",
    "    oecd_bli = oecd_bli[oecd_bli[\"INEQUALITY\"]==\"TOT\"]\n",
    "    oecd_bli = oecd_bli.pivot(index=\"Country\", columns=\"Indicator\", values=\"Value\")\n",
    "    gdp_per_capita.rename(columns={\"2015\": \"GDP per capita\"}, inplace=True)\n",
    "    gdp_per_capita.set_index(\"Country\", inplace=True)\n",
    "    full_country_stats = pd.merge(left=oecd_bli, right=gdp_per_capita,\n",
    "                                  left_index=True, right_index=True)\n",
    "    full_country_stats.sort_values(by=\"GDP per capita\", inplace=True)\n",
    "    remove_indices = [0, 1, 6, 8, 33, 34, 35]\n",
    "    keep_indices = list(set(range(36)) - set(remove_indices))\n",
    "    return full_country_stats[[\"GDP per capita\", 'Life satisfaction']].iloc[keep_indices]\n",
    "    "
   ]
  },
  {
   "cell_type": "code",
   "execution_count": 2,
   "metadata": {
    "colab": {},
    "colab_type": "code",
    "id": "9ZiOjnt2kPgY"
   },
   "outputs": [],
   "source": [
    "import os\n",
    "datapath = os.path.join(\"datasets\", \"lifesat\", \"\")"
   ]
  },
  {
   "cell_type": "code",
   "execution_count": 3,
   "metadata": {
    "colab": {
     "base_uri": "https://localhost:8080/",
     "height": 51
    },
    "colab_type": "code",
    "id": "8fv2Y7Q2kQwD",
    "outputId": "99067876-1847-4d66-b495-3257aeb1c1b0"
   },
   "outputs": [
    {
     "name": "stdout",
     "output_type": "stream",
     "text": [
      "Downloading oecd_bli_2015.csv\n",
      "Downloading gdp_per_capita.csv\n"
     ]
    }
   ],
   "source": [
    "# Fazer download dos dados\n",
    "import urllib\n",
    "DOWNLOAD_ROOT = \"https://raw.githubusercontent.com/ageron/handson-ml2/master/\"\n",
    "os.makedirs(datapath, exist_ok=True)\n",
    "for filename in (\"oecd_bli_2015.csv\", \"gdp_per_capita.csv\"):\n",
    "    print(\"Downloading\", filename)\n",
    "    url = DOWNLOAD_ROOT + \"datasets/lifesat/\" + filename\n",
    "    urllib.request.urlretrieve(url, datapath + filename)"
   ]
  },
  {
   "cell_type": "markdown",
   "metadata": {
    "colab_type": "text",
    "id": "SQYOsEMskc_7"
   },
   "source": [
    "**Vamos começar a partir daqui**\n"
   ]
  },
  {
   "cell_type": "code",
   "execution_count": 5,
   "metadata": {
    "colab": {},
    "colab_type": "code",
    "id": "7PL94-_QkkJ9"
   },
   "outputs": [],
   "source": [
    "# Importando bibliotecas necessárias\n",
    "import matplotlib\n",
    "import matplotlib.pyplot as plt\n",
    "import numpy as np\n",
    "import pandas as pd\n",
    "import sklearn\n",
    "import sklearn.linear_model"
   ]
  },
  {
   "cell_type": "code",
   "execution_count": 6,
   "metadata": {
    "colab": {},
    "colab_type": "code",
    "id": "Pai9tkTIp-rD"
   },
   "outputs": [],
   "source": [
    "# Carregue os dados \n",
    "oecd_bli = pd.read_csv(datapath + \"oecd_bli_2015.csv\", thousands=',')\n",
    "gdp_per_capita = pd.read_csv(datapath + \"gdp_per_capita.csv\",thousands=',',delimiter='\\t',\n",
    "                             encoding='latin1', na_values=\"n/a\")\n"
   ]
  },
  {
   "cell_type": "code",
   "execution_count": 7,
   "metadata": {
    "colab": {},
    "colab_type": "code",
    "id": "Do0VaAEBqPJs"
   },
   "outputs": [
    {
     "name": "stdout",
     "output_type": "stream",
     "text": [
      "(3292, 17)\n",
      "(190, 7)\n",
      "  LOCATION    Country INDICATOR                           Indicator MEASURE  \\\n",
      "0      AUS  Australia   HO_BASE  Dwellings without basic facilities       L   \n",
      "1      AUT    Austria   HO_BASE  Dwellings without basic facilities       L   \n",
      "2      BEL    Belgium   HO_BASE  Dwellings without basic facilities       L   \n",
      "\n",
      "  Measure INEQUALITY Inequality Unit Code        Unit  PowerCode Code  \\\n",
      "0   Value        TOT      Total        PC  Percentage               0   \n",
      "1   Value        TOT      Total        PC  Percentage               0   \n",
      "2   Value        TOT      Total        PC  Percentage               0   \n",
      "\n",
      "  PowerCode  Reference Period Code  Reference Period  Value Flag Codes  \\\n",
      "0     units                    NaN               NaN    1.1          E   \n",
      "1     units                    NaN               NaN    1.0        NaN   \n",
      "2     units                    NaN               NaN    2.0        NaN   \n",
      "\n",
      "             Flags  \n",
      "0  Estimated value  \n",
      "1              NaN  \n",
      "2              NaN  \n",
      "       Country                                 Subject Descriptor  \\\n",
      "0  Afghanistan  Gross domestic product per capita, current prices   \n",
      "1      Albania  Gross domestic product per capita, current prices   \n",
      "2      Algeria  Gross domestic product per capita, current prices   \n",
      "\n",
      "          Units  Scale                      Country/Series-specific Notes  \\\n",
      "0  U.S. dollars  Units  See notes for:  Gross domestic product, curren...   \n",
      "1  U.S. dollars  Units  See notes for:  Gross domestic product, curren...   \n",
      "2  U.S. dollars  Units  See notes for:  Gross domestic product, curren...   \n",
      "\n",
      "       2015  Estimates Start After  \n",
      "0   599.994                 2013.0  \n",
      "1  3995.383                 2010.0  \n",
      "2  4318.135                 2014.0  \n"
     ]
    }
   ],
   "source": [
    "# Verifique os dados \n",
    "print (oecd_bli.shape)\n",
    "print (gdp_per_capita.shape)\n",
    "print (oecd_bli.head(3))\n",
    "print (gdp_per_capita.head(3))"
   ]
  },
  {
   "cell_type": "code",
   "execution_count": 8,
   "metadata": {
    "colab": {},
    "colab_type": "code",
    "id": "7uLDOWKTq9UU"
   },
   "outputs": [],
   "source": [
    "# Por questões de simplicidade, vamos considerar a Satisfação de Vida como \n",
    "#único fator determinante de felicidade\n",
    "\n",
    "oecd_bli = pd.read_csv(datapath + \"oecd_bli_2015.csv\", thousands=',')\n",
    "gdp_per_capita = pd.read_csv(datapath + \"gdp_per_capita.csv\",thousands=',',delimiter='\\t',\n",
    "                             encoding='latin1', na_values=\"n/a\")"
   ]
  },
  {
   "cell_type": "code",
   "execution_count": 9,
   "metadata": {
    "colab": {},
    "colab_type": "code",
    "id": "IROhYjmutiCf"
   },
   "outputs": [
    {
     "name": "stdout",
     "output_type": "stream",
     "text": [
      "                 GDP per capita  Life satisfaction\n",
      "Country                                           \n",
      "Russia                 9054.914                6.0\n",
      "Turkey                 9437.372                5.6\n",
      "Hungary               12239.894                4.9\n",
      "Poland                12495.334                5.8\n",
      "Slovak Republic       15991.736                6.1\n",
      "Estonia               17288.083                5.6\n",
      "Greece                18064.288                4.8\n",
      "Portugal              19121.592                5.1\n",
      "Slovenia              20732.482                5.7\n",
      "Spain                 25864.721                6.5\n",
      "Korea                 27195.197                5.8\n",
      "Italy                 29866.581                6.0\n",
      "Japan                 32485.545                5.9\n",
      "Israel                35343.336                7.4\n",
      "New Zealand           37044.891                7.3\n",
      "France                37675.006                6.5\n",
      "Belgium               40106.632                6.9\n",
      "Germany               40996.511                7.0\n",
      "Finland               41973.988                7.4\n",
      "Canada                43331.961                7.3\n",
      "Netherlands           43603.115                7.3\n",
      "Austria               43724.031                6.9\n",
      "United Kingdom        43770.688                6.8\n",
      "Sweden                49866.266                7.2\n",
      "Iceland               50854.583                7.5\n",
      "Australia             50961.865                7.3\n",
      "Ireland               51350.744                7.0\n",
      "Denmark               52114.165                7.5\n",
      "United States         55805.204                7.2\n"
     ]
    }
   ],
   "source": [
    "# Prepare os dados\n",
    "country_stats = prepare_country_stats(oecd_bli, gdp_per_capita)\n",
    "X = np.c_[country_stats[\"GDP per capita\"]]\n",
    "y = np.c_[country_stats[\"Life satisfaction\"]]\n",
    "\n",
    "print (country_stats)\n"
   ]
  },
  {
   "cell_type": "code",
   "execution_count": 10,
   "metadata": {
    "colab": {
     "base_uri": "https://localhost:8080/",
     "height": 279
    },
    "colab_type": "code",
    "id": "BscIsNENr9_m",
    "outputId": "d8b8258c-773d-4959-b33c-ab79cf4e6862"
   },
   "outputs": [
    {
     "data": {
      "image/png": "[encoded data removed]",
      "text/plain": [
       "<Figure size 432x288 with 1 Axes>"
      ]
     },
     "metadata": {
      "needs_background": "light"
     },
     "output_type": "display_data"
    }
   ],
   "source": [
    "# Visualização dos dados\n",
    "country_stats.plot(kind='scatter', x=\"GDP per capita\", y='Life satisfaction')\n",
    "plt.show()"
   ]
  },
  {
   "cell_type": "code",
   "execution_count": 11,
   "metadata": {
    "colab": {
     "base_uri": "https://localhost:8080/",
     "height": 34
    },
    "colab_type": "code",
    "id": "_lvT_n_HsGSW",
    "outputId": "850e5e51-956f-4bdd-d2f3-917966611f02"
   },
   "outputs": [
    {
     "data": {
      "text/plain": [
       "LinearRegression()"
      ]
     },
     "execution_count": 11,
     "metadata": {},
     "output_type": "execute_result"
    }
   ],
   "source": [
    "# Selecionando um modelo linear\n",
    "model = sklearn.linear_model.LinearRegression()\n",
    "\n",
    "# Treinando o modelo\n",
    "model.fit(X, y)\n"
   ]
  },
  {
   "cell_type": "code",
   "execution_count": 12,
   "metadata": {
    "colab": {
     "base_uri": "https://localhost:8080/",
     "height": 34
    },
    "colab_type": "code",
    "id": "YqNoJKstCxVx",
    "outputId": "33caa399-4f0b-46c8-8990-c8eaea490b62"
   },
   "outputs": [
    {
     "data": {
      "text/plain": [
       "(4.853052800266436, 4.911544589158484e-05)"
      ]
     },
     "execution_count": 12,
     "metadata": {},
     "output_type": "execute_result"
    }
   ],
   "source": [
    "#Verificar os parâmetros do modelo\n",
    "t0, t1 = model.intercept_[0], model.coef_[0][0]\n",
    "t0, t1"
   ]
  },
  {
   "cell_type": "code",
   "execution_count": 13,
   "metadata": {
    "colab": {},
    "colab_type": "code",
    "id": "rqhtyrPRFW_G"
   },
   "outputs": [
    {
     "data": {
      "image/png": "[encoded data removed]",
      "text/plain": [
       "<Figure size 360x216 with 1 Axes>"
      ]
     },
     "metadata": {
      "needs_background": "light"
     },
     "output_type": "display_data"
    }
   ],
   "source": [
    "# Visualização do modelo gerado\n",
    "country_stats.plot(kind='scatter', x=\"GDP per capita\", y='Life satisfaction', figsize=(5,3))\n",
    "plt.xlabel(\"GDP per capita (USD)\")\n",
    "plt.axis([0, 60000, 0, 10])\n",
    "X=np.linspace(0, 60000, 1000)\n",
    "plt.plot(X, t0 + t1*X, \"b\")\n",
    "plt.text(5000, 3.1, r\"$\\theta_0 = 4.85$\", fontsize=14, color=\"b\")\n",
    "plt.text(5000, 2.2, r\"$\\theta_1 = 4.91 \\times 10^{-5}$\", fontsize=14, color=\"b\")\n",
    "plt.show()\n",
    "\n"
   ]
  },
  {
   "cell_type": "code",
   "execution_count": 14,
   "metadata": {
    "colab": {},
    "colab_type": "code",
    "id": "1nvxyB9VQePs"
   },
   "outputs": [
    {
     "name": "stdout",
     "output_type": "stream",
     "text": [
      "[[5.96242338]]\n"
     ]
    }
   ],
   "source": [
    "# Fazendo uma predição para o Chipre\n",
    "X_novo = [[22587]]\n",
    "\n",
    "print (model.predict(X_novo))"
   ]
  },
  {
   "cell_type": "code",
   "execution_count": null,
   "metadata": {},
   "outputs": [],
   "source": []
  }
 ],
 "metadata": {
  "colab": {
   "collapsed_sections": [],
   "name": "Aula2_Super_Curso1.ipynb",
   "provenance": []
  },
  "kernelspec": {
   "display_name": "Python 3",
   "language": "python",
   "name": "python3"
  },
  "language_info": {
   "codemirror_mode": {
    "name": "ipython",
    "version": 3
   },
   "file_extension": ".py",
   "mimetype": "text/x-python",
   "name": "python",
   "nbconvert_exporter": "python",
   "pygments_lexer": "ipython3",
   "version": "3.8.2"
  }
 },
 "nbformat": 4,
 "nbformat_minor": 1
}
