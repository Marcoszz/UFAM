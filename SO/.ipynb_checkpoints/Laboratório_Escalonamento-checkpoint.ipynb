{
 "cells": [
  {
   "cell_type": "markdown",
   "metadata": {},
   "source": [
    "### Sistemas Operacionais\n",
    "\n",
    "* Aluno: Marcos Paulo de Carvalho Lopes"
   ]
  },
  {
   "cell_type": "markdown",
   "metadata": {
    "colab_type": "text",
    "id": "t1B1lQ1sXJKr"
   },
   "source": [
    "### Laboratorio de Escalonamento ###\n",
    "\n",
    "Neste laboratório, iremos simular o funcionamento de algoritmos de escalonamento básicos para entender melhor seu funcionamento.\n",
    "\n",
    "Na célula abaixo, temos uma classe Processo, que tem as informações de execução, e uma classe de exemplo de escalonamento apenas com os protótipos:\n",
    "\n",
    "(orientação a objeto em Python)"
   ]
  },
  {
   "cell_type": "code",
   "execution_count": 3,
   "metadata": {
    "colab": {},
    "colab_type": "code",
    "id": "CKLCRHZhXJKs"
   },
   "outputs": [],
   "source": [
    "import numpy as np\n",
    "import random\n",
    "\n",
    "class Processo(object):\n",
    "    def __init__(self,pnome,pio,ptam,prioridade,tempoChegada):\n",
    "        self.nome = pnome\n",
    "        self.io = pio # Probabilidade de fazer E/S, inicialmente zero\n",
    "        self.tam = ptam # Quantos Timeslices sao necessarios para terminar\n",
    "        self.prio = prioridade # Prioridade, eh desnecessaria aora \n",
    "        self.chegada = 0\n",
    "        self.atual = 0\n",
    "\n",
    "    def roda(self,quantum=None): # se rodar sem quantum, o processor roda ate o fim\n",
    "        if(random.randint(1,100)<self.io): #Verifica se fez E/S\n",
    "            self.tam-=1\n",
    "            print(self.nome,\" fez e/s, falta \",self.tam)\n",
    "            return 1, True #True que fez E/S\n",
    "            \n",
    "            \n",
    "        if(quantum is None or self.tam<quantum):\n",
    "            quantum = self.tam\n",
    "        self.tam -=quantum\n",
    "        print(self.nome,\" rodou por \",quantum,\" timeslice, faltam \",self.tam)\n",
    "        return quantum, False # False se nao fez E/S\n",
    "    \n",
    "\n",
    "class escalonador_fifo(object): # Protótipo de escalonador de exemplo\n",
    "    \n",
    "    def __init__(self,vprontos=[]):\n",
    "        self.prontos = vprontos #processos que cheam ao tempo zero\n",
    "\n",
    "    def pronto(self,Processo): # implemente aqui o que escalonador faz quando surge um novo processo pronto\n",
    "        if(Processo not in self.prontos):\n",
    "            self.prontos.append(Processo)\n",
    "        \n",
    "        \n",
    "    def proximo(self):\n",
    "        for i in range(len(self.prontos)):\n",
    "            if self.prontos[i].tam > 0:\n",
    "                return self.prontos[i]\n",
    "            \n",
    "class escalonador_sjf(object): # Protótipo de escalonador de exemplo\n",
    "    \n",
    "    def __init__(self,vprontos=[]):\n",
    "        self.prontos = vprontos #processos que cheam ao tempo zero\n",
    "        \n",
    "    \n",
    "    def pronto(self,Processo): # implemente aqui o que escalonador faz quando surge um novo processo pronto\n",
    "        if(Processo not in self.prontos):\n",
    "            self.prontos.append(Processo)\n",
    "        \n",
    "        \n",
    "    def proximo(self):\n",
    "        self.prontos.sort(key = lambda processo: processo.tam)\n",
    "        for i in range(len(self.prontos)):\n",
    "            if self.prontos[i].tam > 0:\n",
    "                return self.prontos[i]\n",
    "\n",
    "\n",
    "class escalonador_stcf(object): # Protótipo de escalonador de exemplo\n",
    "    \n",
    "    def __init__(self,vprontos=[]):\n",
    "        self.prontos = vprontos #processos que cheam ao tempo zero\n",
    "        \n",
    "    \n",
    "    def pronto(self,Processo): # implemente aqui o que escalonador faz quando surge um novo processo pronto\n",
    "        if(Processo not in self.prontos):\n",
    "            self.prontos.append(Processo)\n",
    "        \n",
    "        \n",
    "    def proximo(self):\n",
    "        for i in range(len(self.prontos)):\n",
    "            if self.prontos[i].tam > 0:\n",
    "                return self.prontos[i]\n",
    "            \n",
    "\n",
    "class escalonador_robin(object): # Protótipo de escalonador de exemplo\n",
    "    \n",
    "    def __init__(self,vprontos=[]):\n",
    "        vprontos.sort(key=lambda processo: processo.tam)\n",
    "        self.prontos = vprontos #processos que cheam ao tempo zero\n",
    "        \n",
    "    \n",
    "    def pronto(self,Processo): # implemente aqui o que escalonador faz quando surge um novo processo pronto\n",
    "        if(Processo not in self.prontos):\n",
    "            self.prontos.append(Processo)\n",
    "        \n",
    "        \n",
    "    def proximo(self):\n",
    "        for i in range(len(self.prontos)):\n",
    "            if self.prontos[i].tam == 0:\n",
    "                self.prontos[i].atual = 1\n",
    "            if self.prontos[i].atual == 0 and self.prontos[i].tam > 0:\n",
    "                self.prontos[i].atual = 1\n",
    "                return self.prontos[i]\n",
    "            \n",
    "        if len([i for i in self.prontos if i.atual == 1]) == len(self.prontos):\n",
    "            for i in range(len(self.prontos)):\n",
    "                self.prontos[i].atual = 0\n",
    "            for i in range(len(self.prontos)):\n",
    "                if self.prontos[i].tam > 0:\n",
    "                    self.prontos[i].atual = 1\n",
    "                    return self.prontos[i]\n"
   ]
  },
  {
   "cell_type": "markdown",
   "metadata": {
    "colab_type": "text",
    "id": "14846ZyfXJKx"
   },
   "source": [
    "Na célula abaixo, são criados quatro processos completamente CPU-Bound que precisam de 3 timeslices para rodar.\n",
    "\n",
    "O valor de E/S é um número entre 0 e 100 indicando quantos porcento de chance o processo tem de fazer E/S durante seu tempo na CPU"
   ]
  },
  {
   "cell_type": "code",
   "execution_count": 8,
   "metadata": {
    "colab": {},
    "colab_type": "code",
    "id": "Rc4wVHA4XJKx"
   },
   "outputs": [],
   "source": [
    "nprocs = 5\n",
    "nomes = ['A','B','C','D','E']\n",
    "chanceio = [0,0,0,0,0] #Valor de zero a cem, chance de ser entrada e saida por enquanto deixem em zero\n",
    "tamanho = np.array([4,3,2,3,1])\n",
    "\n",
    "\n",
    "total = tamanho.sum()\n",
    "\n",
    "procs = []\n",
    "for i in range(nprocs):\n",
    "    procs.append(Processo(nomes[i],chanceio[i],tamanho[i],0,0)) #cria uma lista procs de Processos\n",
    "    \n",
    "\n"
   ]
  },
  {
   "cell_type": "markdown",
   "metadata": {
    "colab_type": "text",
    "id": "VkfIM_1iXJK0"
   },
   "source": [
    "Na célula abaixo, temos uma simulação do funcionamento de um escalonador de processos. As duas configurações importantes aqui são o valor do quantum padrão (que pode ser dinamico em algoritmos mais complexos, e quantos timeslices um processo que faz e/s passa bloqueado.\n",
    "\n",
    "Percebam que na terceira linha é instanciado o escalonador (neste caso, um round_robin). Isto foi feito assim para ser simples trocar o escalonador e repetir a simulação, bastando criar uma classe com os métodos pronto, proximo e construtor e alterar esta linha."
   ]
  },
  {
   "cell_type": "code",
   "execution_count": 9,
   "metadata": {
    "colab": {},
    "colab_type": "code",
    "id": "7LPgBMrXXJK1"
   },
   "outputs": [
    {
     "name": "stdout",
     "output_type": "stream",
     "text": [
      "E  rodou por  1  timeslice, faltam  0\n",
      "C  rodou por  2  timeslice, faltam  0\n",
      "B  rodou por  3  timeslice, faltam  0\n",
      "D  rodou por  3  timeslice, faltam  0\n",
      "A  rodou por  4  timeslice, faltam  0\n",
      "Tempo médio de execução: 6.4\n",
      "Tempo médio de resposta: 3.8\n"
     ]
    }
   ],
   "source": [
    "quantum = 2\n",
    "tempoBloq = 1\n",
    "\n",
    "escalonador = escalonador_sjf(procs) #troque escalonador pelo seu escalonador\n",
    "bloqueados = []\n",
    "\n",
    "tempo = 0\n",
    "tempoE = []\n",
    "tempoR = []\n",
    "indice = 0\n",
    "\n",
    "random.seed(0)\n",
    "\n",
    "while total>0:\n",
    "    p = escalonador.proximo()\n",
    "    if(p is not None):\n",
    "        rodou, _ = p.roda() #adicione quantum como parâmetro, por enquanto nao temos E/S\n",
    "        \n",
    "        if len(tempoE) == 0:\n",
    "            tempoE.append(rodou)\n",
    "            tempoR.append(indice)\n",
    "        else:\n",
    "            tempoE.append(rodou+tempoE[indice])\n",
    "            tempoR.append(tempoE[indice])\n",
    "            indice += 1\n",
    "            \n",
    "        if(p.tam>0):\n",
    "            escalonador.pronto(p)\n",
    "        total-=rodou\n",
    "        tempo+=rodou\n",
    "        \n",
    "    else:\n",
    "        #Reduz o tempo de todos os bloqueados em uma unidade se nao havia ninguem pronto\n",
    "        tempo+=1\n",
    "\n",
    "\n",
    "print(\"Tempo médio de execução:\",sum(tempoE)/len(tempoE))\n",
    "print(\"Tempo médio de resposta:\",sum(tempoR)/len(tempoR))\n",
    "\n",
    "\n",
    "    "
   ]
  },
  {
   "cell_type": "code",
   "execution_count": 106,
   "metadata": {},
   "outputs": [
    {
     "name": "stdout",
     "output_type": "stream",
     "text": [
      "C  rodou por  1  timeslice, faltam  1\n",
      "B  rodou por  1  timeslice, faltam  2\n",
      "D  rodou por  1  timeslice, faltam  2\n",
      "A  rodou por  1  timeslice, faltam  3\n",
      "C  rodou por  1  timeslice, faltam  0\n",
      "B  rodou por  1  timeslice, faltam  1\n",
      "D  rodou por  1  timeslice, faltam  1\n",
      "A  rodou por  1  timeslice, faltam  2\n",
      "B  rodou por  1  timeslice, faltam  0\n",
      "D  rodou por  1  timeslice, faltam  0\n",
      "A  rodou por  1  timeslice, faltam  1\n",
      "A  rodou por  1  timeslice, faltam  0\n"
     ]
    }
   ],
   "source": [
    "quantum = 1\n",
    "tempoBloq = 1\n",
    "\n",
    "escalonador = escalonador_robin(procs) #troque escalonador pelo seu escalonador\n",
    "bloqueados = []\n",
    "\n",
    "tempo = 0\n",
    "tempoE = []\n",
    "tempoR = []\n",
    "indice = 0\n",
    "\n",
    "random.seed(0)\n",
    "\n",
    "while total>0:\n",
    "    p = escalonador.proximo()\n",
    "    if(p is not None):\n",
    "        rodou, _ = p.roda(quantum) #adicione quantum como parâmetro, por enquanto nao temos E/S\n",
    "        \n",
    "        if len(tempoE) == 0:\n",
    "            tempoE.append(rodou)\n",
    "            tempoR.append(indice)\n",
    "        else:\n",
    "            tempoE.append(rodou+tempoE[indice])\n",
    "            tempoR.append(tempoE[indice])\n",
    "            indice += 1\n",
    "            \n",
    "        if(p.tam>0):\n",
    "            escalonador.pronto(p)\n",
    "        total-=rodou\n",
    "        tempo+=rodou\n",
    "        \n",
    "    else:\n",
    "        #Reduz o tempo de todos os bloqueados em uma unidade se nao havia ninguem pronto\n",
    "        tempo+=1"
   ]
  },
  {
   "cell_type": "markdown",
   "metadata": {
    "colab_type": "text",
    "id": "l-WBMAKhXJK4"
   },
   "source": [
    "### Laboratório: ###\n",
    "\n",
    "\n",
    "1 - Altere o simulador acima para calcular o tempo de execucao medio e tempo de resposta \n",
    "\n",
    "2 - Implemente o escalonador por FIFO e SJF e verifique seus tempos de execução e espera.\n",
    "\n",
    "3 - Faça em outra célula uma implementação do STCF e Round Robin, alterando o p.roda() para receber o quantum\n"
   ]
  },
  {
   "cell_type": "markdown",
   "metadata": {
    "colab_type": "text",
    "id": "G5T25EzaXJK5"
   },
   "source": [
    "Na segunda feira (15) haverá um questionário no ColabWeb onde você deverá utilizar suas implementações para responder às perguntas. Na terça de manhã farei uma breve conferência para tirar dúvidas."
   ]
  },
  {
   "cell_type": "code",
   "execution_count": 0,
   "metadata": {
    "colab": {},
    "colab_type": "code",
    "id": "BlxysVYbuuDX"
   },
   "outputs": [],
   "source": []
  }
 ],
 "metadata": {
  "colab": {
   "name": "Laboratório Escalonamento.ipynb",
   "provenance": []
  },
  "kernelspec": {
   "display_name": "Python 3",
   "language": "python",
   "name": "python3"
  },
  "language_info": {
   "codemirror_mode": {
    "name": "ipython",
    "version": 3
   },
   "file_extension": ".py",
   "mimetype": "text/x-python",
   "name": "python",
   "nbconvert_exporter": "python",
   "pygments_lexer": "ipython3",
   "version": "3.8.2"
  }
 },
 "nbformat": 4,
 "nbformat_minor": 1
}
